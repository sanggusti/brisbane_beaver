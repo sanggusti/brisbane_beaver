{
 "cells": [
  {
   "cell_type": "markdown",
   "metadata": {},
   "source": [
    "Author: Louis Owen (https://louisowen6.github.io/)"
   ]
  },
  {
   "cell_type": "code",
   "execution_count": 1,
   "metadata": {},
   "outputs": [],
   "source": [
    "import pandas as pd\n",
    "import numpy as np\n",
    "import random\n",
    "import re\n",
    "\n",
    "import copy\n",
    "\n",
    "import matplotlib.pyplot as plt\n",
    "\n",
    "from sklearn.preprocessing import StandardScaler\n",
    "from sklearn.model_selection import KFold\n",
    "from sklearn.metrics import classification_report\n",
    "\n",
    "from nltk import ngrams\n",
    "import pylcs\n",
    "from sklearn.feature_extraction.text import CountVectorizer,TfidfVectorizer\n",
    "from sklearn.decomposition import TruncatedSVD\n",
    "from sklearn.metrics.pairwise import cosine_similarity"
   ]
  },
  {
   "cell_type": "markdown",
   "metadata": {},
   "source": [
    "# Load Data"
   ]
  },
  {
   "cell_type": "code",
   "execution_count": 2,
   "metadata": {},
   "outputs": [],
   "source": [
    "df_paragraph = pd.DataFrame(columns=['category','paragraph_1','paragraph_2','len_paragraph_1','is_plagiarism','plagiarism_type','cleaned_paragraph_1','cleaned_paragraph_2'])\n",
    "\n",
    "with open('../data/plagiarism_data_train.tsv','r') as f_in:\n",
    "    for i,line in enumerate(f_in):\n",
    "        if i>0:\n",
    "            columns = line.split('\\t')\n",
    "            columns[-1] = re.sub('\\n','',columns[-1])\n",
    "            df_paragraph.loc[i] = columns"
   ]
  },
  {
   "cell_type": "code",
   "execution_count": 3,
   "metadata": {},
   "outputs": [],
   "source": [
    "df_paragraph_test = pd.DataFrame(columns=['category','paragraph_1','paragraph_2','len_paragraph_1','is_plagiarism','plagiarism_type','cleaned_paragraph_1','cleaned_paragraph_2'])\n",
    "\n",
    "with open('../data/plagiarism_data_test.tsv','r') as f_in:\n",
    "    for i,line in enumerate(f_in):\n",
    "        if i>0:\n",
    "            columns = line.split('\\t')\n",
    "            columns[-1] = re.sub('\\n','',columns[-1])\n",
    "            df_paragraph_test.loc[i] = columns"
   ]
  },
  {
   "cell_type": "code",
   "execution_count": 4,
   "metadata": {
    "scrolled": true
   },
   "outputs": [],
   "source": [
    "df_paragraph = df_paragraph[['category','plagiarism_type','is_plagiarism','cleaned_paragraph_1','cleaned_paragraph_2']].reset_index(drop=True)\n",
    "df_paragraph_test = df_paragraph_test[['category','plagiarism_type','is_plagiarism','cleaned_paragraph_1','cleaned_paragraph_2']].reset_index(drop=True)"
   ]
  },
  {
   "cell_type": "code",
   "execution_count": 5,
   "metadata": {
    "scrolled": true
   },
   "outputs": [
    {
     "data": {
      "text/html": [
       "<div>\n",
       "<style scoped>\n",
       "    .dataframe tbody tr th:only-of-type {\n",
       "        vertical-align: middle;\n",
       "    }\n",
       "\n",
       "    .dataframe tbody tr th {\n",
       "        vertical-align: top;\n",
       "    }\n",
       "\n",
       "    .dataframe thead th {\n",
       "        text-align: right;\n",
       "    }\n",
       "</style>\n",
       "<table border=\"1\" class=\"dataframe\">\n",
       "  <thead>\n",
       "    <tr style=\"text-align: right;\">\n",
       "      <th></th>\n",
       "      <th>category</th>\n",
       "      <th>plagiarism_type</th>\n",
       "      <th>is_plagiarism</th>\n",
       "      <th>cleaned_paragraph_1</th>\n",
       "      <th>cleaned_paragraph_2</th>\n",
       "    </tr>\n",
       "  </thead>\n",
       "  <tbody>\n",
       "    <tr>\n",
       "      <th>0</th>\n",
       "      <td>geography</td>\n",
       "      <td>non-plagiarism</td>\n",
       "      <td>False</td>\n",
       "      <td>1950-an auguste piccard temu batiskap trieste ...</td>\n",
       "      <td>definisi bangun usaha kondisi hidup masyarakat...</td>\n",
       "    </tr>\n",
       "    <tr>\n",
       "      <th>1</th>\n",
       "      <td>environment</td>\n",
       "      <td>structural change</td>\n",
       "      <td>True</td>\n",
       "      <td>artikel 3 4 united nations framework conventio...</td>\n",
       "      <td>maksud artikel 3 4 united nations framework co...</td>\n",
       "    </tr>\n",
       "    <tr>\n",
       "      <th>2</th>\n",
       "      <td>biology</td>\n",
       "      <td>paraphrase</td>\n",
       "      <td>True</td>\n",
       "      <td>mudah tangkap bunuh berkat cepat kuat buru jar...</td>\n",
       "      <td>mudah tangkap bunuh berkat cepat kuat buru jar...</td>\n",
       "    </tr>\n",
       "    <tr>\n",
       "      <th>3</th>\n",
       "      <td>environment</td>\n",
       "      <td>non-plagiarism</td>\n",
       "      <td>False</td>\n",
       "      <td>as angka 17 miliar kwh 27 000 000 000 lb 1 210...</td>\n",
       "      <td>hierarki sampah - hierarki sampah rujuk 3 m sa...</td>\n",
       "    </tr>\n",
       "    <tr>\n",
       "      <th>4</th>\n",
       "      <td>technology</td>\n",
       "      <td>non-plagiarism</td>\n",
       "      <td>False</td>\n",
       "      <td>letak 13 2 mil 21 2 km koordinat salah operato...</td>\n",
       "      <td>e deck upper deck manfaat akomodasi kamar tidu...</td>\n",
       "    </tr>\n",
       "    <tr>\n",
       "      <th>...</th>\n",
       "      <td>...</td>\n",
       "      <td>...</td>\n",
       "      <td>...</td>\n",
       "      <td>...</td>\n",
       "      <td>...</td>\n",
       "    </tr>\n",
       "    <tr>\n",
       "      <th>2007</th>\n",
       "      <td>environment</td>\n",
       "      <td>non-plagiarism</td>\n",
       "      <td>False</td>\n",
       "      <td>pondok pesantren asrama didik islam ponpes api...</td>\n",
       "      <td>efisiensi usaha tuju butuh alat sistem hubung ...</td>\n",
       "    </tr>\n",
       "    <tr>\n",
       "      <th>2008</th>\n",
       "      <td>chemistry</td>\n",
       "      <td>non-plagiarism</td>\n",
       "      <td>False</td>\n",
       "      <td>hukum kekal massa laku reaksi kimia massa reak...</td>\n",
       "      <td>senyawa tunggal senyawa organik metan turun</td>\n",
       "    </tr>\n",
       "    <tr>\n",
       "      <th>2009</th>\n",
       "      <td>biology</td>\n",
       "      <td>non-plagiarism</td>\n",
       "      <td>False</td>\n",
       "      <td>bakteri orang kadang sulit sembuh bakteri alam...</td>\n",
       "      <td>brevicauda pisah milik musim kawin beda beda c...</td>\n",
       "    </tr>\n",
       "    <tr>\n",
       "      <th>2010</th>\n",
       "      <td>environment</td>\n",
       "      <td>structural change</td>\n",
       "      <td>True</td>\n",
       "      <td>diagram siklus angka warna hitam simpan reserv...</td>\n",
       "      <td>diagram siklus karbonium angka warna aswad uta...</td>\n",
       "    </tr>\n",
       "    <tr>\n",
       "      <th>2011</th>\n",
       "      <td>biology</td>\n",
       "      <td>non-plagiarism</td>\n",
       "      <td>False</td>\n",
       "      <td>bidang sistematika molekuler fokus ukur moleku...</td>\n",
       "      <td>milik bentang banding kepala datar bentuk huru...</td>\n",
       "    </tr>\n",
       "  </tbody>\n",
       "</table>\n",
       "<p>2012 rows × 5 columns</p>\n",
       "</div>"
      ],
      "text/plain": [
       "         category    plagiarism_type is_plagiarism  \\\n",
       "0       geography     non-plagiarism         False   \n",
       "1     environment  structural change          True   \n",
       "2         biology         paraphrase          True   \n",
       "3     environment     non-plagiarism         False   \n",
       "4      technology     non-plagiarism         False   \n",
       "...           ...                ...           ...   \n",
       "2007  environment     non-plagiarism         False   \n",
       "2008    chemistry     non-plagiarism         False   \n",
       "2009      biology     non-plagiarism         False   \n",
       "2010  environment  structural change          True   \n",
       "2011      biology     non-plagiarism         False   \n",
       "\n",
       "                                    cleaned_paragraph_1  \\\n",
       "0     1950-an auguste piccard temu batiskap trieste ...   \n",
       "1     artikel 3 4 united nations framework conventio...   \n",
       "2     mudah tangkap bunuh berkat cepat kuat buru jar...   \n",
       "3     as angka 17 miliar kwh 27 000 000 000 lb 1 210...   \n",
       "4     letak 13 2 mil 21 2 km koordinat salah operato...   \n",
       "...                                                 ...   \n",
       "2007  pondok pesantren asrama didik islam ponpes api...   \n",
       "2008  hukum kekal massa laku reaksi kimia massa reak...   \n",
       "2009  bakteri orang kadang sulit sembuh bakteri alam...   \n",
       "2010  diagram siklus angka warna hitam simpan reserv...   \n",
       "2011  bidang sistematika molekuler fokus ukur moleku...   \n",
       "\n",
       "                                    cleaned_paragraph_2  \n",
       "0     definisi bangun usaha kondisi hidup masyarakat...  \n",
       "1     maksud artikel 3 4 united nations framework co...  \n",
       "2     mudah tangkap bunuh berkat cepat kuat buru jar...  \n",
       "3     hierarki sampah - hierarki sampah rujuk 3 m sa...  \n",
       "4     e deck upper deck manfaat akomodasi kamar tidu...  \n",
       "...                                                 ...  \n",
       "2007  efisiensi usaha tuju butuh alat sistem hubung ...  \n",
       "2008        senyawa tunggal senyawa organik metan turun  \n",
       "2009  brevicauda pisah milik musim kawin beda beda c...  \n",
       "2010  diagram siklus karbonium angka warna aswad uta...  \n",
       "2011  milik bentang banding kepala datar bentuk huru...  \n",
       "\n",
       "[2012 rows x 5 columns]"
      ]
     },
     "execution_count": 5,
     "metadata": {},
     "output_type": "execute_result"
    }
   ],
   "source": [
    "df_paragraph"
   ]
  },
  {
   "cell_type": "code",
   "execution_count": 6,
   "metadata": {
    "scrolled": true
   },
   "outputs": [
    {
     "data": {
      "text/html": [
       "<div>\n",
       "<style scoped>\n",
       "    .dataframe tbody tr th:only-of-type {\n",
       "        vertical-align: middle;\n",
       "    }\n",
       "\n",
       "    .dataframe tbody tr th {\n",
       "        vertical-align: top;\n",
       "    }\n",
       "\n",
       "    .dataframe thead th {\n",
       "        text-align: right;\n",
       "    }\n",
       "</style>\n",
       "<table border=\"1\" class=\"dataframe\">\n",
       "  <thead>\n",
       "    <tr style=\"text-align: right;\">\n",
       "      <th></th>\n",
       "      <th>category</th>\n",
       "      <th>plagiarism_type</th>\n",
       "      <th>is_plagiarism</th>\n",
       "      <th>cleaned_paragraph_1</th>\n",
       "      <th>cleaned_paragraph_2</th>\n",
       "    </tr>\n",
       "  </thead>\n",
       "  <tbody>\n",
       "    <tr>\n",
       "      <th>0</th>\n",
       "      <td>environment</td>\n",
       "      <td>non-plagiarism</td>\n",
       "      <td>False</td>\n",
       "      <td>material sampah organik residu tanam sampah ma...</td>\n",
       "      <td>ilmuwan panas global daerah utara bahan bumi u...</td>\n",
       "    </tr>\n",
       "    <tr>\n",
       "      <th>1</th>\n",
       "      <td>geography</td>\n",
       "      <td>non-plagiarism</td>\n",
       "      <td>False</td>\n",
       "      <td>faktor ubah tipe tutup lahan hutan jamah miner...</td>\n",
       "      <td>spesiasi populasi tepi jangkau isolasi kembang...</td>\n",
       "    </tr>\n",
       "    <tr>\n",
       "      <th>2</th>\n",
       "      <td>economy</td>\n",
       "      <td>non-plagiarism</td>\n",
       "      <td>False</td>\n",
       "      <td>islam bas sektor riil lihat al-baqarah 275 dik...</td>\n",
       "      <td>tekan global covid-19 jatuh harga minyak batub...</td>\n",
       "    </tr>\n",
       "    <tr>\n",
       "      <th>3</th>\n",
       "      <td>covid19</td>\n",
       "      <td>structural change</td>\n",
       "      <td>True</td>\n",
       "      <td>psbb jalan daerah perintah pusat longgar strat...</td>\n",
       "      <td>psbb berangkat medan perintah pusat longgar li...</td>\n",
       "    </tr>\n",
       "    <tr>\n",
       "      <th>4</th>\n",
       "      <td>environment</td>\n",
       "      <td>translated</td>\n",
       "      <td>True</td>\n",
       "      <td>panas global dampak suhu takut konsisten produ...</td>\n",
       "      <td>warming up global dampak suhu so then takut le...</td>\n",
       "    </tr>\n",
       "    <tr>\n",
       "      <th>...</th>\n",
       "      <td>...</td>\n",
       "      <td>...</td>\n",
       "      <td>...</td>\n",
       "      <td>...</td>\n",
       "      <td>...</td>\n",
       "    </tr>\n",
       "    <tr>\n",
       "      <th>498</th>\n",
       "      <td>environment</td>\n",
       "      <td>paraphrase</td>\n",
       "      <td>True</td>\n",
       "      <td>bentuk biomassa padat cair gas metode produksi...</td>\n",
       "      <td>bentuk biomassa padat cair gas metode produksi...</td>\n",
       "    </tr>\n",
       "    <tr>\n",
       "      <th>499</th>\n",
       "      <td>environment</td>\n",
       "      <td>structural change</td>\n",
       "      <td>True</td>\n",
       "      <td>konservasi tantang bijak program kembang tekno...</td>\n",
       "      <td>lestari tantang nan harap arif cadang ekspansi...</td>\n",
       "    </tr>\n",
       "    <tr>\n",
       "      <th>500</th>\n",
       "      <td>technology</td>\n",
       "      <td>non-plagiarism</td>\n",
       "      <td>False</td>\n",
       "      <td>garis ai paham pikir ai konvensional cerdas ko...</td>\n",
       "      <td>akurat metode cepat</td>\n",
       "    </tr>\n",
       "    <tr>\n",
       "      <th>501</th>\n",
       "      <td>biology</td>\n",
       "      <td>non-plagiarism</td>\n",
       "      <td>False</td>\n",
       "      <td>antibiotik spesifik proses bakteri mutasi bakt...</td>\n",
       "      <td>teori evolusi homologi struktur hewan milik ne...</td>\n",
       "    </tr>\n",
       "    <tr>\n",
       "      <th>502</th>\n",
       "      <td>covid19</td>\n",
       "      <td>non-plagiarism</td>\n",
       "      <td>False</td>\n",
       "      <td>2021 kalimantan selatan alami rentet ledak 11 ...</td>\n",
       "      <td>enam resiko tular corona sekolah sekolah sekol...</td>\n",
       "    </tr>\n",
       "  </tbody>\n",
       "</table>\n",
       "<p>503 rows × 5 columns</p>\n",
       "</div>"
      ],
      "text/plain": [
       "        category    plagiarism_type is_plagiarism  \\\n",
       "0    environment     non-plagiarism         False   \n",
       "1      geography     non-plagiarism         False   \n",
       "2        economy     non-plagiarism         False   \n",
       "3        covid19  structural change          True   \n",
       "4    environment         translated          True   \n",
       "..           ...                ...           ...   \n",
       "498  environment         paraphrase          True   \n",
       "499  environment  structural change          True   \n",
       "500   technology     non-plagiarism         False   \n",
       "501      biology     non-plagiarism         False   \n",
       "502      covid19     non-plagiarism         False   \n",
       "\n",
       "                                   cleaned_paragraph_1  \\\n",
       "0    material sampah organik residu tanam sampah ma...   \n",
       "1    faktor ubah tipe tutup lahan hutan jamah miner...   \n",
       "2    islam bas sektor riil lihat al-baqarah 275 dik...   \n",
       "3    psbb jalan daerah perintah pusat longgar strat...   \n",
       "4    panas global dampak suhu takut konsisten produ...   \n",
       "..                                                 ...   \n",
       "498  bentuk biomassa padat cair gas metode produksi...   \n",
       "499  konservasi tantang bijak program kembang tekno...   \n",
       "500  garis ai paham pikir ai konvensional cerdas ko...   \n",
       "501  antibiotik spesifik proses bakteri mutasi bakt...   \n",
       "502  2021 kalimantan selatan alami rentet ledak 11 ...   \n",
       "\n",
       "                                   cleaned_paragraph_2  \n",
       "0    ilmuwan panas global daerah utara bahan bumi u...  \n",
       "1    spesiasi populasi tepi jangkau isolasi kembang...  \n",
       "2    tekan global covid-19 jatuh harga minyak batub...  \n",
       "3    psbb berangkat medan perintah pusat longgar li...  \n",
       "4    warming up global dampak suhu so then takut le...  \n",
       "..                                                 ...  \n",
       "498  bentuk biomassa padat cair gas metode produksi...  \n",
       "499  lestari tantang nan harap arif cadang ekspansi...  \n",
       "500                                akurat metode cepat  \n",
       "501  teori evolusi homologi struktur hewan milik ne...  \n",
       "502  enam resiko tular corona sekolah sekolah sekol...  \n",
       "\n",
       "[503 rows x 5 columns]"
      ]
     },
     "execution_count": 6,
     "metadata": {},
     "output_type": "execute_result"
    }
   ],
   "source": [
    "df_paragraph_test"
   ]
  },
  {
   "cell_type": "markdown",
   "metadata": {},
   "source": [
    "# Feature Engineering"
   ]
  },
  {
   "cell_type": "code",
   "execution_count": 7,
   "metadata": {},
   "outputs": [],
   "source": [
    "def extract_ngram_similarity(sentence_1,sentence_2,n=4):\n",
    "    ngrams_set_1 = set()\n",
    "    ngrams_set_2 = set()\n",
    "    \n",
    "    ngram1 = ngrams(sentence_1.split(), n)\n",
    "    for grams in ngram1:\n",
    "        ngrams_set_1.add(grams)\n",
    "        \n",
    "    ngram2 = ngrams(sentence_2.split(), n)\n",
    "    for grams in ngram2:\n",
    "        ngrams_set_2.add(grams)\n",
    "    \n",
    "    try:\n",
    "        jaccard_sim = len(ngrams_set_1.intersection(ngrams_set_2)) / len(ngrams_set_1.union(ngrams_set_2))\n",
    "\n",
    "        return jaccard_sim\n",
    "    except:\n",
    "        return 0"
   ]
  },
  {
   "cell_type": "code",
   "execution_count": 8,
   "metadata": {},
   "outputs": [],
   "source": [
    "def feature_engineering(df_train,df_test):\n",
    "    corpus = df_train['cleaned_paragraph_1'].to_list() + df_train['cleaned_paragraph_2'].to_list()\n",
    "    \n",
    "    # Word Pairs\n",
    "    bigram_vectorizer = CountVectorizer(analyzer='word', ngram_range=(2, 2), min_df=0.002)\n",
    "    bigram_vectorizer.fit(corpus)\n",
    "    \n",
    "    transformed_array_train = bigram_vectorizer.transform(df_train['cleaned_paragraph_1'] + ' '+ df_train['cleaned_paragraph_2']).toarray()\n",
    "    transformed_array_test = bigram_vectorizer.transform(df_test['cleaned_paragraph_1'] + ' '+ df_test['cleaned_paragraph_2']).toarray()\n",
    "    num_feats = transformed_array_train.shape[1]\n",
    "\n",
    "    df_preprocessed = pd.DataFrame(transformed_array_train,columns=[f'word_pairs_{i}' for i in range(num_feats)])\n",
    "    df_preprocessed_test = pd.DataFrame(transformed_array_test,columns=[f'word_pairs_{i}' for i in range(num_feats)])\n",
    "    \n",
    "    # Words Similarity\n",
    "    df_preprocessed['words_similarity'] = df_train.apply(lambda x: extract_ngram_similarity(x['cleaned_paragraph_1'],x['cleaned_paragraph_2'],n=1), axis=1)\n",
    "    df_preprocessed_test['words_similarity'] = df_test.apply(lambda x: extract_ngram_similarity(x['cleaned_paragraph_1'],x['cleaned_paragraph_2'],n=1), axis=1)\n",
    "    \n",
    "    # Fingerprints Similarity\n",
    "    df_preprocessed['fingerprint_similarity'] = df_train.apply(lambda x: extract_ngram_similarity(x['cleaned_paragraph_1'],x['cleaned_paragraph_2'],n=4), axis=1)\n",
    "    df_preprocessed_test['fingerprint_similarity'] = df_test.apply(lambda x: extract_ngram_similarity(x['cleaned_paragraph_1'],x['cleaned_paragraph_2'],n=4), axis=1)\n",
    "    \n",
    "    # Longest Common Subsequence\n",
    "    df_preprocessed['lcs'] = df_train.apply(lambda x: pylcs.lcs2(x['cleaned_paragraph_1'],x['cleaned_paragraph_2'])/max(len(x['cleaned_paragraph_1']),len(x['cleaned_paragraph_2'])), axis=1)\n",
    "    df_preprocessed_test['lcs'] = df_test.apply(lambda x: pylcs.lcs2(x['cleaned_paragraph_1'],x['cleaned_paragraph_2'])/max(len(x['cleaned_paragraph_1']),len(x['cleaned_paragraph_2'])), axis=1)\n",
    "    \n",
    "    # LSA Similarity\n",
    "    num_component = 200\n",
    "    tfidf_vectorizer = TfidfVectorizer(use_idf=True,smooth_idf=True)\n",
    "    lsa = TruncatedSVD(num_component, algorithm = 'randomized',random_state=0)\n",
    "\n",
    "    tfidf_vectorizer.fit(corpus)\n",
    "    dtm = tfidf_vectorizer.transform(corpus)\n",
    "    lsa.fit(dtm)\n",
    "    \n",
    "    dtm_lsa_train_1 = lsa.transform(tfidf_vectorizer.transform(df_train['cleaned_paragraph_1'].to_list()))\n",
    "    dtm_lsa_train_2 = lsa.transform(tfidf_vectorizer.transform(df_train['cleaned_paragraph_2'].to_list()))\n",
    "    \n",
    "    cosine_sim_train = []\n",
    "    for i in range(dtm_lsa_train_1.shape[0]):\n",
    "        cosine_sim_train.append(cosine_similarity([dtm_lsa_train_1[i]],[dtm_lsa_train_2[i]])[0][0])\n",
    "    \n",
    "    dtm_lsa_test_1 = lsa.transform(tfidf_vectorizer.transform(df_test['cleaned_paragraph_1'].to_list()))\n",
    "    dtm_lsa_test_2 = lsa.transform(tfidf_vectorizer.transform(df_test['cleaned_paragraph_2'].to_list()))\n",
    "    \n",
    "    cosine_sim_test = []\n",
    "    for i in range(dtm_lsa_test_1.shape[0]):\n",
    "        cosine_sim_test.append(cosine_similarity([dtm_lsa_test_1[i]],[dtm_lsa_test_2[i]])[0][0])\n",
    "    \n",
    "    df_preprocessed['lsa_similarity'] = cosine_sim_train\n",
    "    df_preprocessed_test['lsa_similarity'] = cosine_sim_test\n",
    "    \n",
    "    # Add Target Variables\n",
    "    df_preprocessed[['category','plagiarism_type','is_plagiarism']] = df_train[['category','plagiarism_type','is_plagiarism']]\n",
    "    df_preprocessed_test[['category','plagiarism_type','is_plagiarism']] = df_test[['category','plagiarism_type','is_plagiarism']]\n",
    "    \n",
    "    return df_preprocessed,df_preprocessed_test"
   ]
  },
  {
   "cell_type": "code",
   "execution_count": 9,
   "metadata": {},
   "outputs": [],
   "source": [
    "df_preprocessed,df_preprocessed_test = feature_engineering(df_paragraph,df_paragraph_test)"
   ]
  },
  {
   "cell_type": "code",
   "execution_count": 10,
   "metadata": {},
   "outputs": [
    {
     "data": {
      "image/png": "[encoded data removed]",
      "text/plain": [
       "<Figure size 1152x1152 with 6 Axes>"
      ]
     },
     "metadata": {
      "needs_background": "light"
     },
     "output_type": "display_data"
    }
   ],
   "source": [
    "df_preprocessed[[x for x in df_preprocessed.columns if 'word_pairs' not in x]].groupby('plagiarism_type').boxplot(rot=10, fontsize=12, figsize=(16,16))\n",
    "plt.show()"
   ]
  },
  {
   "cell_type": "markdown",
   "metadata": {},
   "source": [
    "# Cross-Validation"
   ]
  },
  {
   "cell_type": "code",
   "execution_count": 23,
   "metadata": {},
   "outputs": [],
   "source": [
    "def run_pipeline(df_paragraph_train,df_paragraph_val,model,use_scaler,return_model=False,inference_mode=False):\n",
    "    model_temp = copy.deepcopy(model)\n",
    "    \n",
    "    df_preprocessed_train,df_preprocessed_val = feature_engineering(df_paragraph_train,df_paragraph_val)\n",
    "    X_train = df_preprocessed_train.drop(columns=['category','plagiarism_type','is_plagiarism'])\n",
    "    y_train = df_preprocessed_train['is_plagiarism'].apply(lambda x: 1 if x=='True' else 0)\n",
    "\n",
    "    if use_scaler:\n",
    "        scaler = StandardScaler()\n",
    "        X_train = scaler.fit_transform(X_train)\n",
    "\n",
    "    X_val = df_preprocessed_val.drop(columns=['category','plagiarism_type','is_plagiarism'])\n",
    "    y_val = df_preprocessed_val['is_plagiarism'].apply(lambda x: 1 if x=='True' else 0)\n",
    "\n",
    "    if use_scaler:\n",
    "        X_val = scaler.transform(X_val)\n",
    "    \n",
    "    if not inference_mode:\n",
    "        model_temp.fit(X_train, y_train)\n",
    "\n",
    "    y_pred = model_temp.predict(X_val)\n",
    "    \n",
    "    if return_model:\n",
    "        return y_val,y_pred,model_temp\n",
    "    else:\n",
    "        return y_val,y_pred"
   ]
  },
  {
   "cell_type": "code",
   "execution_count": 12,
   "metadata": {},
   "outputs": [],
   "source": [
    "def cross_val_pipeline(df_paragraph,model,metric='accuracy',use_scaler=False):\n",
    "    metrics_list = []\n",
    "\n",
    "    kf = KFold(n_splits=7,shuffle=True,random_state=0)\n",
    "    for train_index, val_index in kf.split(df_paragraph):\n",
    "        df_paragraph_train = df_paragraph.loc[train_index].reset_index(drop=True)\n",
    "        df_paragraph_val = df_paragraph.loc[val_index].reset_index(drop=True)\n",
    "        \n",
    "        y_val,y_pred = run_pipeline(df_paragraph_train,df_paragraph_val,model,use_scaler)\n",
    "\n",
    "        print(classification_report(y_val, y_pred))\n",
    "\n",
    "        metrics_list.append(classification_report(y_val, y_pred,output_dict=True)[metric])\n",
    "        \n",
    "    return metrics_list"
   ]
  },
  {
   "cell_type": "markdown",
   "metadata": {},
   "source": [
    "## Naive Bayes"
   ]
  },
  {
   "cell_type": "code",
   "execution_count": 13,
   "metadata": {},
   "outputs": [],
   "source": [
    "from sklearn.naive_bayes import GaussianNB"
   ]
  },
  {
   "cell_type": "code",
   "execution_count": 14,
   "metadata": {
    "scrolled": true
   },
   "outputs": [
    {
     "name": "stdout",
     "output_type": "stream",
     "text": [
      "              precision    recall  f1-score   support\n",
      "\n",
      "           0       0.97      0.67      0.80       144\n",
      "           1       0.75      0.98      0.85       144\n",
      "\n",
      "    accuracy                           0.83       288\n",
      "   macro avg       0.86      0.83      0.82       288\n",
      "weighted avg       0.86      0.83      0.82       288\n",
      "\n",
      "              precision    recall  f1-score   support\n",
      "\n",
      "           0       0.97      0.68      0.80       165\n",
      "           1       0.69      0.98      0.81       123\n",
      "\n",
      "    accuracy                           0.81       288\n",
      "   macro avg       0.83      0.83      0.81       288\n",
      "weighted avg       0.85      0.81      0.80       288\n",
      "\n",
      "              precision    recall  f1-score   support\n",
      "\n",
      "           0       0.97      0.72      0.82       130\n",
      "           1       0.81      0.98      0.89       158\n",
      "\n",
      "    accuracy                           0.86       288\n",
      "   macro avg       0.89      0.85      0.85       288\n",
      "weighted avg       0.88      0.86      0.86       288\n",
      "\n",
      "              precision    recall  f1-score   support\n",
      "\n",
      "           0       0.92      0.74      0.82       148\n",
      "           1       0.77      0.94      0.84       139\n",
      "\n",
      "    accuracy                           0.83       287\n",
      "   macro avg       0.85      0.84      0.83       287\n",
      "weighted avg       0.85      0.83      0.83       287\n",
      "\n",
      "              precision    recall  f1-score   support\n",
      "\n",
      "           0       0.87      0.18      0.30       141\n",
      "           1       0.55      0.97      0.70       146\n",
      "\n",
      "    accuracy                           0.59       287\n",
      "   macro avg       0.71      0.58      0.50       287\n",
      "weighted avg       0.71      0.59      0.51       287\n",
      "\n",
      "              precision    recall  f1-score   support\n",
      "\n",
      "           0       0.93      0.71      0.81       140\n",
      "           1       0.78      0.95      0.86       147\n",
      "\n",
      "    accuracy                           0.84       287\n",
      "   macro avg       0.86      0.83      0.83       287\n",
      "weighted avg       0.85      0.84      0.83       287\n",
      "\n",
      "              precision    recall  f1-score   support\n",
      "\n",
      "           0       0.97      0.69      0.81       139\n",
      "           1       0.77      0.98      0.86       148\n",
      "\n",
      "    accuracy                           0.84       287\n",
      "   macro avg       0.87      0.84      0.83       287\n",
      "weighted avg       0.87      0.84      0.84       287\n",
      "\n"
     ]
    }
   ],
   "source": [
    "acc_list = cross_val_pipeline(df_paragraph,GaussianNB(),metric='accuracy',use_scaler=False)"
   ]
  },
  {
   "cell_type": "code",
   "execution_count": 15,
   "metadata": {},
   "outputs": [
    {
     "name": "stdout",
     "output_type": "stream",
     "text": [
      "Accuracy | Avg: 0.79816, Std. 0.08821\n"
     ]
    }
   ],
   "source": [
    "print(f'Accuracy | Avg: {round(np.mean(acc_list),5)}, Std. {round(np.std(acc_list),5)}')"
   ]
  },
  {
   "cell_type": "markdown",
   "metadata": {},
   "source": [
    "## SVM"
   ]
  },
  {
   "cell_type": "code",
   "execution_count": 16,
   "metadata": {},
   "outputs": [],
   "source": [
    "from sklearn.svm import SVC"
   ]
  },
  {
   "cell_type": "code",
   "execution_count": 17,
   "metadata": {
    "scrolled": true
   },
   "outputs": [
    {
     "name": "stdout",
     "output_type": "stream",
     "text": [
      "              precision    recall  f1-score   support\n",
      "\n",
      "           0       0.99      0.99      0.99       144\n",
      "           1       0.99      0.99      0.99       144\n",
      "\n",
      "    accuracy                           0.99       288\n",
      "   macro avg       0.99      0.99      0.99       288\n",
      "weighted avg       0.99      0.99      0.99       288\n",
      "\n",
      "              precision    recall  f1-score   support\n",
      "\n",
      "           0       0.98      0.98      0.98       165\n",
      "           1       0.98      0.98      0.98       123\n",
      "\n",
      "    accuracy                           0.98       288\n",
      "   macro avg       0.98      0.98      0.98       288\n",
      "weighted avg       0.98      0.98      0.98       288\n",
      "\n",
      "              precision    recall  f1-score   support\n",
      "\n",
      "           0       0.98      0.98      0.98       130\n",
      "           1       0.98      0.98      0.98       158\n",
      "\n",
      "    accuracy                           0.98       288\n",
      "   macro avg       0.98      0.98      0.98       288\n",
      "weighted avg       0.98      0.98      0.98       288\n",
      "\n",
      "              precision    recall  f1-score   support\n",
      "\n",
      "           0       0.97      0.99      0.98       148\n",
      "           1       0.99      0.96      0.97       139\n",
      "\n",
      "    accuracy                           0.98       287\n",
      "   macro avg       0.98      0.98      0.98       287\n",
      "weighted avg       0.98      0.98      0.98       287\n",
      "\n",
      "              precision    recall  f1-score   support\n",
      "\n",
      "           0       0.99      0.99      0.99       141\n",
      "           1       0.99      0.99      0.99       146\n",
      "\n",
      "    accuracy                           0.99       287\n",
      "   macro avg       0.99      0.99      0.99       287\n",
      "weighted avg       0.99      0.99      0.99       287\n",
      "\n",
      "              precision    recall  f1-score   support\n",
      "\n",
      "           0       0.99      0.98      0.98       140\n",
      "           1       0.98      0.99      0.98       147\n",
      "\n",
      "    accuracy                           0.98       287\n",
      "   macro avg       0.98      0.98      0.98       287\n",
      "weighted avg       0.98      0.98      0.98       287\n",
      "\n",
      "              precision    recall  f1-score   support\n",
      "\n",
      "           0       0.99      0.99      0.99       139\n",
      "           1       0.99      0.99      0.99       148\n",
      "\n",
      "    accuracy                           0.99       287\n",
      "   macro avg       0.99      0.99      0.99       287\n",
      "weighted avg       0.99      0.99      0.99       287\n",
      "\n"
     ]
    }
   ],
   "source": [
    "acc_list = cross_val_pipeline(df_paragraph,SVC(gamma='auto',kernel='linear'),metric='accuracy',use_scaler=False)"
   ]
  },
  {
   "cell_type": "code",
   "execution_count": 18,
   "metadata": {},
   "outputs": [
    {
     "name": "stdout",
     "output_type": "stream",
     "text": [
      "Accuracy | Avg: 0.9831, Std. 0.00507\n"
     ]
    }
   ],
   "source": [
    "print(f'Accuracy | Avg: {round(np.mean(acc_list),5)}, Std. {round(np.std(acc_list),5)}')"
   ]
  },
  {
   "cell_type": "markdown",
   "metadata": {},
   "source": [
    "## Random Forest"
   ]
  },
  {
   "cell_type": "code",
   "execution_count": 14,
   "metadata": {},
   "outputs": [],
   "source": [
    "from sklearn.ensemble import RandomForestClassifier"
   ]
  },
  {
   "cell_type": "code",
   "execution_count": 20,
   "metadata": {
    "scrolled": true
   },
   "outputs": [
    {
     "name": "stdout",
     "output_type": "stream",
     "text": [
      "              precision    recall  f1-score   support\n",
      "\n",
      "           0       0.99      1.00      0.99       144\n",
      "           1       1.00      0.99      0.99       144\n",
      "\n",
      "    accuracy                           0.99       288\n",
      "   macro avg       0.99      0.99      0.99       288\n",
      "weighted avg       0.99      0.99      0.99       288\n",
      "\n",
      "              precision    recall  f1-score   support\n",
      "\n",
      "           0       0.99      0.99      0.99       165\n",
      "           1       0.98      0.98      0.98       123\n",
      "\n",
      "    accuracy                           0.99       288\n",
      "   macro avg       0.99      0.99      0.99       288\n",
      "weighted avg       0.99      0.99      0.99       288\n",
      "\n",
      "              precision    recall  f1-score   support\n",
      "\n",
      "           0       0.98      0.99      0.99       130\n",
      "           1       0.99      0.99      0.99       158\n",
      "\n",
      "    accuracy                           0.99       288\n",
      "   macro avg       0.99      0.99      0.99       288\n",
      "weighted avg       0.99      0.99      0.99       288\n",
      "\n",
      "              precision    recall  f1-score   support\n",
      "\n",
      "           0       0.99      0.99      0.99       148\n",
      "           1       0.99      0.99      0.99       139\n",
      "\n",
      "    accuracy                           0.99       287\n",
      "   macro avg       0.99      0.99      0.99       287\n",
      "weighted avg       0.99      0.99      0.99       287\n",
      "\n",
      "              precision    recall  f1-score   support\n",
      "\n",
      "           0       0.99      0.99      0.99       141\n",
      "           1       0.99      0.99      0.99       146\n",
      "\n",
      "    accuracy                           0.99       287\n",
      "   macro avg       0.99      0.99      0.99       287\n",
      "weighted avg       0.99      0.99      0.99       287\n",
      "\n",
      "              precision    recall  f1-score   support\n",
      "\n",
      "           0       1.00      0.98      0.99       140\n",
      "           1       0.98      1.00      0.99       147\n",
      "\n",
      "    accuracy                           0.99       287\n",
      "   macro avg       0.99      0.99      0.99       287\n",
      "weighted avg       0.99      0.99      0.99       287\n",
      "\n",
      "              precision    recall  f1-score   support\n",
      "\n",
      "           0       0.99      0.99      0.99       139\n",
      "           1       0.99      0.99      0.99       148\n",
      "\n",
      "    accuracy                           0.99       287\n",
      "   macro avg       0.99      0.99      0.99       287\n",
      "weighted avg       0.99      0.99      0.99       287\n",
      "\n"
     ]
    }
   ],
   "source": [
    "acc_list = cross_val_pipeline(df_paragraph,RandomForestClassifier(random_state=0,n_estimators=100),metric='accuracy',use_scaler=False)"
   ]
  },
  {
   "cell_type": "code",
   "execution_count": 21,
   "metadata": {},
   "outputs": [
    {
     "name": "stdout",
     "output_type": "stream",
     "text": [
      "Accuracy | Avg: 0.98956, Std. 0.00186\n"
     ]
    }
   ],
   "source": [
    "print(f'Accuracy | Avg: {round(np.mean(acc_list),5)}, Std. {round(np.std(acc_list),5)}')"
   ]
  },
  {
   "cell_type": "markdown",
   "metadata": {},
   "source": [
    "## XGBoost"
   ]
  },
  {
   "cell_type": "code",
   "execution_count": 22,
   "metadata": {},
   "outputs": [],
   "source": [
    "from sklearn.ensemble import GradientBoostingClassifier"
   ]
  },
  {
   "cell_type": "code",
   "execution_count": 23,
   "metadata": {
    "scrolled": true
   },
   "outputs": [
    {
     "name": "stdout",
     "output_type": "stream",
     "text": [
      "              precision    recall  f1-score   support\n",
      "\n",
      "           0       0.99      1.00      0.99       144\n",
      "           1       1.00      0.99      0.99       144\n",
      "\n",
      "    accuracy                           0.99       288\n",
      "   macro avg       0.99      0.99      0.99       288\n",
      "weighted avg       0.99      0.99      0.99       288\n",
      "\n",
      "              precision    recall  f1-score   support\n",
      "\n",
      "           0       0.99      0.98      0.98       165\n",
      "           1       0.98      0.98      0.98       123\n",
      "\n",
      "    accuracy                           0.98       288\n",
      "   macro avg       0.98      0.98      0.98       288\n",
      "weighted avg       0.98      0.98      0.98       288\n",
      "\n",
      "              precision    recall  f1-score   support\n",
      "\n",
      "           0       0.99      0.99      0.99       130\n",
      "           1       0.99      0.99      0.99       158\n",
      "\n",
      "    accuracy                           0.99       288\n",
      "   macro avg       0.99      0.99      0.99       288\n",
      "weighted avg       0.99      0.99      0.99       288\n",
      "\n",
      "              precision    recall  f1-score   support\n",
      "\n",
      "           0       0.98      0.99      0.98       148\n",
      "           1       0.99      0.98      0.98       139\n",
      "\n",
      "    accuracy                           0.98       287\n",
      "   macro avg       0.98      0.98      0.98       287\n",
      "weighted avg       0.98      0.98      0.98       287\n",
      "\n",
      "              precision    recall  f1-score   support\n",
      "\n",
      "           0       0.99      0.98      0.98       141\n",
      "           1       0.98      0.99      0.98       146\n",
      "\n",
      "    accuracy                           0.98       287\n",
      "   macro avg       0.98      0.98      0.98       287\n",
      "weighted avg       0.98      0.98      0.98       287\n",
      "\n",
      "              precision    recall  f1-score   support\n",
      "\n",
      "           0       0.99      0.98      0.99       140\n",
      "           1       0.98      0.99      0.99       147\n",
      "\n",
      "    accuracy                           0.99       287\n",
      "   macro avg       0.99      0.99      0.99       287\n",
      "weighted avg       0.99      0.99      0.99       287\n",
      "\n",
      "              precision    recall  f1-score   support\n",
      "\n",
      "           0       0.99      0.99      0.99       139\n",
      "           1       0.99      0.99      0.99       148\n",
      "\n",
      "    accuracy                           0.99       287\n",
      "   macro avg       0.99      0.99      0.99       287\n",
      "weighted avg       0.99      0.99      0.99       287\n",
      "\n"
     ]
    }
   ],
   "source": [
    "acc_list = cross_val_pipeline(df_paragraph,GradientBoostingClassifier(random_state=0,n_estimators=100,learning_rate=0.15),metric='accuracy',use_scaler=False)"
   ]
  },
  {
   "cell_type": "code",
   "execution_count": 24,
   "metadata": {},
   "outputs": [
    {
     "name": "stdout",
     "output_type": "stream",
     "text": [
      "Accuracy | Avg: 0.98707, Std. 0.00445\n"
     ]
    }
   ],
   "source": [
    "print(f'Accuracy | Avg: {round(np.mean(acc_list),5)}, Std. {round(np.std(acc_list),5)}')"
   ]
  },
  {
   "cell_type": "markdown",
   "metadata": {},
   "source": [
    "# Hold-Out Prediction"
   ]
  },
  {
   "cell_type": "code",
   "execution_count": 15,
   "metadata": {},
   "outputs": [],
   "source": [
    "from sklearn.ensemble import RandomForestClassifier"
   ]
  },
  {
   "cell_type": "code",
   "execution_count": 16,
   "metadata": {},
   "outputs": [
    {
     "name": "stdout",
     "output_type": "stream",
     "text": [
      "              precision    recall  f1-score   support\n",
      "\n",
      "           0       0.99      0.98      0.98       252\n",
      "           1       0.98      0.99      0.98       251\n",
      "\n",
      "    accuracy                           0.98       503\n",
      "   macro avg       0.98      0.98      0.98       503\n",
      "weighted avg       0.98      0.98      0.98       503\n",
      "\n"
     ]
    }
   ],
   "source": [
    "y_test,y_pred,fitted_model = run_pipeline(df_paragraph,df_paragraph_test,\n",
    "                                         RandomForestClassifier(random_state=0,n_estimators=100),\n",
    "                                         use_scaler=False,return_model=True)\n",
    "print(classification_report(y_test, y_pred))"
   ]
  },
  {
   "cell_type": "code",
   "execution_count": 17,
   "metadata": {},
   "outputs": [
    {
     "data": {
      "text/plain": [
       "0.9840954274353877"
      ]
     },
     "execution_count": 17,
     "metadata": {},
     "output_type": "execute_result"
    }
   ],
   "source": [
    "classification_report(y_test, y_pred,output_dict=True)['accuracy']"
   ]
  },
  {
   "cell_type": "code",
   "execution_count": 18,
   "metadata": {},
   "outputs": [
    {
     "data": {
      "text/plain": [
       "0.9840948616600791"
      ]
     },
     "execution_count": 18,
     "metadata": {},
     "output_type": "execute_result"
    }
   ],
   "source": [
    "classification_report(y_test, y_pred,output_dict=True)['macro avg']['f1-score']"
   ]
  },
  {
   "cell_type": "code",
   "execution_count": null,
   "metadata": {},
   "outputs": [],
   "source": []
  },
  {
   "cell_type": "code",
   "execution_count": 20,
   "metadata": {},
   "outputs": [],
   "source": [
    "import pickle"
   ]
  },
  {
   "cell_type": "code",
   "execution_count": 19,
   "metadata": {},
   "outputs": [
    {
     "data": {
      "text/plain": [
       "RandomForestClassifier(bootstrap=True, ccp_alpha=0.0, class_weight=None,\n",
       "                       criterion='gini', max_depth=None, max_features='auto',\n",
       "                       max_leaf_nodes=None, max_samples=None,\n",
       "                       min_impurity_decrease=0.0, min_impurity_split=None,\n",
       "                       min_samples_leaf=1, min_samples_split=2,\n",
       "                       min_weight_fraction_leaf=0.0, n_estimators=100,\n",
       "                       n_jobs=None, oob_score=False, random_state=0, verbose=0,\n",
       "                       warm_start=False)"
      ]
     },
     "execution_count": 19,
     "metadata": {},
     "output_type": "execute_result"
    }
   ],
   "source": [
    "fitted_model"
   ]
  },
  {
   "cell_type": "code",
   "execution_count": 21,
   "metadata": {},
   "outputs": [],
   "source": [
    "pickle.dump(fitted_model, open('../model/classic_ml_model.pkl', 'wb'))"
   ]
  },
  {
   "cell_type": "code",
   "execution_count": 22,
   "metadata": {},
   "outputs": [],
   "source": [
    "loaded_model = pickle.load(open('../model/classic_ml_model.pkl', 'rb'))"
   ]
  },
  {
   "cell_type": "code",
   "execution_count": 25,
   "metadata": {},
   "outputs": [
    {
     "name": "stdout",
     "output_type": "stream",
     "text": [
      "              precision    recall  f1-score   support\n",
      "\n",
      "           0       0.99      0.98      0.98       252\n",
      "           1       0.98      0.99      0.98       251\n",
      "\n",
      "    accuracy                           0.98       503\n",
      "   macro avg       0.98      0.98      0.98       503\n",
      "weighted avg       0.98      0.98      0.98       503\n",
      "\n"
     ]
    }
   ],
   "source": [
    "y_test,y_pred = run_pipeline(df_paragraph,df_paragraph_test,\n",
    "                             loaded_model,\n",
    "                             use_scaler=False,return_model=False,inference_mode=True)\n",
    "print(classification_report(y_test, y_pred))"
   ]
  }
 ],
 "metadata": {
  "kernelspec": {
   "display_name": "Python [conda env:test_env]",
   "language": "python",
   "name": "conda-env-test_env-py"
  },
  "language_info": {
   "codemirror_mode": {
    "name": "ipython",
    "version": 3
   },
   "file_extension": ".py",
   "mimetype": "text/x-python",
   "name": "python",
   "nbconvert_exporter": "python",
   "pygments_lexer": "ipython3",
   "version": "3.6.12"
  }
 },
 "nbformat": 4,
 "nbformat_minor": 4
}
