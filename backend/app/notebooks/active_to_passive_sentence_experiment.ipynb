{
 "cells": [
  {
   "cell_type": "markdown",
   "metadata": {},
   "source": [
    "Author: Louis Owen (https://louisowen6.github.io/)"
   ]
  },
  {
   "cell_type": "code",
   "execution_count": 1,
   "metadata": {},
   "outputs": [],
   "source": [
    "import numpy as np\n",
    "import re\n",
    "\n",
    "from nlp_id.postag import PosTag\n",
    "\n",
    "from Sastrawi.Stemmer.StemmerFactory import StemmerFactory\n",
    "factory = StemmerFactory()\n",
    "stemmer = factory.create_stemmer()"
   ]
  },
  {
   "cell_type": "code",
   "execution_count": 2,
   "metadata": {},
   "outputs": [],
   "source": [
    "def get_first_last_consecutive_index(arr,main_element,element_list):\n",
    "    if main_element in arr :\n",
    "        first_idx = arr.index(main_element)\n",
    "        \n",
    "        last_idx = first_idx\n",
    "        for el in arr[first_idx+1:]:\n",
    "            if all(el!=element for element in element_list):\n",
    "                break\n",
    "            else:\n",
    "                last_idx += 1\n",
    "        \n",
    "        return first_idx,last_idx\n",
    "    else:\n",
    "        return np.inf, np.inf"
   ]
  },
  {
   "cell_type": "code",
   "execution_count": 3,
   "metadata": {},
   "outputs": [],
   "source": [
    "def active_to_passive(phrase_pos_list):\n",
    "    phrase_list = [x[0] for x in phrase_pos_list]\n",
    "    pos_list = [x[1] for x in phrase_pos_list]\n",
    "    \n",
    "    first_noun_phrase_loc,_ = get_first_last_consecutive_index(pos_list,'NP',['NP'])\n",
    "    first_proper_noun_loc,_ = get_first_last_consecutive_index(pos_list,'NNP',['NNP'])\n",
    "    first_pronoun_loc,_ = get_first_last_consecutive_index(pos_list,'PR',['PR'])\n",
    "    \n",
    "    subject_loc = np.min([first_noun_phrase_loc,first_proper_noun_loc,first_pronoun_loc])\n",
    "    \n",
    "    swapped = ' '.join(phrase_list)\n",
    "    if (subject_loc!=np.inf) and (subject_loc==0): #check if sentence contains subject\n",
    "        subject_loc = int(subject_loc)\n",
    "        \n",
    "        first_verb_loc,last_consecutive_verb_loc = get_first_last_consecutive_index(pos_list,'VB',['VB'])\n",
    "        first_verb_phrase_loc,last_consecutive_verb_phrase_loc = get_first_last_consecutive_index(pos_list,'VP',['VP'])\n",
    "\n",
    "        verb_loc = np.min([first_verb_loc,first_verb_phrase_loc])\n",
    "        \n",
    "        if (verb_loc!=np.inf) and (verb_loc > subject_loc): #check if sentence contains verb and it appears after subject\n",
    "            verb_loc = int(verb_loc)\n",
    "            verb = phrase_list[verb_loc]\n",
    "            \n",
    "            if verb[:2]=='me':\n",
    "                verb_argmin = np.argmin([first_verb_loc,first_verb_phrase_loc])\n",
    "                if verb_argmin==0:\n",
    "                    last_verb_loc = int(last_consecutive_verb_loc)\n",
    "                elif verb_argmin==1:\n",
    "                    last_verb_loc = int(last_consecutive_verb_phrase_loc)\n",
    "\n",
    "                if verb_loc==last_verb_loc: #checkt if there's no consecutive verbs\n",
    "                    second_noun_phrase_loc,_ = get_first_last_consecutive_index(pos_list[verb_loc+1:],'NP',['NP'])\n",
    "                    second_proper_noun_loc,_ = get_first_last_consecutive_index(pos_list[verb_loc+1:],'NNP',['NNP'])\n",
    "                    second_noun_loc,_ = get_first_last_consecutive_index(pos_list[verb_loc+1:],'NN',['NN'])\n",
    "                    second_pronoun_loc,_ = get_first_last_consecutive_index(pos_list[verb_loc+1:],'PR',['PR'])\n",
    "                    \n",
    "                    noun_argmin = np.argmin([second_noun_phrase_loc,second_proper_noun_loc,second_noun_loc,second_pronoun_loc])\n",
    "                    if noun_argmin==0:\n",
    "                        last_object_loc = verb_loc+1+get_first_last_consecutive_index(pos_list[verb_loc+1:],'NP',['NP','NNP','NN','PR','FW','NUMP','DP','UH','RP','NUM','NEG','JJ','DT','ADV'])[1]\n",
    "                    elif noun_argmin==1:\n",
    "                        last_object_loc = verb_loc+1++get_first_last_consecutive_index(pos_list[verb_loc+1:],'NNP',['NP','NNP','NN','PR','FW','NUMP','DP','UH','RP','NUM','NEG','JJ','DT','ADV'])[1]\n",
    "                    elif noun_argmin==2:\n",
    "                        last_object_loc = verb_loc+1++get_first_last_consecutive_index(pos_list[verb_loc+1:],'NN',['NP','NNP','NN','PR','FW','NUMP','DP','UH','RP','NUM','NEG','JJ','DT','ADV'])[1]\n",
    "                    elif noun_argmin==3:\n",
    "                        last_object_loc = verb_loc+1++get_first_last_consecutive_index(pos_list[verb_loc+1:],'PR',['NP','NNP','NN','PR','FW','NUMP','DP','UH','RP','NUM','NEG','JJ','DT','ADV'])[1]\n",
    "\n",
    "                    if last_object_loc!=np.inf: # check if sentence contains object\n",
    "                        last_object_loc = int(last_object_loc)\n",
    "\n",
    "                        stemmed_verb = stemmer.stem(phrase_list[verb_loc])\n",
    "                        \n",
    "                        phrase_list_temp = phrase_list[subject_loc+1:verb_loc+1]\n",
    "                        verb_loc_temp = phrase_list_temp.index(phrase_list[verb_loc])\n",
    "                        phrase_list_temp[verb_loc_temp] = 'di'+stemmed_verb\n",
    "                        del phrase_list_temp[verb_loc+1:last_object_loc+1]\n",
    "                        phrase_list_temp.insert(0,' '.join(phrase_list[verb_loc+1:last_object_loc+1]))\n",
    "                        \n",
    "                        swapped = ' '.join(phrase_list_temp+[phrase_list[subject_loc]]+phrase_list[last_object_loc+1:])\n",
    "                        \n",
    "                        \n",
    "    return swapped"
   ]
  },
  {
   "cell_type": "code",
   "execution_count": 4,
   "metadata": {},
   "outputs": [],
   "source": [
    "def convert_to_passive(sentence):\n",
    "    postagger = PosTag() \n",
    "    r = re.compile(r'[{}]+'.format(re.escape('.,;')))\n",
    "    \n",
    "    swapped_text_list = []\n",
    "    for sentence in r.split(sentence):\n",
    "        if sentence!=' ':\n",
    "            swapped_text_list.append(active_to_passive(postagger.get_phrase_tag(sentence)))\n",
    "    \n",
    "    \n",
    "    return ' '.join(swapped_text_list).lower().strip()"
   ]
  },
  {
   "cell_type": "code",
   "execution_count": 5,
   "metadata": {},
   "outputs": [
    {
     "data": {
      "text/plain": [
       "'lagu itu ingin dimain saya dengan teman-teman saya'"
      ]
     },
     "execution_count": 5,
     "metadata": {},
     "output_type": "execute_result"
    }
   ],
   "source": [
    "sentence = 'Saya ingin memainkan lagu itu dengan teman-teman saya'\n",
    "\n",
    "convert_to_passive(sentence)"
   ]
  },
  {
   "cell_type": "code",
   "execution_count": 6,
   "metadata": {},
   "outputs": [
    {
     "data": {
      "text/plain": [
       "'dua karung beras besar pun diangkat sri sultan ke bagian belakang kendaraannya'"
      ]
     },
     "execution_count": 6,
     "metadata": {},
     "output_type": "execute_result"
    }
   ],
   "source": [
    "sentence = 'Sri Sultan pun mengangkat dua karung beras besar ke bagian belakang kendaraannya'\n",
    "\n",
    "convert_to_passive(sentence)"
   ]
  },
  {
   "cell_type": "code",
   "execution_count": 7,
   "metadata": {},
   "outputs": [
    {
     "data": {
      "text/plain": [
       "'elektron yang diterima elektroda dari sumber arus listrik luar disebut katoda sedangkan elektoda yang mengalirkan elektron kembali ke sumber arus listrik luar disebut anoda'"
      ]
     },
     "execution_count": 7,
     "metadata": {},
     "output_type": "execute_result"
    }
   ],
   "source": [
    "sentence = 'Elektroda yang menerima elektron dari sumber arus listrik luar disebut Katoda, sedangkan elektoda yang mengalirkan elektron kembali ke sumber arus listrik luar disebut Anoda.'\n",
    "\n",
    "convert_to_passive(sentence)"
   ]
  },
  {
   "cell_type": "code",
   "execution_count": 8,
   "metadata": {},
   "outputs": [
    {
     "data": {
      "text/plain": [
       "'pada zamannya hubungan diselidik faraday antara jumlah listrik yang mengalir dalam sel dan kuantitas kimia yang berubah di elektroda saat elektrolisis'"
      ]
     },
     "execution_count": 8,
     "metadata": {},
     "output_type": "execute_result"
    }
   ],
   "source": [
    "sentence = 'Pada zamannya, Faraday menyelidiki hubungan antara jumlah listrik yang mengalir dalam sel dan kuantitas kimia yang berubah di elektroda saat elektrolisis.'\n",
    "\n",
    "convert_to_passive(sentence)"
   ]
  },
  {
   "cell_type": "code",
   "execution_count": 9,
   "metadata": {},
   "outputs": [
    {
     "data": {
      "text/plain": [
       "'bahwa pertumbuhan host internet sendiri diaku nicholas negroponte tercepat pada kwartal ketiga 1994 terjadi di argentina iran peru mesir filipina federasi rusia slovenia dan indonesia'"
      ]
     },
     "execution_count": 9,
     "metadata": {},
     "output_type": "execute_result"
    }
   ],
   "source": [
    "sentence = 'Nicholas Negroponte sendiri mengakui bahwa pertumbuhan host Internet tercepat pada kwartal ketiga 1994 terjadi di Argentina, Iran, Peru, Mesir, Filipina, Federasi Rusia, Slovenia dan Indonesia'\n",
    "\n",
    "convert_to_passive(sentence)"
   ]
  },
  {
   "cell_type": "code",
   "execution_count": 10,
   "metadata": {},
   "outputs": [
    {
     "data": {
      "text/plain": [
       "'pengaturan sekat kapal yang dilihat diagram rms titanic dengan warna merah'"
      ]
     },
     "execution_count": 10,
     "metadata": {},
     "output_type": "execute_result"
    }
   ],
   "source": [
    "sentence = 'Diagram RMS Titanic yang memperlihatkan pengaturan sekat kapal dengan warna merah'\n",
    "\n",
    "convert_to_passive(sentence)"
   ]
  },
  {
   "cell_type": "code",
   "execution_count": 11,
   "metadata": {},
   "outputs": [
    {
     "data": {
      "text/plain": [
       "'^ thomas beattie seorang penumpang kelas satu dan dua awak kapal'"
      ]
     },
     "execution_count": 11,
     "metadata": {},
     "output_type": "execute_result"
    }
   ],
   "source": [
    "# No Verb\n",
    "sentence = '^ Thomas Beattie, seorang penumpang kelas satu, dan dua awak kapal'\n",
    "\n",
    "convert_to_passive(sentence)"
   ]
  },
  {
   "cell_type": "code",
   "execution_count": 12,
   "metadata": {},
   "outputs": [
    {
     "data": {
      "text/plain": [
       "'c ( coulomb ) adalah satuan muatan listrik dan 1 c adalah muatan yang dihasilkan bila arus 1 a ( ampere ) mengalir selama 1 s'"
      ]
     },
     "execution_count": 12,
     "metadata": {},
     "output_type": "execute_result"
    }
   ],
   "source": [
    "# Verb is not started with 'me-'\n",
    "sentence = 'C (Coulomb) adalah satuan muatan listrik, dan 1 C adalah muatan yang dihasilkan bila arus 1 A (Ampere) mengalir selama 1 s'\n",
    "\n",
    "convert_to_passive(sentence)"
   ]
  },
  {
   "cell_type": "code",
   "execution_count": 13,
   "metadata": {},
   "outputs": [
    {
     "data": {
      "text/plain": [
       "'proses pemurnian logam kotor banyak dilakukan dalam pertambangan logam transisi yang kotor dapat dimurnikan dengan cara menempatkannya sebagai anode dan logam murni sebagai katode'"
      ]
     },
     "execution_count": 13,
     "metadata": {},
     "output_type": "execute_result"
    }
   ],
   "source": [
    "#Already a passive sentence\n",
    "sentence = 'Proses pemurnian logam kotor banyak dilakukan dalam pertambangan. Logam transisi yang kotor dapat dimurnikan dengan cara menempatkannya sebagai anode dan logam murni sebagai katode'\n",
    "\n",
    "convert_to_passive(sentence)"
   ]
  },
  {
   "cell_type": "code",
   "execution_count": 14,
   "metadata": {},
   "outputs": [
    {
     "data": {
      "text/plain": [
       "'badan sepede titanium dilapisi titanium oksida ( tio 2 ) yang bersifat keras dan tidak dapat ditembus oleh oksigen atau uap air sehingga terhindar dari reaksioksida yang menyebabkan korosi'"
      ]
     },
     "execution_count": 14,
     "metadata": {},
     "output_type": "execute_result"
    }
   ],
   "source": [
    "# Verb appears before subject\n",
    "sentence = 'Badan sepede titanium dilapisi titanium oksida (TiO 2 )yang bersifat keras dan tidak dapat ditembus oleh oksigen atau uap air sehingga terhindar dari reaksioksida yang menyebabkan korosi'\n",
    "\n",
    "convert_to_passive(sentence)"
   ]
  },
  {
   "cell_type": "code",
   "execution_count": 15,
   "metadata": {},
   "outputs": [
    {
     "data": {
      "text/plain": [
       "'ion cu2+ ini akan berpindah menuju keping katode sedangkan ion so 4 2 - akan menuju keping anode'"
      ]
     },
     "execution_count": 15,
     "metadata": {},
     "output_type": "execute_result"
    }
   ],
   "source": [
    "# Consecutive Verbs\n",
    "sentence = 'Ion Cu2+ ini akan berpindah menuju keping katode sedangkan ion SO 4 2- akan menuju keping anode.'\n",
    "\n",
    "convert_to_passive(sentence)"
   ]
  },
  {
   "cell_type": "code",
   "execution_count": 16,
   "metadata": {},
   "outputs": [
    {
     "data": {
      "text/plain": [
       "'misalnya mesin kendaraan bermotor yang terbuat dari baja umumya dilapisi kromium agar terhindar dari korosi'"
      ]
     },
     "execution_count": 16,
     "metadata": {},
     "output_type": "execute_result"
    }
   ],
   "source": [
    "# No Subject\n",
    "sentence = 'Misalnya mesin kendaraan bermotor yang terbuat dari baja umumya dilapisi kromium agar terhindar dari korosi'\n",
    "\n",
    "convert_to_passive(sentence)"
   ]
  },
  {
   "cell_type": "code",
   "execution_count": null,
   "metadata": {},
   "outputs": [],
   "source": []
  }
 ],
 "metadata": {
  "kernelspec": {
   "display_name": "Python [conda env:test_env]",
   "language": "python",
   "name": "conda-env-test_env-py"
  },
  "language_info": {
   "codemirror_mode": {
    "name": "ipython",
    "version": 3
   },
   "file_extension": ".py",
   "mimetype": "text/x-python",
   "name": "python",
   "nbconvert_exporter": "python",
   "pygments_lexer": "ipython3",
   "version": "3.6.12"
  }
 },
 "nbformat": 4,
 "nbformat_minor": 4
}
