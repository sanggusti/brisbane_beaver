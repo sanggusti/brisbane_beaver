{
 "cells": [
  {
   "cell_type": "markdown",
   "metadata": {},
   "source": [
    "# PyMuPDF"
   ]
  },
  {
   "cell_type": "markdown",
   "metadata": {},
   "source": [
    "References: https://towardsdatascience.com/extracting-headers-and-paragraphs-from-pdf-using-pymupdf-676e8421c467\n",
    "\n",
    "Pros:\n",
    "Light-weight approach\n",
    "\n",
    "Cons:\n",
    "Since this is a rule-based approach, therea are some document not covered by the rules."
   ]
  },
  {
   "cell_type": "code",
   "execution_count": 26,
   "metadata": {},
   "outputs": [
    {
     "name": "stdout",
     "output_type": "stream",
     "text": [
      "Collecting PyMuPDF\n",
      "  Downloading PyMuPDF-1.18.12-cp36-cp36m-manylinux2010_x86_64.whl (6.4 MB)\n",
      "\u001b[K     |████████████████████████████████| 6.4 MB 1.1 MB/s eta 0:00:01\n",
      "\u001b[?25hInstalling collected packages: PyMuPDF\n",
      "Successfully installed PyMuPDF-1.18.12\n"
     ]
    }
   ],
   "source": [
    "!pip install PyMuPDF"
   ]
  },
  {
   "cell_type": "code",
   "execution_count": 32,
   "metadata": {},
   "outputs": [],
   "source": [
    "import fitz\n",
    "from operator import itemgetter"
   ]
  },
  {
   "cell_type": "code",
   "execution_count": 30,
   "metadata": {},
   "outputs": [],
   "source": [
    "def fonts(doc, granularity=False):\n",
    "    \"\"\"Extracts fonts and their usage in PDF documents.\n",
    "    :param doc: PDF document to iterate through\n",
    "    :type doc: <class 'fitz.fitz.Document'>\n",
    "    :param granularity: also use 'font', 'flags' and 'color' to discriminate text\n",
    "    :type granularity: bool\n",
    "    :rtype: [(font_size, count), (font_size, count}], dict\n",
    "    :return: most used fonts sorted by count, font style information\n",
    "    \"\"\"\n",
    "    styles = {}\n",
    "    font_counts = {}\n",
    "\n",
    "    for page in doc:\n",
    "        blocks = page.getText(\"dict\")[\"blocks\"]\n",
    "        for b in blocks:  # iterate through the text blocks\n",
    "            if b['type'] == 0:  # block contains text\n",
    "                for l in b[\"lines\"]:  # iterate through the text lines\n",
    "                    for s in l[\"spans\"]:  # iterate through the text spans\n",
    "                        if granularity:\n",
    "                            identifier = \"{0}_{1}_{2}_{3}\".format(s['size'], s['flags'], s['font'], s['color'])\n",
    "                            styles[identifier] = {'size': s['size'], 'flags': s['flags'], 'font': s['font'],\n",
    "                                                  'color': s['color']}\n",
    "                        else:\n",
    "                            identifier = \"{0}\".format(s['size'])\n",
    "                            styles[identifier] = {'size': s['size'], 'font': s['font']}\n",
    "\n",
    "                        font_counts[identifier] = font_counts.get(identifier, 0) + 1  # count the fonts usage\n",
    "\n",
    "    font_counts = sorted(font_counts.items(), key=itemgetter(1), reverse=True)\n",
    "\n",
    "    if len(font_counts) < 1:\n",
    "        raise ValueError(\"Zero discriminating fonts found!\")\n",
    "\n",
    "    return font_counts, styles"
   ]
  },
  {
   "cell_type": "code",
   "execution_count": 36,
   "metadata": {},
   "outputs": [],
   "source": [
    "# Note, we’re only considering the font-sizes here, \n",
    "# but with a few extra lines of code, \n",
    "# you can find a way to incorporate the other attributes \n",
    "# if you’re using the granularity=True flag in the fonts() function!\n",
    "\n",
    "def font_tags(font_counts, styles):\n",
    "    \"\"\"Returns dictionary with font sizes as keys and tags as value.\n",
    "    :param font_counts: (font_size, count) for all fonts occuring in document\n",
    "    :type font_counts: list\n",
    "    :param styles: all styles found in the document\n",
    "    :type styles: dict\n",
    "    :rtype: dict\n",
    "    :return: all element tags based on font-sizes\n",
    "    \"\"\"\n",
    "    p_style = styles[font_counts[0][0]]  # get style for most used font by count (paragraph)\n",
    "    p_size = p_style['size']  # get the paragraph's size\n",
    "\n",
    "    # sorting the font sizes high to low, so that we can append the right integer to each tag \n",
    "    font_sizes = []\n",
    "    for (font_size, count) in font_counts:\n",
    "        font_sizes.append(float(font_size))\n",
    "    font_sizes.sort(reverse=True)\n",
    "\n",
    "    # aggregating the tags for each font size\n",
    "    idx = 0\n",
    "    size_tag = {}\n",
    "    for size in font_sizes:\n",
    "        idx += 1\n",
    "        if size == p_size:\n",
    "            idx = 0\n",
    "            size_tag[size] = '<p>'\n",
    "        if size > p_size:\n",
    "            size_tag[size] = '<h{0}>'.format(idx)\n",
    "        elif size < p_size:\n",
    "            size_tag[size] = '<s{0}>'.format(idx)\n",
    "\n",
    "    return size_tag"
   ]
  },
  {
   "cell_type": "code",
   "execution_count": 45,
   "metadata": {},
   "outputs": [],
   "source": [
    "def headers_para(doc, size_tag):\n",
    "    \"\"\"Scrapes headers & paragraphs from PDF and return texts with element tags.\n",
    "    :param doc: PDF document to iterate through\n",
    "    :type doc: <class 'fitz.fitz.Document'>\n",
    "    :param size_tag: textual element tags for each size\n",
    "    :type size_tag: dict\n",
    "    :rtype: list\n",
    "    :return: texts with pre-prended element tags\n",
    "    \"\"\"\n",
    "    header_para = []  # list with headers and paragraphs\n",
    "    first = True  # boolean operator for first header\n",
    "    previous_s = {}  # previous span\n",
    "\n",
    "    for page in doc:\n",
    "        blocks = page.getText(\"dict\")[\"blocks\"]\n",
    "        for b in blocks:  # iterate through the text blocks\n",
    "            if b['type'] == 0:  # this block contains text\n",
    "\n",
    "                # REMEMBER: multiple fonts and sizes are possible IN one block\n",
    "\n",
    "                block_string = \"\"  # text found in block\n",
    "                for l in b[\"lines\"]:  # iterate through the text lines\n",
    "                    for s in l[\"spans\"]:  # iterate through the text spans\n",
    "                        if s['text'].strip():  # removing whitespaces:\n",
    "                            if first:\n",
    "                                previous_s = s\n",
    "                                first = False\n",
    "                                block_string = size_tag[s['size']] + s['text']\n",
    "                            else:\n",
    "                                if s['size'] == previous_s['size']:\n",
    "\n",
    "                                    if block_string and all((c == \"|\") for c in block_string):\n",
    "                                        # block_string only contains pipes\n",
    "                                        block_string = size_tag[s['size']] + s['text']\n",
    "                                    if block_string == \"\":\n",
    "                                        # new block has started, so append size tag\n",
    "                                        block_string = size_tag[s['size']] + s['text']\n",
    "                                    else:  # in the same block, so concatenate strings\n",
    "                                        block_string += \" \" + s['text']\n",
    "\n",
    "                                else:\n",
    "                                    header_para.append(block_string)\n",
    "                                    block_string = size_tag[s['size']] + s['text']\n",
    "\n",
    "                                previous_s = s\n",
    "\n",
    "                    # new block started, indicating with a pipe\n",
    "                    block_string += \"|\"\n",
    "\n",
    "                header_para.append(block_string)\n",
    "\n",
    "    return header_para"
   ]
  },
  {
   "cell_type": "code",
   "execution_count": 86,
   "metadata": {},
   "outputs": [],
   "source": [
    "doc = fitz.open(\"data/essay_2.pdf\")"
   ]
  },
  {
   "cell_type": "code",
   "execution_count": 87,
   "metadata": {},
   "outputs": [
    {
     "data": {
      "text/plain": [
       "([('11.039999961853027', 75), ('11.520000457763672', 31), ('12.0', 1)],\n",
       " {'11.039999961853027': {'size': 11.039999961853027, 'font': 'Calibri'},\n",
       "  '12.0': {'size': 12.0, 'font': 'TimesNewRomanPSMT'},\n",
       "  '11.520000457763672': {'size': 11.520000457763672, 'font': 'Calibri'}})"
      ]
     },
     "execution_count": 87,
     "metadata": {},
     "output_type": "execute_result"
    }
   ],
   "source": [
    "detected_fonts_styles = fonts(doc)\n",
    "detected_fonts_styles"
   ]
  },
  {
   "cell_type": "code",
   "execution_count": 88,
   "metadata": {},
   "outputs": [
    {
     "data": {
      "text/plain": [
       "{12.0: '<h1>', 11.520000457763672: '<h2>', 11.039999961853027: '<p>'}"
      ]
     },
     "execution_count": 88,
     "metadata": {},
     "output_type": "execute_result"
    }
   ],
   "source": [
    "size_tag = font_tags(detected_fonts_styles[0],detected_fonts_styles[1])\n",
    "size_tag"
   ]
  },
  {
   "cell_type": "code",
   "execution_count": 89,
   "metadata": {
    "scrolled": true
   },
   "outputs": [
    {
     "data": {
      "text/plain": [
       "['<p>Pemerintah Indonesia ingin menurunkan emisi sebesar 29% pada tahun 2030 sehubungan dengan | partisipasi Indonesia dalam Perjanjian Paris 2015 [1]. Tindakan iklim menjadi fokus global, urgensi untuk | mengatasi semua emisi karbon dioksida dari banyak negara di seluruh dunia. Perhatian pemerintah | pertama-tama difokuskan pada sektor ketenagalistrikan untuk memanfaatkan energi terbarukan untuk | mengurangi emisi global. Dengan meningkatkan energi terbarukan, negara dapat secara tajam | mengurangi satu sumber utama terkait emisi karbon dioksida. Indonesia menetapkan target energi | terbarukan dalam bauran energi sebesar 23% pada tahun 2025, pada Q3 tahun 2020 persentasenya hanya | 10,9% [2,3]. Kesenjangan untuk mencapai tujuan sekitar 14,1%, itu harus melipatgandakan usaha empat | kali dari bisnis seperti biasa [3]. |',\n",
       " '|',\n",
       " '<p>Menurut konteks global energi trilema, biasanya digunakan untuk menyeimbangkan keamanan energi, | ekuitas energi, dan keberlanjutan energi. Indonesia membutuhkan energi terbarukan untuk mengurangi | emisi karbon, tetapi juga membutuhkan energi dengan harga yang terjangkau. Tidak akan tercapainya | target energi terbarukan, di sisi lain masyarakat dapat mengakses energi dengan mudah. Pembangunan | beberapa pembangkit listrik tenaga batu bara dengan kapasitas lebih dari 1.000 MW setiap pembangkit | akan menuai kritik dari berbagai elemen. Pemerintah harus mengurangi pengembangan batubara dan | mulai mengembangkan lebih banyak energi bersih. Peta jalan energi harus memperhitungkan semua | aspek seperti teknologi, sosial, lingkungan, dan ekonomi. |',\n",
       " '<p>Transisi energi akan menghadapi banyak tantangan, kebijakan menjadi aspek kunci untuk mempercepat | transisi energi. Strategi pemerintah saat ini adalah dengan menerapkan co-firing, substitusi batubara | menjadi biomassa pada tahap awal dengan sensitivitas pallet / woodchip menjadi batubara sekitar 1-5%. | Strategi ini akan merugikan sumber daya lain, kapasitas yang besar dapat memenuhi permintaan dan | sumber daya energi terbarukan lainnya akan terus berkembang atau beralih ke prioritas yang berbeda. | Strategi lain untuk mencapai target tersebut adalah dengan menambah pembangkit listrik tenaga surya | dari mount ground, floating in lake, dan rooftop rumah tangga. Solar PV adalah cara termudah untuk | menghasilkan listrik dan harganya bisa di bawah listrik dari pembangkit listrik tenaga batu bara. Solar PV | dapat menjadi sukses kritis untuk mencapai rasio elektrifikasi 100% di Indonesia, dapat menghasilkan | listrik dengan sistem off-grid dan cocok untuk pedesaan (3T). Untuk menggenjot strategi tersebut, | Indonesia harus membangun undang-undang energi terbarukan, mendorong pemerintah daerah untuk | meningkatkan pembangunan, kolaborasi Penta-helix, dan mendukung kegiatan anak muda. |',\n",
       " '|',\n",
       " '<p>Gerakan global yang digerakkan oleh generasi muda di banyak negara berdampak positif bagi pemuda | lain untuk segera memulai gerakan. Di Indonesia, gerakan tersebut masih tercermin dengan situasi anarkis | dan jarang memberikan dampak yang baik. Gaya baru berbagi suara, kaum muda harus mengikuti tren | global. Tidak akan ada lagi anarkis, suara-suara itu bisa disampaikan melalui beberapa media, baik offline | maupun online. Kolaborasi dengan pemerintah, akademisi, LSM, dan swasta melalui kegiatan | kepemudaan akan menciptakan suasana yang harmonis. |',\n",
       " '<p>Banyak platform yang bisa memberikan kolaborasi, sehingga anak muda bisa terlibat dengan multi sektor. | Budaya meningkatkan kesadaran tentang pentingnya membangun bangsa dan bagaimana pemuda dapat | membantu. Membangun organisasi menjadi sesuatu yang bergengsi bagi anak muda, semua sektor harus |',\n",
       " '<p>menyadari dan menangkap fenomena ini. Pemuda harus didampingi oleh seseorang atau lembaga yang | berpengalaman untuk bekerja dengan cara yang benar. |',\n",
       " '<p>Menurut Survei Ekonomi Nasional (Susenas) tahun 2019, jumlah pemuda usia 16-30 tahun sekitar 64 juta. | Dalam kebanyakan kasus, aturan praktis dari 3,5% populasi membutuhkan atau 9 juta orang untuk | membuat perubahan di Indonesia [4]. Jalur jalur ini dirancang untuk menghimpun nomor-nomor pemuda | tersebut, akan ada pionir untuk memimpin pemuda dalam agenda mulai tahun 2020. |',\n",
       " '<p>Era yang terputus dan kecanggihan teknologi mendukung agenda rahasia bangsa Indonesia, di media | sosial terjadi pemberdayaan pemuda secara masif. Mencoba mencapai populasi di Indonesia tanpa | membangun konstituensi publik yang lebih luas tidak menjamin kesuksesan di masa depan. Keberhasilan | kritis adalah mengembangkan pemuda dengan kegigihan dan karakter yang konsisten. |',\n",
       " '|',\n",
       " '<p>Society of Renewable Energy (SRE), sebuah organisasi kemahasiswaan di Indonesia yang berkembang | menjadi 34 universitas di Indonesia dalam waktu satu tahun untuk memberikan peningkatan kapasitas | pemuda, kegiatan mereka untuk menyebarkan kesadaran dan berkontribusi di sektor energi yang dapat | mencerminkan antusiasme anak muda untuk aksi iklim. SRE memiliki lebih dari 40 ribu pengikut di media | sosial, 5 juta tayangan di media sosial, 300 ribu peserta acara, menyelenggarakan lebih dari 100 acara dan | mendapatkan penghargaan dari MURI pada tahun 2020. Semua prestasi digerakkan oleh kaum muda. |',\n",
       " '<p>SRE membangun anggotanya untuk belajar tentang energi terbarukan melalui program internal mereka. | Mahasiswa dari semua jurusan dapat mengikuti SRE dan berkolaborasi dengan latar belakang | multidisiplin. Kehadiran SRE dapat memberikan manfaat bagi beberapa perguruan tinggi yang belum | menyediakan mata kuliah energi terbarukan. Tim akan menyelenggarakan pelatihan untuk seorang | pelatih yang dapat membangun agen. Agen tersebut akan memberikan ilmunya kepada seluruh | mahasiswa di perguruan tinggi yang berminat pada energi terbarukan. Komunikasi dua arah menuntun | mereka menuju kebahagiaan dalam mempelajari energi terbarukan. Selain ilmu dasar energi terbarukan, | mereka juga mengundang pembicara ahli untuk berbagi ilmu dalam sebuah seminar. |',\n",
       " '<p>Dampak paling signifikan terhadap peningkatan antusiasme tersebut adalah kerjasama dengan pihak | swasta dan pemerintah. SRE telah menjadi platform yang memungkinkan kaum muda untuk berkolaborasi | dan menciptakan produk atau layanan melalui crowdfunding. Produk aktual pertama yang dibangun | berdasarkan keahlian mereka adalah turbin angin kecil yang berlokasi di Garut dengan kapasitas 350 W. | Mereka bisa mentransformasikan ide menjadi sebuah produk, bisa menjadi pembelajaran bagi | pemerintah dan swasta untuk mendorong inovasi anak muda. |',\n",
       " '<p>Berdasarkan data SRE, garis jalan yang harus dilaksanakan untuk membangun generasi muda melalui | energi terbarukan seperti di bawah ini. |',\n",
       " '|',\n",
       " \"<h2>1. Awareness  | A lack of awareness for potential and benefit from renewable energy in Indonesia becomes one of the | energy transition factors far from the track. The current situation and actor to spread the awareness are | only from the government and the passive audience can not amplify the awareness. This pandemic | creates a new normal of activities. Youth as an actor using digital transformation to spread awareness | has impacted a million people and increases the public's renewable energy awareness level.  |\",\n",
       " '<h2>2. Knowledge  || The capacity building for youth consist of government, private sector, and academia has to collaborate | in one program that supports the energy transition agenda. There is a gap between ',\n",
       " '<p>3  |',\n",
       " '<h2>university and the field work led to talent readiness issue. Guest lecturer from the government and | industry has to conduct in university to transfer knowledge for the student. Besides technical skill, it | must increase their softs kill for recruitment process.  | 3. Experience  || To actualization their knowledge, it needs hands on experience program for student to implement and | get experience. There must platform collaboration to gather all information of the internship program | or collaborative program. University can initiate the program that collaborate between multi | stakeholders, for example, community development in rural area and build some small power plant | around 500 W – 2 kW.  | 4. Actualization  || The youth that follow their previous step can be agent to support government and private sector in | terms of energy transition. The huge number of youth and their spirit can change the world to be a | better.  | SRE has started their path and for the first batch was success, the program need to be duplicate and | boost from multistakeholder to accelerate the energy transition. COP 26 can be a suitable platform | to share the Indonesian youth movement to global and can collect their attention so Indonesian | youth can get a bunch of support in terms of knowledge, opportunity, and fund.|']"
      ]
     },
     "execution_count": 89,
     "metadata": {},
     "output_type": "execute_result"
    }
   ],
   "source": [
    "tagged_list = headers_para(doc, size_tag)\n",
    "tagged_list"
   ]
  },
  {
   "cell_type": "code",
   "execution_count": null,
   "metadata": {},
   "outputs": [],
   "source": []
  },
  {
   "cell_type": "code",
   "execution_count": 90,
   "metadata": {},
   "outputs": [
    {
     "data": {
      "text/plain": [
       "['<h1>Agrophovoltaic (APV)  |',\n",
       " '',\n",
       " '<p>1. Pendahuluan |',\n",
       " '<p>Musim kemarau di Indonesia menyebabkan angka produksi padi menurun, penurunan |',\n",
       " '<p>sebesar 4,6 juta ton terjadi di tahun 2019 [1].  Gambar 1 menunjukan luas fase persiapan |',\n",
       " '<p>lahan terjadi penurunan pada bulan April – Agustus yang sesuai dengan musim kemarau di |',\n",
       " '<p>Indonesia. Provinsi yang memiliki luas fase persiapan terbesar diantaranya Jawa Barat, |',\n",
       " '<p>Jawa Tengah, Jawa Timur, Sulawesi Selatan, dan Sumatera Selatan.  |',\n",
       " '|',\n",
       " '<p>Gambar 1. Luas fase persiapan lahan 2018 – 2019 (Dimodifikasi dari BPS, 2019) |',\n",
       " '<p>Selain itu, provinsi tersebut memiliki tingkat petani skala kecil yang hanya memiliki luas |',\n",
       " '<p>sawah 0,16 hektar dengan persentase tertinggi di Indonesia. Salah satu indikator tujuan |',\n",
       " '<p>pembangunan berkelanjutan pada sektor pertanian yaitu nilai produksi per hektar, 90% |',\n",
       " '<p>lahan pertanian di Jawa Barat, Jawa Timur, dan Nusa Tenggara Barat (NTB) dikategorikan |',\n",
       " '<p>lahan pertanian tidak berkelanjutan [2]. Hal ini disebabkan karena tidak ada sumber air saat |',\n",
       " '<p>musim kemarau, bantuan dari pemerintah berupa pompa air tetapi sumber listrik di lokasi |',\n",
       " '<p>belum memadai. Mahalnya harga dan jauhnya akses untuk membeli bahan bakar minyak |',\n",
       " '<p>(BBM) membuat petani yang memiliki sawah di desa tidak sanggup untuk menggunakan |',\n",
       " '<p>BBM. Energi terbarukan bisa menjadi salah satu pembangkit listrik untuk menyuplai pompa |',\n",
       " '<p>air. Dengan potensi radiasi matahari di Indonesia, panel surya menjadi opsi yang tepat |',\n",
       " '<p>sebagai pembangkit listrik dan memiliki harga yang sudah ekonomis. Namun, penggunaan |',\n",
       " '<p>panel surya bisa mengurangi luas lahan pertanian dan mengakibatkan penurunan jumlah |',\n",
       " '<p>produksi. Salah satu solusi meningkatkan persentase keberlanjutan yaitu menggunakan |',\n",
       " '<p>system of rice intensification  (SRI) dengan sumber listrik pompa yang berasal dari panel |',\n",
       " '<p>surya tanpa mengurangi banyak lahan sawah melalui sistem  agrophotovoltaic  (APV) yang |',\n",
       " '<p>sudah diterapkan di luar negeri dengan melakukan penyesuaian sesuai kondisi Indonesia. |',\n",
       " '<p>2. Studi Literatur |',\n",
       " '<p>2.1 Metode pengolahan System of Rice Intensification (SRI) |',\n",
       " '<p>Metode pengairan sesuai jumlah dan waktu yang dibutuhkan oleh tanaman secara terputus-|',\n",
       " '<p>putus ( intermittent ). Dengan SRI dan pengelolaan tanaman yang baik dapat meningkatkan |',\n",
       " '<p>produktivitas tanaman sebesar 30-100 % [3]. Air selama satu masa tanam (100 hari) untuk |',\n",
       " '<p>sawah dengan sistem pemberian air secara SRI yaitu 467 mm atau 4,67 mm/hari dengan |',\n",
       " '<p>konversi 0,116 liter/detik/ha. Sementara, untuk produktivitas air ( water productivity ) atau |',\n",
       " '<p>rasio antara gabah kering giling yang dihasilkan (kg) dengan konsumsi air (m',\n",
       " '<s2>3',\n",
       " '<p>) memiliki nilai |',\n",
       " '<p>1,12 kg/m',\n",
       " '<s2>3',\n",
       " '<p> [4]. |',\n",
       " '<p>2.2 Potensi penggunaan panel surya |',\n",
       " '<p>Indonesia memiliki potensi radiasi matahari yang dapat dimanfaatkan oleh panel surya |',\n",
       " '<p>sebesar 3,4 – 4,4 kWh/m',\n",
       " '<s2>2',\n",
       " '<p>/hari termasuk pertanian di Jawa Barat, Jawa Timur, dan NTB.  |',\n",
       " '|',\n",
       " '<p>Gambar 2. Potensi energi matahari yang dapat dimanfaatkan oleh panel surya [5] |',\n",
       " '<p>2.3 Perhitungan Sistem APV |',\n",
       " '<p>Untuk menghitung besar daya pompa air hidrolik (W) yang diperlukan dapat menggunakan |',\n",
       " '<p>persamaan (1) sebagai berikut [6]. |',\n",
       " '<p>\\ud835\\udc43\\ud835\\udc43 \\ud835\\udc43\\ud835\\udc43',\n",
       " '<s1>\\ud835\\udc60\\ud835\\udc60',\n",
       " '<p> =|',\n",
       " '<s1>\\ud835\\udf0c\\ud835\\udf0c× \\ud835\\udc54\\ud835\\udc54 × \\ud835\\udc44\\ud835\\udc44 ×\\ud835\\udc3b\\ud835\\udc3b|  \\ud835\\udf02\\ud835\\udf02',\n",
       " '<s3>\\ud835\\udc5d\\ud835\\udc5d',\n",
       " '<s1> \\ud835\\udf02\\ud835\\udf02',\n",
       " '<s3>\\ud835\\udc52\\ud835\\udc52||',\n",
       " '<p>(1) |',\n",
       " '<p>dimana  \\ud835\\udf0c\\ud835\\udf0c  (kg/m',\n",
       " '<s2>3',\n",
       " '<p>) adalah massa jenis air, g (9,81 m/s',\n",
       " '<s2>2',\n",
       " '<p>) adalah gravitasi, Q adalah debit air |',\n",
       " '<p>(m',\n",
       " '<s2>3',\n",
       " '<p>/s), H adalah head ketinggian dari permukaan air hingga ke titik keluaran pompa (m),  \\ud835\\udf02\\ud835\\udf02',\n",
       " '<s1>\\ud835\\udc5d\\ud835\\udc5d|',\n",
       " '',\n",
       " '<p>adalah efisiensi pompa, dan  \\ud835\\udf02\\ud835\\udf02',\n",
       " '<s1>\\ud835\\udc52\\ud835\\udc52',\n",
       " '<p> adalah efisiensi motor. |',\n",
       " '<p>Untuk menghitung daya hidrolik yang diperlukan dalam sehari (kWh) dapat menggunakan |',\n",
       " '<p>persamaan (2) sebagai berikut [7]. |',\n",
       " '<p>\\ud835\\udc38\\ud835\\udc38 \\ud835\\udc38\\ud835\\udc38',\n",
       " '<s1>ℎ',\n",
       " '<p> = \\ud835\\udf02\\ud835\\udf02',\n",
       " '<s1>\\ud835\\udc60\\ud835\\udc60 ',\n",
       " '<p>× \\ud835\\udc38\\ud835\\udc38',\n",
       " '<s1>\\ud835\\udc43\\ud835\\udc43\\ud835\\udc43\\ud835\\udc43',\n",
       " '<p> =  \\ud835\\udf0c\\ud835\\udf0c ×  \\ud835\\udc54\\ud835\\udc54 ×  \\ud835\\udc49\\ud835\\udc49| (2) |',\n",
       " '<p>dimana  \\ud835\\udc49\\ud835\\udc49  adalah volume yang dibutuhkan dalam sehari (m',\n",
       " '<s2>3',\n",
       " '<p>/hari),  \\ud835\\udf02\\ud835\\udf02',\n",
       " '<s1>\\ud835\\udc60\\ud835\\udc60 ',\n",
       " '<p>adalah efisiensi sistem, |',\n",
       " '<p>dan  \\ud835\\udc38\\ud835\\udc38',\n",
       " '<s1>\\ud835\\udc43\\ud835\\udc43\\ud835\\udc43\\ud835\\udc43',\n",
       " '<p> adalah energi dari panel surya. |',\n",
       " '<p>Untuk menghitung panel surya yang dibutuhkan (kW) dapat menggunakan persamaan (3) |',\n",
       " '<p>sebagai berikut [7]. |',\n",
       " '<p>\\ud835\\udc43\\ud835\\udc43 \\ud835\\udc43\\ud835\\udc43',\n",
       " '<s1>\\ud835\\udc43\\ud835\\udc43\\ud835\\udc43\\ud835\\udc43',\n",
       " '<p> =|',\n",
       " '<s1>\\ud835\\udc38\\ud835\\udc38ℎ| \\ud835\\udc3a\\ud835\\udc3a',\n",
       " '<s3>\\ud835\\udc47\\ud835\\udc47',\n",
       " '<s1> × \\ud835\\udc38\\ud835\\udc38 × \\ud835\\udc39\\ud835\\udc39|',\n",
       " '<p>(3) |',\n",
       " '<p>dimana  \\ud835\\udc3a\\ud835\\udc3a',\n",
       " '<s1>\\ud835\\udc47\\ud835\\udc47',\n",
       " '<p> (kWh/m',\n",
       " '<s2>2',\n",
       " '<p>),  \\ud835\\udc38\\ud835\\udc38  adalah sistem efisiensi direntang 0,2 hingga 0,6, dan   \\ud835\\udc39\\ud835\\udc39  adalah |',\n",
       " '<p>faktor koreksi panel surya dengan rentang 0,85 hingga 0,9 [6]. |',\n",
       " '<p>2.4 Aspek Keekonomian |',\n",
       " '<p>Untuk menghitung nilai  present value cost  (PVC) dari sistem panel surya menggunakan |',\n",
       " '<p>persamaan (4) berikut [6]. |',\n",
       " '<p>\\ud835\\udc43\\ud835\\udc43\\ud835\\udc49\\ud835\\udc49\\ud835\\udc43\\ud835\\udc43 = \\ud835\\udc3c\\ud835\\udc3c\\ud835\\udc43\\ud835\\udc43 + (\\ud835\\udc34\\ud835\\udc34 × \\ud835\\udc43\\ud835\\udc43\\ud835\\udc43\\ud835\\udc43\\ud835\\udc39\\ud835\\udc39) − \\ud835\\udc60\\ud835\\udc60( \\ud835\\udc43\\ud835\\udc43\\ud835\\udc49\\ud835\\udc49\\ud835\\udc43\\ud835\\udc43 = \\ud835\\udc3c\\ud835\\udc3c\\ud835\\udc43\\ud835\\udc43 + (\\ud835\\udc34\\ud835\\udc34 × \\ud835\\udc43\\ud835\\udc43\\ud835\\udc43\\ud835\\udc43\\ud835\\udc39\\ud835\\udc39) − \\ud835\\udc60\\ud835\\udc60(|',\n",
       " '<s1>1| 1+\\ud835\\udc5f\\ud835\\udc5f',\n",
       " '<p>)',\n",
       " '<s1>\\ud835\\udc5b\\ud835\\udc5b|',\n",
       " '<p>(4) |',\n",
       " '<p>Dimana  \\ud835\\udc3c\\ud835\\udc3c\\ud835\\udc43\\ud835\\udc43  adalah biaya awal pembuatan sistem APV,  \\ud835\\udc34\\ud835\\udc34  adalah biaya perawatan dengan |',\n",
       " '<p>asumsi 1% dari  \\ud835\\udc3c\\ud835\\udc3c\\ud835\\udc43\\ud835\\udc43 ,  \\ud835\\udc43\\ud835\\udc43\\ud835\\udc43\\ud835\\udc43\\ud835\\udc39\\ud835\\udc39  adalah nilai  present worth factor ,  \\ud835\\udc60\\ud835\\udc60  adalah biaya tak terduga yang |',\n",
       " '<p>nilainya 8% dari  \\ud835\\udc3c\\ud835\\udc3c\\ud835\\udc43\\ud835\\udc43 ,  \\ud835\\udc5b\\ud835\\udc5b  umur dari panel surya, dan  \\ud835\\udc5f\\ud835\\udc5f  adalah tingkat rasio suku bunga 7%. |',\n",
       " '<p>Untuk menghitung biaya penjualan listrik (LCOE) dapat menggunakan persamaan (5) |',\n",
       " '<p>sebagai berikut berikut [6]. |',\n",
       " '<p>\\ud835\\udc3f\\ud835\\udc3f\\ud835\\udc43\\ud835\\udc43\\ud835\\udc3f\\ud835\\udc3f\\ud835\\udc38\\ud835\\udc38 = \\ud835\\udc3f\\ud835\\udc3f\\ud835\\udc43\\ud835\\udc43\\ud835\\udc3f\\ud835\\udc3f\\ud835\\udc38\\ud835\\udc38 =|',\n",
       " '<s1>\\ud835\\udc43\\ud835\\udc43\\ud835\\udc43\\ud835\\udc43\\ud835\\udc43\\ud835\\udc43| \\ud835\\udc43\\ud835\\udc43 × \\ud835\\udc3f\\ud835\\udc3f\\ud835\\udc43\\ud835\\udc43\\ud835\\udc3f\\ud835\\udc3f ×365 ×\\ud835\\udc43\\ud835\\udc43\\ud835\\udc43\\ud835\\udc43\\ud835\\udc39\\ud835\\udc39|',\n",
       " '<p>(5) |',\n",
       " '<p>dimana  \\ud835\\udc3f\\ud835\\udc3f\\ud835\\udc43\\ud835\\udc43\\ud835\\udc3f\\ud835\\udc3f  adalah durasi penyinaran matahari (jam). |',\n",
       " '<p>Untuk mencari net profit yang didapatkan dengan menggunakan sistem APV menggunakan |',\n",
       " '<p>persamaan (6). |',\n",
       " '<p>\\ud835\\udc43\\ud835\\udc43\\ud835\\udc5f\\ud835\\udc5f\\ud835\\udc43\\ud835\\udc43\\ud835\\udc43\\ud835\\udc43\\ud835\\udc43\\ud835\\udc43\\ud835\\udc43\\ud835\\udc43 = \\ud835\\udc43\\ud835\\udc43\\ud835\\udc43\\ud835\\udc43\\ud835\\udc43\\ud835\\udc43\\ud835\\udc43\\ud835\\udc43\\ud835\\udc60\\ud835\\udc60\\ud835\\udc43\\ud835\\udc43\\ud835\\udc43\\ud835\\udc43\\ud835\\udc43\\ud835\\udc43\\ud835\\udc5b\\ud835\\udc5b − \\ud835\\udc43\\ud835\\udc43\\ud835\\udc43\\ud835\\udc43\\ud835\\udc5b\\ud835\\udc5b\\ud835\\udc54\\ud835\\udc54\\ud835\\udc43\\ud835\\udc43\\ud835\\udc43\\ud835\\udc43\\ud835\\udc43\\ud835\\udc43\\ud835\\udc43\\ud835\\udc43\\ud835\\udc5f\\ud835\\udc5f\\ud835\\udc43\\ud835\\udc43\\ud835\\udc5b\\ud835\\udc5b \\ud835\\udc43\\ud835\\udc43\\ud835\\udc5f\\ud835\\udc5f\\ud835\\udc43\\ud835\\udc43\\ud835\\udc43\\ud835\\udc43\\ud835\\udc43\\ud835\\udc43\\ud835\\udc43\\ud835\\udc43 = \\ud835\\udc43\\ud835\\udc43\\ud835\\udc43\\ud835\\udc43\\ud835\\udc43\\ud835\\udc43\\ud835\\udc43\\ud835\\udc43\\ud835\\udc60\\ud835\\udc60\\ud835\\udc43\\ud835\\udc43\\ud835\\udc43\\ud835\\udc43\\ud835\\udc43\\ud835\\udc43\\ud835\\udc5b\\ud835\\udc5b − \\ud835\\udc43\\ud835\\udc43\\ud835\\udc43\\ud835\\udc43\\ud835\\udc5b\\ud835\\udc5b\\ud835\\udc54\\ud835\\udc54\\ud835\\udc43\\ud835\\udc43\\ud835\\udc43\\ud835\\udc43\\ud835\\udc43\\ud835\\udc43\\ud835\\udc43\\ud835\\udc43\\ud835\\udc5f\\ud835\\udc5f\\ud835\\udc43\\ud835\\udc43\\ud835\\udc5b\\ud835\\udc5b| (6) |',\n",
       " '<p>2.4 Aspek Lingkungan |',\n",
       " '<p>Untuk menghitung penurunan emisi karbon dioksida oleh sistem agrophotovoltaic dengan | membandingkan jika menggunakan diesel sesuai dengan persamaan (7). |',\n",
       " '<p>Emisi tahunan�|',\n",
       " '<s1>tonCO',\n",
       " '<s3>2',\n",
       " '<s1>eq| year|',\n",
       " '<p>�  = faktor emisi  �|',\n",
       " '<s1>tonCO',\n",
       " '<s3>2',\n",
       " '<s1>eq| MWh',\n",
       " '<p>�  ×  produksi tahunan (|',\n",
       " '<s1>MWh| year',\n",
       " '<p>)| (7) |',\n",
       " '|',\n",
       " '<p>3. Metodologi |',\n",
       " '<p>Pada penulisan ini, penggunaan panel surya yang berada pada atas lahan sawah dengan |',\n",
       " '<p>memiliki ketinggian tertentu agar tidak menggangu aktivitas petani dan tidak menutup sinar |',\n",
       " '<p>matahari yang dibutuhkan oleh tanaman tersebut. |',\n",
       " '|',\n",
       " '<p>Gambar 3. Konfigurasi APV |',\n",
       " '|',\n",
       " '<p>4. Hasil dan Diskusi |',\n",
       " '<p>Pada penelitian ini, sistem APV dibuat untuk mengatasi lahan pertanian yang tidak |',\n",
       " '<p>berkelanjutan akibat kekeringan. Sistem APV dibuat modular agar bisa dipindahkan dari |',\n",
       " '<p>satu petak ke petak lainnya. Penyangga APV menggunakan galvanized untuk mencegah |',\n",
       " '<p>karat akibat hujan. |',\n",
       " '||',\n",
       " '<p>Gambar 4. Desain modular APV |',\n",
       " '<p>Dirancang sebuah panel surya dengan kapasitas sebesar 1,5 kW untuk mengairi sawah |',\n",
       " '<p>sebesar 10 hektar. Sistem APV ini akan menggunakan modul surya berjenis |',\n",
       " '<p>monocrystalline  sebesar 450 Wp akan ada 3 - 4 modul yang digunakan dengan kapasitas |',\n",
       " '<p>inverter 1,5 kW. Energy monitoring dipasang untuk mengetahui besar listrik yang |',\n",
       " '<p>dibangkitkan oleh panel surya, hal tersebut |',\n",
       " '|',\n",
       " '|',\n",
       " '|',\n",
       " '<p>Diperlukan reservoir besar dengan volume air 22.500 liter untuk menyuplai air pada sawah |',\n",
       " '<p>tersebut yang didapat dari reservoir yang terisi air dengan elevasi lokasi reservoir lebih tinggi |',\n",
       " '<p>dari sawah. Dua buah pompa berukuran 4” digunakan untuk menghisap air dari tanah dan |',\n",
       " '<p>mengalirkannya ke sawah. Sensor akan bekerja sesuai dengan instruksi yang didesain. |',\n",
       " '<p>Biaya investasi yang dibutuhkan untuk membangun sistem ini direntang harga 100 juta. |',\n",
       " '<p>Dengan penghematan jika dibandingkan penggunakan diesel yang memerlukan 21-42 |',\n",
       " '<p>liter/jam, energi matahari mampu mendapatkan energi sepanjang hari. Satu sistem APV ini |',\n",
       " '<p>akan menolong 6 petani kecil agar mampu berproduksi sepanjang tahun dengan menambah |',\n",
       " '<p>satu kali panen sebesar 16.360 kg/ha. Sistem ini mampu balik modal kurang dari dua tahun.  |',\n",
       " '<p>Daftar Pustaka |',\n",
       " '<p>1. BPS 2019, Luas Panen dan Produksi Padi di Indonesia 2019, Jakarta, 2020. |',\n",
       " '<p>2. BPS 2020, Indikator Tujuan Pembangunan Berkelanjutan Sektor Pertanian 2020 di |',\n",
       " '<p>Provinsi Jawa Barat, Jawa Timur, dan Nusa Tenggara Barat, Jakarta, 2020. |',\n",
       " '<p>3. Rizal F., Alfiansyah, & Rizalihadi, M. (2014). Analisis perbandingan kebutuhan air |',\n",
       " '<p>irigasi tanaman padi metode konvensional dengan metode SRI organik. Jurnal |',\n",
       " '<p>Teknik Sipil, 3(4), 67-76. |',\n",
       " '<p>4. Fuadi, N. A., Purwanto, M. Y. J., & Tarigan, S. D. (2016). Kajian Kebutuhan Air dan |',\n",
       " '<p>Produktivitas Air Padi Sawah dengan Sistem Pemberian Air Secara SRI dan |',\n",
       " '<p>Konvensional | Menggunakan | Irigasi | Pipa. | Jurnal | Irigasi, | 11(1), | 23. |',\n",
       " '<p>https://doi.org/10.31028/ji.v11.i1.23-32 . |',\n",
       " '<p>5. The World Bank 2019, Global Solar Atlas 2.0 by solargis, di akses pada 20 Februari |',\n",
       " '<p>2021, https://solargis.com/maps-and-gis-data/download/indonesia. |',\n",
       " '<p>6. Chueco-Fernandez Francisco J, Bayod-Rujula Angel A. ‘Power supply for pumping |',\n",
       " '<p>systems in northern Chile: Photovoltaic as alternative to grid extension and diesel |',\n",
       " '<p>engines. Energy 2010; 35: 2909–21. |',\n",
       " '<p>7. Khatib T. Design of photovoltaic water pumping systems at minimum cost for |',\n",
       " '<p>Palestine: a review. Journal of Applied Sciences 2010;10:2773–84. |',\n",
       " '<p>8. Al-Badi, A., & Yousef, H. (2016). Design of photovoltaic water pumping system as |',\n",
       " '<p>an alternative to grid network in Oman. Renewable Energy and Power Quality |',\n",
       " '<p>Journal, 1(14), 11–15. https://doi.org/10.24084/repqj14.203. |']"
      ]
     },
     "execution_count": 90,
     "metadata": {},
     "output_type": "execute_result"
    }
   ],
   "source": [
    "doc = fitz.open(\"data/essay_1.pdf\")\n",
    "detected_fonts_styles = fonts(doc)\n",
    "size_tag = font_tags(detected_fonts_styles[0],detected_fonts_styles[1])\n",
    "tagged_list = headers_para(doc, size_tag)\n",
    "tagged_list"
   ]
  },
  {
   "cell_type": "code",
   "execution_count": null,
   "metadata": {},
   "outputs": [],
   "source": []
  },
  {
   "cell_type": "code",
   "execution_count": 91,
   "metadata": {
    "scrolled": true
   },
   "outputs": [
    {
     "data": {
      "text/plain": [
       "['<p>Pengukuran dilapangan dilakukan untuk evapotranspirasi tanaman, perkolasi, air irigasi dan curah hujan. | Jumlah air yang diberikan di lahan yaitu hingga air tergenang di petak sawah setinggi 2 cm untuk perlakuan | sawah konvensional dan macak-macak untuk sawah SRI dan air akan dialirkan kembali ke lahan SRI ketika | tanah sawah sudah menunjukkan retak rambut. Pengukuran curah hujan dilakukan setiap hari dengan | menggunakan alat penakar hujan observatorium sederhana.  Pengukuran evapotranspirasi dan perkolasi | menggunakan susunan tiga buah  lysimeter  (Gambar 5). Tangki A berdasar terbuka dan ditanami padi | digunakan untuk mengukur jumlah kehilangan air tanaman oleh evapotranspirasi dan perkolasi (Et + P). | Tangki B berdasar terbuka dan tanpa ditanami padi, digunakan untuk mengukur evaporasi dan perkolasi (E + | P). Tangki C dengan dasar tertutup dan tanpa ditanami padi digunakan untuk mengukur evaporasi (E). | Pengukuran kehilangan air di dalam  lysimeter  menggunakan mistar. Kehilangan air setiap harinya diukur | pada pukul 06.00 WIB. Air irigasi yang diberikan ke petak sawah yaitu air yang bersumber dari  reservoir  dan | dialirkan melalui pipa. || Perhitungan produktivitas air dapat dilakukan setelah diketahui produksi padi dan kebutuhan air yang | digunakan. Pada penelitian ini produktivitas padi yang dihitung yaitu secara aktual dan potensial per hektar. | Produktivitas secara aktual yaitu produktivitas bersih padi yang didapatkan dari petak sawah penelitian, | sedangkan produktivitas potensial merupakan hasil maksimum yang mampu didapatkan yang dihitung dari | berat 1000 butir padi dan kemudian disetarakan dalam satuan hektar.  | Produktivitas air merupakan rasio antara hasil panen yang diperoleh dengan jumlah air yang diberikan pada | tanaman (evaportanspirasi, perkolasi, irigasi, curah hujan dan drainase) dengan satuan kg/m',\n",
       " '<s1>3 ',\n",
       " '<p>air atau | kg/liter air. Semakin tinggi produktivitas air, maka semakin optimal penggunaan air tersebut. Dalam | percobaan ini produktivitas air akan dibandingkan antara petak sawah dengan sistem pemberian secara | konvensional dengan petak sawah dengan sistem pemberian air SRI. || Sistem pemberian air irigasi yang digunakan dalam penelitian ini adalah irigasi pipa. Air yang diberikan pada | petak sawah konvensional digenangi terus menerus setinggi 2 cm dari awal penanaman sampai 85 HST dan | pengeringan sawah dilakukan saat pemupukan dan pada masa persiapan panen (86 - 100 HST). Petak SRI air | diberikan secara terputus-putus ( intermittent ) dari awal penanaman sampai 85 HST. Penggenangan sawah | setinggi 2 cm dilakukan hanya saat dilakukan penyiangan dan pengeringan sawah dilakukan pada masa | persiapan panen (86 – 100 HST). || Sistem irigasi pipa yang digunakan merupakan irigasi pipa yang dilengkapi dengan bola yang dapat menutup | saluran pipa jika ketinggian air sudah mencapai genangan yang telah diatur di petak sawah. Bola pelampung | diletakkan didalam pipa saluran 2,5 inci, dan saat air dikeluarkan melalui saluran, bola akan ikut naik sejalan | dengan naiknya air dipetakan sawah. Saat petakan sawah sudah tergenangi setinggi 2 cm pada saat itu pula | posisi bola sudah menutup saluran pipa dan sumber air yang dialirkan ke lahan akan terhenti. Begitu | selanjutnya, ketika air dipetak sawah menurun baik karena adanya evaporasi, transpirasi, perkolasi dan lain | lain, saluran akan kembali terbuka sejalan dengan menurunnya air di petak sawah. Petak sawah konvensional | digenangi secara kontinyu, sedangkan petak sawah SRI diberikan air secara terputus-putus dengan | pemberian air di awal setinggi 2 cm kemudian air akan dibiarkan macak-macak hingga retak rambut baru | kemudian air diberikan kembali ke petak sawah. || Kebutuhan air untuk evapotranspirasi tanaman padi pada masing-masing perlakuan yaitu konvensional | maupun SRI dapat dilihat bahwa pada sawah konvensional air yang dibutuhkan untuk evapotranspirasi lebih | tinggi dibandingkan dengan sawah SRI. Data pengukuran menunjukkan bahwa konsumsi air tanaman pada | fase vegetatif lebih banyak dibandingkan dengan fase generatif dan kemudian meningkat kembali pada fase | pemasakan. Fase generatif harusnya kebutuhan air lebih tinggi dibandingkan dengan fase generatif, akan | tetapi pada penelitian ini didapatkan sebaliknya. Hal ini terjadi karena pada fase vegetatif curah hujan yang | terjadi lebih banyak pada fase ini. Fase vegetatif merupakan fase tanaman untuk menghasilkan anakan padi | yang produktif dan air yang cukup dibutuhkan tanaman padi pada fase ini. || Hasil penelitian sejalan dengan penelitian Sofiyuddin  et al . (2012) yang mendapatkan nilai perkolasi antara | 1,91 – 5,49 mm/hari. Linsey dan Franzini (1979) menyatakan bahwa laju perkolasi yang terjadi dipengaruhi | oleh tekstur tanah, lapisan top soil, tinggi muka air tanah, lapisan kedap dan topografi. Subagyono  et al. |',\n",
       " '<p>(2005) melaporkan secara umum perkolasi pada tanah sawah yang terjadi setiap hari yaitu sebesar 1-10 | mm/hari.  | Hasil uji laboratorium didapatkan bahwa tanah sawah pada tempat dilakukannya penelitian bertekstur liat. | Djaenuddin  et al.  (2003) menyatakan tanah dengan tekstur halus-sedang (liat berpasir, liat, liat berdebu, | lempung berliat, lempung liat berpasir, lempung berpasir, lempung liat berdebu, lempung, lempung berdebu | dan debu) sesuai untuk dijadikan lahan sawah |']"
      ]
     },
     "execution_count": 91,
     "metadata": {},
     "output_type": "execute_result"
    }
   ],
   "source": [
    "doc = fitz.open(\"data/essay_3.pdf\")\n",
    "detected_fonts_styles = fonts(doc)\n",
    "size_tag = font_tags(detected_fonts_styles[0],detected_fonts_styles[1])\n",
    "tagged_list = headers_para(doc, size_tag)\n",
    "tagged_list"
   ]
  },
  {
   "cell_type": "code",
   "execution_count": null,
   "metadata": {},
   "outputs": [],
   "source": []
  },
  {
   "cell_type": "markdown",
   "metadata": {},
   "source": [
    "# Layout-Parser"
   ]
  },
  {
   "cell_type": "markdown",
   "metadata": {},
   "source": [
    "References: https://github.com/Layout-Parser/layout-parser/blob/master/examples/Deep%20Layout%20Parsing.ipynb\n",
    "\n",
    "Pros: general solution for all kind of documents\n",
    "\n",
    "Cons: big model size"
   ]
  },
  {
   "cell_type": "code",
   "execution_count": 112,
   "metadata": {},
   "outputs": [
    {
     "name": "stdout",
     "output_type": "stream",
     "text": [
      "Requirement already satisfied: pdf2image in /home/louisowen6/miniconda3/envs/test_env/lib/python3.6/site-packages (1.14.0)\r\n",
      "Requirement already satisfied: pillow in /home/louisowen6/miniconda3/envs/test_env/lib/python3.6/site-packages (from pdf2image) (8.0.1)\r\n"
     ]
    }
   ],
   "source": [
    "#conda install -c conda-forge poppler\n",
    "!pip install pdf2image"
   ]
  },
  {
   "cell_type": "code",
   "execution_count": 94,
   "metadata": {
    "scrolled": true
   },
   "outputs": [
    {
     "name": "stdout",
     "output_type": "stream",
     "text": [
      "Collecting torch==1.8.1\n",
      "  Downloading torch-1.8.1-cp36-cp36m-manylinux1_x86_64.whl (804.1 MB)\n",
      "\u001b[K     |████████████████████████████████| 804.1 MB 13 kB/s  eta 0:00:01     |████▉                           | 120.9 MB 3.7 MB/s eta 0:03:05     |██████████▍                     | 259.7 MB 4.0 MB/s eta 0:02:17     |██████████▋                     | 265.3 MB 3.7 MB/s eta 0:02:27     |██████████████▌                 | 363.5 MB 4.2 MB/s eta 0:01:44     |████████████████                | 401.1 MB 1.3 MB/s eta 0:05:11     |███████████████████▉            | 497.6 MB 2.1 MB/s eta 0:02:25     |█████████████████████▊          | 546.2 MB 2.8 MB/s eta 0:01:32     |████████████████████████████    | 700.9 MB 820 kB/s eta 0:02:06     |█████████████████████████████▎  | 734.8 MB 799 kB/s eta 0:01:27     |█████████████████████████████▌  | 742.3 MB 97 kB/s eta 0:10:34\n",
      "\u001b[?25hRequirement already satisfied: numpy in /home/louisowen6/miniconda3/envs/test_env/lib/python3.6/site-packages (from torch==1.8.1) (1.19.2)\n",
      "Requirement already satisfied: dataclasses; python_version < \"3.7\" in /home/louisowen6/miniconda3/envs/test_env/lib/python3.6/site-packages (from torch==1.8.1) (0.8)\n",
      "Requirement already satisfied: typing-extensions in /home/louisowen6/miniconda3/envs/test_env/lib/python3.6/site-packages (from torch==1.8.1) (3.7.4.3)\n",
      "Installing collected packages: torch\n",
      "  Attempting uninstall: torch\n",
      "    Found existing installation: torch 1.7.1\n",
      "    Uninstalling torch-1.7.1:\n",
      "      Successfully uninstalled torch-1.7.1\n",
      "\u001b[31mERROR: After October 2020 you may experience errors when installing or updating packages. This is because pip will change the way that it resolves dependency conflicts.\n",
      "\n",
      "We recommend you use --use-feature=2020-resolver to test your packages with the new resolver before it becomes the default.\n",
      "\n",
      "flair 0.8.0.post1 requires torch<=1.7.1,>=1.5.0, but you'll have torch 1.8.1 which is incompatible.\u001b[0m\n",
      "Successfully installed torch-1.8.1\n"
     ]
    }
   ],
   "source": [
    "!pip install torch==1.8.1"
   ]
  },
  {
   "cell_type": "code",
   "execution_count": 96,
   "metadata": {
    "scrolled": true
   },
   "outputs": [
    {
     "name": "stdout",
     "output_type": "stream",
     "text": [
      "Requirement already up-to-date: layoutparser[ocr] in /home/louisowen6/miniconda3/envs/test_env/lib/python3.6/site-packages (0.2.0)\n",
      "Requirement already satisfied, skipping upgrade: numpy in /home/louisowen6/miniconda3/envs/test_env/lib/python3.6/site-packages (from layoutparser[ocr]) (1.19.2)\n",
      "Requirement already satisfied, skipping upgrade: opencv-python in /home/louisowen6/miniconda3/envs/test_env/lib/python3.6/site-packages (from layoutparser[ocr]) (4.5.1.48)\n",
      "Requirement already satisfied, skipping upgrade: torchvision in /home/louisowen6/miniconda3/envs/test_env/lib/python3.6/site-packages (from layoutparser[ocr]) (0.9.1)\n",
      "Requirement already satisfied, skipping upgrade: torch in /home/louisowen6/miniconda3/envs/test_env/lib/python3.6/site-packages (from layoutparser[ocr]) (1.8.1)\n",
      "Requirement already satisfied, skipping upgrade: iopath in /home/louisowen6/miniconda3/envs/test_env/lib/python3.6/site-packages (from layoutparser[ocr]) (0.1.8)\n",
      "Requirement already satisfied, skipping upgrade: pillow in /home/louisowen6/miniconda3/envs/test_env/lib/python3.6/site-packages (from layoutparser[ocr]) (8.0.1)\n",
      "Requirement already satisfied, skipping upgrade: pyyaml>=5.1 in /home/louisowen6/miniconda3/envs/test_env/lib/python3.6/site-packages (from layoutparser[ocr]) (5.4.1)\n",
      "Requirement already satisfied, skipping upgrade: pandas in /home/louisowen6/miniconda3/envs/test_env/lib/python3.6/site-packages (from layoutparser[ocr]) (1.1.3)\n",
      "Collecting google-cloud-vision==1; extra == \"ocr\"\n",
      "  Downloading google_cloud_vision-1.0.0-py2.py3-none-any.whl (435 kB)\n",
      "\u001b[K     |████████████████████████████████| 435 kB 1.7 MB/s eta 0:00:01\n",
      "\u001b[?25hCollecting pytesseract; extra == \"ocr\"\n",
      "  Downloading pytesseract-0.3.7.tar.gz (13 kB)\n",
      "Requirement already satisfied, skipping upgrade: dataclasses; python_version < \"3.7\" in /home/louisowen6/miniconda3/envs/test_env/lib/python3.6/site-packages (from torch->layoutparser[ocr]) (0.8)\n",
      "Requirement already satisfied, skipping upgrade: typing-extensions in /home/louisowen6/miniconda3/envs/test_env/lib/python3.6/site-packages (from torch->layoutparser[ocr]) (3.7.4.3)\n",
      "Requirement already satisfied, skipping upgrade: tqdm in /home/louisowen6/miniconda3/envs/test_env/lib/python3.6/site-packages (from iopath->layoutparser[ocr]) (4.59.0)\n",
      "Requirement already satisfied, skipping upgrade: portalocker in /home/louisowen6/miniconda3/envs/test_env/lib/python3.6/site-packages (from iopath->layoutparser[ocr]) (2.3.0)\n",
      "Requirement already satisfied, skipping upgrade: python-dateutil>=2.7.3 in /home/louisowen6/miniconda3/envs/test_env/lib/python3.6/site-packages (from pandas->layoutparser[ocr]) (2.8.1)\n",
      "Requirement already satisfied, skipping upgrade: pytz>=2017.2 in /home/louisowen6/miniconda3/envs/test_env/lib/python3.6/site-packages (from pandas->layoutparser[ocr]) (2020.1)\n",
      "Collecting google-api-core[grpc]<2.0.0dev,>=1.14.0\n",
      "  Downloading google_api_core-1.26.3-py2.py3-none-any.whl (93 kB)\n",
      "\u001b[K     |████████████████████████████████| 93 kB 558 kB/s eta 0:00:01\n",
      "\u001b[?25hRequirement already satisfied, skipping upgrade: six>=1.5 in /home/louisowen6/miniconda3/envs/test_env/lib/python3.6/site-packages (from python-dateutil>=2.7.3->pandas->layoutparser[ocr]) (1.15.0)\n",
      "Requirement already satisfied, skipping upgrade: setuptools>=40.3.0 in /home/louisowen6/miniconda3/envs/test_env/lib/python3.6/site-packages (from google-api-core[grpc]<2.0.0dev,>=1.14.0->google-cloud-vision==1; extra == \"ocr\"->layoutparser[ocr]) (50.3.1.post20201107)\n",
      "Collecting protobuf>=3.12.0\n",
      "  Downloading protobuf-3.15.8-cp36-cp36m-manylinux1_x86_64.whl (1.0 MB)\n",
      "\u001b[K     |████████████████████████████████| 1.0 MB 956 kB/s eta 0:00:01\n",
      "\u001b[?25hRequirement already satisfied, skipping upgrade: requests<3.0.0dev,>=2.18.0 in /home/louisowen6/miniconda3/envs/test_env/lib/python3.6/site-packages (from google-api-core[grpc]<2.0.0dev,>=1.14.0->google-cloud-vision==1; extra == \"ocr\"->layoutparser[ocr]) (2.24.0)\n",
      "Requirement already satisfied, skipping upgrade: packaging>=14.3 in /home/louisowen6/miniconda3/envs/test_env/lib/python3.6/site-packages (from google-api-core[grpc]<2.0.0dev,>=1.14.0->google-cloud-vision==1; extra == \"ocr\"->layoutparser[ocr]) (20.4)\n",
      "Collecting google-auth<2.0dev,>=1.21.1\n",
      "  Downloading google_auth-1.30.0-py2.py3-none-any.whl (146 kB)\n",
      "\u001b[K     |████████████████████████████████| 146 kB 875 kB/s eta 0:00:01\n",
      "\u001b[?25hCollecting googleapis-common-protos<2.0dev,>=1.6.0\n",
      "  Downloading googleapis_common_protos-1.53.0-py2.py3-none-any.whl (198 kB)\n",
      "\u001b[K     |████████████████████████████████| 198 kB 613 kB/s eta 0:00:01\n",
      "\u001b[?25hCollecting grpcio<2.0dev,>=1.29.0; extra == \"grpc\"\n",
      "  Downloading grpcio-1.37.1-cp36-cp36m-manylinux2014_x86_64.whl (4.2 MB)\n",
      "\u001b[K     |████████████████████████████████| 4.2 MB 709 kB/s eta 0:00:01\n",
      "\u001b[?25hRequirement already satisfied, skipping upgrade: chardet<4,>=3.0.2 in /home/louisowen6/miniconda3/envs/test_env/lib/python3.6/site-packages (from requests<3.0.0dev,>=2.18.0->google-api-core[grpc]<2.0.0dev,>=1.14.0->google-cloud-vision==1; extra == \"ocr\"->layoutparser[ocr]) (3.0.4)\n",
      "Requirement already satisfied, skipping upgrade: certifi>=2017.4.17 in /home/louisowen6/miniconda3/envs/test_env/lib/python3.6/site-packages (from requests<3.0.0dev,>=2.18.0->google-api-core[grpc]<2.0.0dev,>=1.14.0->google-cloud-vision==1; extra == \"ocr\"->layoutparser[ocr]) (2020.6.20)\n",
      "Requirement already satisfied, skipping upgrade: urllib3!=1.25.0,!=1.25.1,<1.26,>=1.21.1 in /home/louisowen6/miniconda3/envs/test_env/lib/python3.6/site-packages (from requests<3.0.0dev,>=2.18.0->google-api-core[grpc]<2.0.0dev,>=1.14.0->google-cloud-vision==1; extra == \"ocr\"->layoutparser[ocr]) (1.25.11)\n",
      "Requirement already satisfied, skipping upgrade: idna<3,>=2.5 in /home/louisowen6/miniconda3/envs/test_env/lib/python3.6/site-packages (from requests<3.0.0dev,>=2.18.0->google-api-core[grpc]<2.0.0dev,>=1.14.0->google-cloud-vision==1; extra == \"ocr\"->layoutparser[ocr]) (2.10)\n",
      "Requirement already satisfied, skipping upgrade: pyparsing>=2.0.2 in /home/louisowen6/miniconda3/envs/test_env/lib/python3.6/site-packages (from packaging>=14.3->google-api-core[grpc]<2.0.0dev,>=1.14.0->google-cloud-vision==1; extra == \"ocr\"->layoutparser[ocr]) (2.4.7)\n",
      "Collecting pyasn1-modules>=0.2.1\n",
      "  Using cached pyasn1_modules-0.2.8-py2.py3-none-any.whl (155 kB)\n",
      "Collecting rsa<5,>=3.1.4; python_version >= \"3.6\"\n",
      "  Downloading rsa-4.7.2-py3-none-any.whl (34 kB)\n",
      "Collecting cachetools<5.0,>=2.0.0\n",
      "  Downloading cachetools-4.2.2-py3-none-any.whl (11 kB)\n",
      "Collecting pyasn1<0.5.0,>=0.4.6\n",
      "  Using cached pyasn1-0.4.8-py2.py3-none-any.whl (77 kB)\n",
      "Building wheels for collected packages: pytesseract\n",
      "  Building wheel for pytesseract (setup.py) ... \u001b[?25ldone\n",
      "\u001b[?25h  Created wheel for pytesseract: filename=pytesseract-0.3.7-py2.py3-none-any.whl size=13946 sha256=1c4a5a10536ee6d64c1f1573e99752b31947a913e38d2e6e481b0440b2cd156d\n",
      "  Stored in directory: /home/louisowen6/.cache/pip/wheels/c1/ca/d1/14e0dabe6f772bb5b45e006111268d943d4196fcb8798e3bf8\n",
      "Successfully built pytesseract\n",
      "Installing collected packages: protobuf, pyasn1, pyasn1-modules, rsa, cachetools, google-auth, googleapis-common-protos, grpcio, google-api-core, google-cloud-vision, pytesseract\n",
      "Successfully installed cachetools-4.2.2 google-api-core-1.26.3 google-auth-1.30.0 google-cloud-vision-1.0.0 googleapis-common-protos-1.53.0 grpcio-1.37.1 protobuf-3.15.8 pyasn1-0.4.8 pyasn1-modules-0.2.8 pytesseract-0.3.7 rsa-4.7.2\n"
     ]
    }
   ],
   "source": [
    "!pip install -U layoutparser[ocr]"
   ]
  },
  {
   "cell_type": "code",
   "execution_count": null,
   "metadata": {},
   "outputs": [],
   "source": [
    "# sudo apt install tesseract-ocr-ind\n",
    "# sudo apt install libtesseract-dev"
   ]
  },
  {
   "cell_type": "code",
   "execution_count": 3,
   "metadata": {
    "scrolled": true
   },
   "outputs": [
    {
     "name": "stdout",
     "output_type": "stream",
     "text": [
      "Looking in links: https://dl.fbaipublicfiles.com/detectron2/wheels/cpu/torch1.8/index.html\n",
      "Collecting detectron2\n",
      "  Downloading https://dl.fbaipublicfiles.com/detectron2/wheels/cpu/torch1.8/detectron2-0.4%2Bcpu-cp36-cp36m-linux_x86_64.whl (5.1 MB)\n",
      "\u001b[K     |████████████████████████████████| 5.1 MB 530 kB/s eta 0:00:01\n",
      "\u001b[?25hCollecting omegaconf>=2\n",
      "  Downloading omegaconf-2.0.6-py3-none-any.whl (36 kB)\n",
      "Requirement already satisfied: Pillow>=7.1 in /home/louisowen6/miniconda3/envs/test_env/lib/python3.6/site-packages (from detectron2) (8.0.1)\n",
      "Collecting pydot\n",
      "  Downloading pydot-1.4.2-py2.py3-none-any.whl (21 kB)\n",
      "Collecting pycocotools>=2.0.2\n",
      "  Downloading pycocotools-2.0.2.tar.gz (23 kB)\n",
      "Requirement already satisfied: termcolor>=1.1 in /home/louisowen6/miniconda3/envs/test_env/lib/python3.6/site-packages (from detectron2) (1.1.0)\n",
      "Collecting tensorboard\n",
      "  Downloading tensorboard-2.5.0-py3-none-any.whl (6.0 MB)\n",
      "\u001b[K     |████████████████████████████████| 6.0 MB 1.7 MB/s eta 0:00:01\n",
      "\u001b[?25hRequirement already satisfied: iopath>=0.1.2 in /home/louisowen6/miniconda3/envs/test_env/lib/python3.6/site-packages (from detectron2) (0.1.8)\n",
      "Requirement already satisfied: future in /home/louisowen6/miniconda3/envs/test_env/lib/python3.6/site-packages (from detectron2) (0.18.2)\n",
      "Collecting yacs>=0.1.6\n",
      "  Downloading yacs-0.1.8-py3-none-any.whl (14 kB)\n",
      "Requirement already satisfied: cloudpickle in /home/louisowen6/miniconda3/envs/test_env/lib/python3.6/site-packages (from detectron2) (1.6.0)\n",
      "Requirement already satisfied: tabulate in /home/louisowen6/miniconda3/envs/test_env/lib/python3.6/site-packages (from detectron2) (0.8.9)\n",
      "Requirement already satisfied: matplotlib in /home/louisowen6/miniconda3/envs/test_env/lib/python3.6/site-packages (from detectron2) (3.3.2)\n",
      "Requirement already satisfied: tqdm>4.29.0 in /home/louisowen6/miniconda3/envs/test_env/lib/python3.6/site-packages (from detectron2) (4.59.0)\n",
      "Collecting fvcore<0.1.4,>=0.1.3\n",
      "  Downloading fvcore-0.1.3.post20210317.tar.gz (47 kB)\n",
      "\u001b[K     |████████████████████████████████| 47 kB 2.0 MB/s eta 0:00:01\n",
      "\u001b[?25hRequirement already satisfied: dataclasses; python_version < \"3.7\" in /home/louisowen6/miniconda3/envs/test_env/lib/python3.6/site-packages (from detectron2) (0.8)\n",
      "Requirement already satisfied: typing-extensions in /home/louisowen6/miniconda3/envs/test_env/lib/python3.6/site-packages (from omegaconf>=2->detectron2) (3.7.4.3)\n",
      "Requirement already satisfied: PyYAML>=5.1.* in /home/louisowen6/miniconda3/envs/test_env/lib/python3.6/site-packages (from omegaconf>=2->detectron2) (5.4.1)\n",
      "Requirement already satisfied: pyparsing>=2.1.4 in /home/louisowen6/miniconda3/envs/test_env/lib/python3.6/site-packages (from pydot->detectron2) (2.4.7)\n",
      "Requirement already satisfied: setuptools>=18.0 in /home/louisowen6/miniconda3/envs/test_env/lib/python3.6/site-packages (from pycocotools>=2.0.2->detectron2) (50.3.1.post20201107)\n",
      "Collecting cython>=0.27.3\n",
      "  Using cached Cython-0.29.23-cp36-cp36m-manylinux1_x86_64.whl (2.0 MB)\n",
      "Collecting werkzeug>=0.11.15\n",
      "  Using cached Werkzeug-1.0.1-py2.py3-none-any.whl (298 kB)\n",
      "Collecting tensorboard-data-server<0.7.0,>=0.6.0\n",
      "  Downloading tensorboard_data_server-0.6.0-py3-none-manylinux2010_x86_64.whl (3.9 MB)\n",
      "\u001b[K     |████████████████████████████████| 3.9 MB 159 kB/s eta 0:00:01\n",
      "\u001b[?25hCollecting google-auth-oauthlib<0.5,>=0.4.1\n",
      "  Downloading google_auth_oauthlib-0.4.4-py2.py3-none-any.whl (18 kB)\n",
      "Collecting absl-py>=0.4\n",
      "  Downloading absl_py-0.12.0-py3-none-any.whl (129 kB)\n",
      "\u001b[K     |████████████████████████████████| 129 kB 1.4 MB/s eta 0:00:01\n",
      "\u001b[?25hRequirement already satisfied: grpcio>=1.24.3 in /home/louisowen6/miniconda3/envs/test_env/lib/python3.6/site-packages (from tensorboard->detectron2) (1.37.1)\n",
      "Requirement already satisfied: numpy>=1.12.0 in /home/louisowen6/miniconda3/envs/test_env/lib/python3.6/site-packages (from tensorboard->detectron2) (1.19.2)\n",
      "Collecting tensorboard-plugin-wit>=1.6.0\n",
      "  Downloading tensorboard_plugin_wit-1.8.0-py3-none-any.whl (781 kB)\n",
      "\u001b[K     |████████████████████████████████| 781 kB 1.9 MB/s eta 0:00:01\n",
      "\u001b[?25hRequirement already satisfied: wheel>=0.26; python_version >= \"3\" in /home/louisowen6/miniconda3/envs/test_env/lib/python3.6/site-packages (from tensorboard->detectron2) (0.35.1)\n",
      "Requirement already satisfied: protobuf>=3.6.0 in /home/louisowen6/miniconda3/envs/test_env/lib/python3.6/site-packages (from tensorboard->detectron2) (3.15.8)\n",
      "Requirement already satisfied: requests<3,>=2.21.0 in /home/louisowen6/miniconda3/envs/test_env/lib/python3.6/site-packages (from tensorboard->detectron2) (2.24.0)\n",
      "Collecting markdown>=2.6.8\n",
      "  Downloading Markdown-3.3.4-py3-none-any.whl (97 kB)\n",
      "\u001b[K     |████████████████████████████████| 97 kB 1.0 MB/s eta 0:00:01\n",
      "\u001b[?25hRequirement already satisfied: google-auth<2,>=1.6.3 in /home/louisowen6/miniconda3/envs/test_env/lib/python3.6/site-packages (from tensorboard->detectron2) (1.30.0)\n",
      "Requirement already satisfied: portalocker in /home/louisowen6/miniconda3/envs/test_env/lib/python3.6/site-packages (from iopath>=0.1.2->detectron2) (2.3.0)\n",
      "Requirement already satisfied: certifi>=2020.06.20 in /home/louisowen6/miniconda3/envs/test_env/lib/python3.6/site-packages (from matplotlib->detectron2) (2020.12.5)\n",
      "Requirement already satisfied: python-dateutil>=2.1 in /home/louisowen6/miniconda3/envs/test_env/lib/python3.6/site-packages (from matplotlib->detectron2) (2.8.1)\n",
      "Requirement already satisfied: kiwisolver>=1.0.1 in /home/louisowen6/miniconda3/envs/test_env/lib/python3.6/site-packages (from matplotlib->detectron2) (1.3.0)\n",
      "Requirement already satisfied: cycler>=0.10 in /home/louisowen6/miniconda3/envs/test_env/lib/python3.6/site-packages (from matplotlib->detectron2) (0.10.0)\n",
      "Collecting requests-oauthlib>=0.7.0\n",
      "  Using cached requests_oauthlib-1.3.0-py2.py3-none-any.whl (23 kB)\n",
      "Requirement already satisfied: six in /home/louisowen6/miniconda3/envs/test_env/lib/python3.6/site-packages (from absl-py>=0.4->tensorboard->detectron2) (1.15.0)\n",
      "Requirement already satisfied: chardet<4,>=3.0.2 in /home/louisowen6/miniconda3/envs/test_env/lib/python3.6/site-packages (from requests<3,>=2.21.0->tensorboard->detectron2) (3.0.4)\n",
      "Requirement already satisfied: urllib3!=1.25.0,!=1.25.1,<1.26,>=1.21.1 in /home/louisowen6/miniconda3/envs/test_env/lib/python3.6/site-packages (from requests<3,>=2.21.0->tensorboard->detectron2) (1.25.11)\n",
      "Requirement already satisfied: idna<3,>=2.5 in /home/louisowen6/miniconda3/envs/test_env/lib/python3.6/site-packages (from requests<3,>=2.21.0->tensorboard->detectron2) (2.10)\n",
      "Requirement already satisfied: importlib-metadata; python_version < \"3.8\" in /home/louisowen6/miniconda3/envs/test_env/lib/python3.6/site-packages (from markdown>=2.6.8->tensorboard->detectron2) (3.10.1)\n",
      "Requirement already satisfied: pyasn1-modules>=0.2.1 in /home/louisowen6/miniconda3/envs/test_env/lib/python3.6/site-packages (from google-auth<2,>=1.6.3->tensorboard->detectron2) (0.2.8)\n",
      "Requirement already satisfied: cachetools<5.0,>=2.0.0 in /home/louisowen6/miniconda3/envs/test_env/lib/python3.6/site-packages (from google-auth<2,>=1.6.3->tensorboard->detectron2) (4.2.2)\n",
      "Requirement already satisfied: rsa<5,>=3.1.4; python_version >= \"3.6\" in /home/louisowen6/miniconda3/envs/test_env/lib/python3.6/site-packages (from google-auth<2,>=1.6.3->tensorboard->detectron2) (4.7.2)\n",
      "Collecting oauthlib>=3.0.0\n",
      "  Using cached oauthlib-3.1.0-py2.py3-none-any.whl (147 kB)\n",
      "Requirement already satisfied: zipp>=0.5 in /home/louisowen6/miniconda3/envs/test_env/lib/python3.6/site-packages (from importlib-metadata; python_version < \"3.8\"->markdown>=2.6.8->tensorboard->detectron2) (3.4.0)\n",
      "Requirement already satisfied: pyasn1<0.5.0,>=0.4.6 in /home/louisowen6/miniconda3/envs/test_env/lib/python3.6/site-packages (from pyasn1-modules>=0.2.1->google-auth<2,>=1.6.3->tensorboard->detectron2) (0.4.8)\n",
      "Building wheels for collected packages: pycocotools, fvcore\n",
      "  Building wheel for pycocotools (setup.py) ... \u001b[?25ldone\n",
      "\u001b[?25h  Created wheel for pycocotools: filename=pycocotools-2.0.2-cp36-cp36m-linux_x86_64.whl size=371759 sha256=893cf75b788ac140db175bb5b295d520fbecec569b0b0ac295c03f759434a2a5\n",
      "  Stored in directory: /home/louisowen6/.cache/pip/wheels/d8/c2/ba/8f5306f921c2e79ad7b09effdfed6bd966cfcf8c6fe55422d6\n"
     ]
    },
    {
     "name": "stdout",
     "output_type": "stream",
     "text": [
      "  Building wheel for fvcore (setup.py) ... \u001b[?25ldone\n",
      "\u001b[?25h  Created wheel for fvcore: filename=fvcore-0.1.3.post20210317-py3-none-any.whl size=58541 sha256=7d296e19f4a6e881eee9fcb25a63a1e8f9fa4d9914f337eb5e811c73f810e2e3\n",
      "  Stored in directory: /home/louisowen6/.cache/pip/wheels/c6/25/b5/1f76e3c22d316deb81d3837756cf497e86b817db223a4b49c6\n",
      "Successfully built pycocotools fvcore\n",
      "Installing collected packages: omegaconf, pydot, cython, pycocotools, werkzeug, tensorboard-data-server, oauthlib, requests-oauthlib, google-auth-oauthlib, absl-py, tensorboard-plugin-wit, markdown, tensorboard, yacs, fvcore, detectron2\n",
      "Successfully installed absl-py-0.12.0 cython-0.29.23 detectron2-0.4+cpu fvcore-0.1.3.post20210317 google-auth-oauthlib-0.4.4 markdown-3.3.4 oauthlib-3.1.0 omegaconf-2.0.6 pycocotools-2.0.2 pydot-1.4.2 requests-oauthlib-1.3.0 tensorboard-2.5.0 tensorboard-data-server-0.6.0 tensorboard-plugin-wit-1.8.0 werkzeug-1.0.1 yacs-0.1.8\n"
     ]
    }
   ],
   "source": [
    "!pip install detectron2 -f https://dl.fbaipublicfiles.com/detectron2/wheels/cpu/torch1.8/index.html"
   ]
  },
  {
   "cell_type": "code",
   "execution_count": 1,
   "metadata": {},
   "outputs": [],
   "source": [
    "from pdf2image import convert_from_path\n",
    "from pdf2image.exceptions import (\n",
    "    PDFInfoNotInstalledError,\n",
    "    PDFPageCountError,\n",
    "    PDFSyntaxError\n",
    ")\n",
    "\n",
    "import re\n",
    "import pandas as pd\n",
    "import numpy as np\n",
    "\n",
    "import layoutparser as lp\n",
    "from layoutparser.elements import Rectangle"
   ]
  },
  {
   "cell_type": "code",
   "execution_count": null,
   "metadata": {},
   "outputs": [],
   "source": []
  },
  {
   "cell_type": "code",
   "execution_count": 11,
   "metadata": {},
   "outputs": [],
   "source": [
    "def pdf_to_text(pdf_path):\n",
    "    # Convert PDF to Images\n",
    "    images = convert_from_path(pdf_path)\n",
    "    images = [np.asarray(images[i]) for i in range(len(images))]\n",
    "    \n",
    "    # Load the deep layout model from the layoutparser API \n",
    "    # For all the supported model, please check the Model \n",
    "    # Zoo Page: https://layout-parser.readthedocs.io/en/latest/notes/modelzoo.html\n",
    "\n",
    "    model = lp.Detectron2LayoutModel(\n",
    "                                     'lp://PubLayNet/faster_rcnn_R_50_FPN_3x/config', \n",
    "                                     extra_config=[\"MODEL.ROI_HEADS.SCORE_THRESH_TEST\", 0.8],\n",
    "                                     label_map={0: \"Text\", 1: \"Title\", 2: \"List\", 3:\"Table\", 4:\"Figure\"})\n",
    "\n",
    "    # Initialize the tesseract ocr engine\n",
    "    ocr_agent = lp.TesseractAgent(languages='ind')\n",
    "    \n",
    "    txt_list = []\n",
    "    for image in images:\n",
    "        text_blocks = extract_paragraphs(image,model,ocr_agent)\n",
    "\n",
    "        if text_blocks is not None:\n",
    "#             #Visualize the cleaned text blocks:\n",
    "#             display(lp.draw_box(image, text_blocks,\n",
    "#                         box_width=3, \n",
    "#                         show_element_id=True))\n",
    "\n",
    "\n",
    "            for txt in text_blocks.get_texts():\n",
    "                txt = re.sub('\\n',' ',txt).strip()\n",
    "#                 print(txt, end='\\n---\\n')\n",
    "                txt_list.append(re.sub('\\x0c','',txt))\n",
    "    \n",
    "    #Append splitted paragraph\n",
    "    excluded_id = []\n",
    "    new_txt_list = []\n",
    "    for i in range(len(txt_list)-1):\n",
    "        if txt_list[i+1][0] != txt_list[i+1][0].lower():\n",
    "            if i not in excluded_id:\n",
    "                new_txt_list.append(txt_list[i])\n",
    "        else:\n",
    "            if i not in excluded_id:\n",
    "                new_txt_list.append(txt_list[i]+' '+txt_list[i+1])\n",
    "\n",
    "                excluded_id.append(i+1)\n",
    "\n",
    "    if (len(txt_list) - 1) not in excluded_id:\n",
    "        new_txt_list.append(txt_list[-1])\n",
    "    \n",
    "    return new_txt_list"
   ]
  },
  {
   "cell_type": "code",
   "execution_count": 6,
   "metadata": {},
   "outputs": [],
   "source": [
    "def extract_paragraphs(image,model,ocr_agent):\n",
    "    # Detect the layout of the input image\n",
    "    layout = model.detect(image)\n",
    "    \n",
    "    #Firstly we filter text region of specific type:\n",
    "    text_blocks = lp.Layout([b for b in layout if b.type=='Text'])\n",
    "    figure_blocks = lp.Layout([b for b in layout if b.type=='Title'])\n",
    "    \n",
    "    #As there could be text region detected inside the figure region, we just drop them:\n",
    "    text_blocks = lp.Layout([b for b in text_blocks \\\n",
    "                       if not any(b.is_in(b_fig) for b_fig in figure_blocks)])\n",
    "    \n",
    "    # ----------------------\n",
    "    # For 2 columns type of doc\n",
    "    # #Finally sort the text regions and assign ids:\n",
    "\n",
    "    # h, w = image.shape[:2]\n",
    "\n",
    "    # left_interval = lp.Interval(0, w/2*1.05, axis='x').put_on_canvas(image)\n",
    "\n",
    "    # left_blocks = text_blocks.filter_by(left_interval, center=True)\n",
    "    # left_blocks.sort(key = lambda b:b.coordinates[1])\n",
    "\n",
    "    # right_blocks = [b for b in text_blocks if b not in left_blocks]\n",
    "    # right_blocks.sort(key = lambda b:b.coordinates[1])\n",
    "\n",
    "    # # And finally combine the two list and add the index\n",
    "    # # according to the order\n",
    "    # text_blocks = lp.Layout([b.set(id = idx) for idx, b in enumerate(left_blocks + right_blocks)])\n",
    "    # ----------------------\n",
    "    \n",
    "    if len(text_blocks)>0:\n",
    "        # Indexing\n",
    "        y1_loc_list = []\n",
    "        for block in text_blocks:\n",
    "            y1_loc_list.append(block.to_dict()['y_1'])\n",
    "\n",
    "        id_list = (pd.Series(y1_loc_list).rank()-1).astype(int).to_list()\n",
    "\n",
    "        text_blocks = lp.Layout([b.set(id = id_list[idx]) for idx, b in enumerate(text_blocks)])\n",
    "\n",
    "\n",
    "        # Sorting\n",
    "        text_blocks = lp.Layout([x for _,x in sorted(zip(id_list,text_blocks))])\n",
    "\n",
    "        # Expanding\n",
    "        y1_loc_list = []\n",
    "        y2_loc_list = []\n",
    "        for block in text_blocks:\n",
    "            y1_loc_list.append(block.to_dict()['y_1'])\n",
    "            y2_loc_list.append(block.to_dict()['y_2'])\n",
    "\n",
    "        excluded_id = []\n",
    "        expanded_text_blocks = []\n",
    "        for i in range(len(y2_loc_list)-1):\n",
    "            if (y1_loc_list[i]>=y1_loc_list[i+1]) and (y1_loc_list[i]<=y2_loc_list[i+1]):\n",
    "                block = text_blocks[i]\n",
    "                next_block = text_blocks[i+1]\n",
    "\n",
    "                block.set(block=Rectangle(x_1=min(block.to_dict()['x_1'],next_block.to_dict()['x_1']),\n",
    "                                          x_2=max(block.to_dict()['x_2'],next_block.to_dict()['x_2']),\n",
    "                                          y_1=min(block.to_dict()['y_1'],next_block.to_dict()['y_1']),\n",
    "                                          y_2=max(block.to_dict()['y_2'],next_block.to_dict()['y_2']))\n",
    "                         , inplace=True)\n",
    "\n",
    "                expanded_text_blocks.append(block)\n",
    "                excluded_id.append(i+1)\n",
    "            elif (y1_loc_list[i+1]>=y1_loc_list[i]) and (y1_loc_list[i+1]<=y2_loc_list[i]):\n",
    "                block = text_blocks[i]\n",
    "                next_block = text_blocks[i+1]\n",
    "\n",
    "                block.set(block=Rectangle(x_1=min(block.to_dict()['x_1'],next_block.to_dict()['x_1']),\n",
    "                                          x_2=max(block.to_dict()['x_2'],next_block.to_dict()['x_2']),\n",
    "                                          y_1=min(block.to_dict()['y_1'],next_block.to_dict()['y_1']),\n",
    "                                          y_2=max(block.to_dict()['y_2'],next_block.to_dict()['y_2']))\n",
    "                         , inplace=True)\n",
    "\n",
    "                expanded_text_blocks.append(block)\n",
    "                excluded_id.append(i+1)\n",
    "            else:\n",
    "                if i not in excluded_id:\n",
    "                    expanded_text_blocks.append(text_blocks[i])\n",
    "\n",
    "        if (len(y2_loc_list) - 1) not in excluded_id:\n",
    "            expanded_text_blocks.append(text_blocks[len(text_blocks)-1])\n",
    "\n",
    "        expanded_text_blocks = lp.Layout(expanded_text_blocks)\n",
    "\n",
    "        for block in expanded_text_blocks:\n",
    "            # add padding in each image segment can help improve robustness \n",
    "            segment_image = (block\n",
    "                               .pad(left=5, right=5, top=5, bottom=5)\n",
    "                               .crop_image(image))\n",
    "\n",
    "\n",
    "            text = ocr_agent.detect(segment_image)\n",
    "            block.set(text=text, inplace=True)\n",
    "\n",
    "        return expanded_text_blocks\n",
    "    else:\n",
    "        return None"
   ]
  },
  {
   "cell_type": "code",
   "execution_count": null,
   "metadata": {},
   "outputs": [],
   "source": []
  },
  {
   "cell_type": "code",
   "execution_count": 13,
   "metadata": {
    "scrolled": true
   },
   "outputs": [
    {
     "data": {
      "text/plain": [
       "['Musim kemarau di Indonesia menyebabkan angka produksi padi menurun, penurunan sebesar 4,6 juta ton terjadi di tahun 2019 (1). Gambar 1 menunjukan luas fase persiapan lahan terjadi penurunan pada bulan April — Agustus yang sesuai dengan musim kemarau di Indonesia. Provinsi yang memiliki luas fase persiapan terbesar diantaranya Jawa Barat,  Jawa Tengah, Jawa Timur, Sulawesi Selatan, dan Sumatera Selatan.',\n",
       " 'Selain itu, provinsi tersebut memiliki tingkat petani skala kecil yang hanya memiliki luas sawah 0,16 hektar dengan persentase tertinggi di Indonesia. Salah satu indikator tujuan pembangunan berkelanjutan pada sektor pertanian yaitu nilai produksi per hektar, 90Y6 lahan pertanian di Jawa Barat, Jawa Timur, dan Nusa Tenggara Barat (NTB) dikategorikan lahan pertanian tidak berkelanjutan (21. Hal ini disebabkan karena tidak ada sumber air saat musim kemarau, bantuan dari pemerintah berupa pompa air tetapi sumber listrik di lokasi belum memadai. Mahalnya harga dan jauhnya akses untuk membeli bahan bakar minyak (BBM) membuat petani yang memiliki sawah di desa tidak sanggup untuk menggunakan BBM. Energi terbarukan bisa menjadi salah satu pembangkit listrik untuk menyuplai pompa air. Dengan potensi radiasi matahari di Indonesia, panel surya menjadi opsi yang tepat sebagai pembangkit listrik dan memiliki harga yang sudah ekonomis. Namun, penggunaan panel surya bisa mengurangi luas lahan pertanian dan mengakibatkan penurunan jumlah produksi. Salah satu solusi meningkatkan persentase keberlanjutan yaitu menggunakan  system of rice intensification (SRI) dengan sumber listrik pompa yang berasal dari panel',\n",
       " 'Metode pengairan sesuai jumlah dan waktu yang dibutuhkan oleh tanaman secara terputus- putus (intermittent). Dengan SRI dan pengelolaan tanaman yang baik dapat meningkatkan produktivitas tanaman sebesar 30-100 Y4 (31. Air selama satu masa tanam (100 hari) untuk sawah dengan sistem pemberian air secara SRI yaitu 467 mm atau 4,67 mm/hari dengan konversi 0,116 liter/detik/ha. Sementara, untuk produktivitas air (water productivity) atau rasio antara gabah kering giling yang dihasilkan (kg) dengan konsumsi air (m?) memiliki nilai 1412 kaim MI 2.2 Potensi penggunaan panel surya',\n",
       " 'Indonesia memiliki potensi radiasi matahari yang dapat dimanfaatkan oleh panel surya  sebesar 3,4 — 4,4 kWh/m?/hari termasuk pertanian di Jawa Barat, Jawa Timur, dan NTB. adalah efisiensi pompa, dan », adalah efisiensi motor.',\n",
       " 'dimana V adalah volume yang dibutuhkan dalam sehari (m?/hari), ns adalah efisiensi sistem, 2.4 Aspek Keekonomian',\n",
       " 'nilainya 84 dari IC, n umur dari panel surya, dan r adalah tingkat rasio suku bunga 7Y6',\n",
       " 'Untuk menghitung biaya penjualan listrik (LCOE) dapat menggunakan persamaan (5) sebagai berikut berikut (6. “PX LPM X365 XPWF',\n",
       " 'dimana LPM adalah durasi penyinaran matahari (jam).',\n",
       " 'Profit - Pemasukan — Pengeluaran',\n",
       " 'Untuk menghitung penurunan emisi karbon dioksida oleh sistem agrophotovoltaic dengan membandingkan jika menggunakan diesel sesuai dengan persamaan (7).',\n",
       " 'Pada penelitian ini, sistem APV dibuat untuk mengatasi lahan pertanian yang tidak berkelanjutan akibat kekeringan. Sistem APV dibuat modular agar bisa dipindahkan dari satu petak ke petak lainnya. Penyangga APV menggunakan galvanized untuk mencegah  karat akihat hirian',\n",
       " 'Dirancang sebuah panel surya dengan kapasitas sebesar 1,5 KW untuk mengairi sawah sebesar 10 hektar. Sistem APV ini akan menggunakan modul surya berjenis monoerystalline sebesar 450 Wp akan ada 3 - 4 modul yang digunakan dengan kapasitas inverter 1,5 kW. Energy monitoring dipasang untuk mengetahui besar listrik yang  dibanakitkan oleh panel surva. hal tersebut',\n",
       " 'Diperlukan reservoir besar dengan volume air 22.500 liter untuk menyuplai air pada sawah tersebut yang didapat dari reservoir yang terisi air dengan elevasi lokasi reservoir lebih tinggi dari sawah. Dua buah pompa berukuran 4” digunakan untuk menghisap air dari tanah dan mengalirkannya ke sawah. Sensor akan bekerja sesuai dengan instruksi yang didesain. Biaya investasi yang dibutuhkan untuk membangun sistem ini direntang harga 100 juta. Dengan penghematan jika dibandingkan penggunakan diesel yang memerlukan 21-42 liter/jam, energi matahari mampu mendapatkan energi sepanjang hari. Satu sistem APV ini akan menolong 6 petani kecil agar mampu berproduksi sepanjang tahun dengan menambah  satu kali panen sebesar 16.360 kg/ha. Sistem ini mampu balik modal kurang dari dua tahun.',\n",
       " 'Daftar Pustaka']"
      ]
     },
     "execution_count": 13,
     "metadata": {},
     "output_type": "execute_result"
    }
   ],
   "source": [
    "essay_1_doc = pdf_to_text('data/essay_1.pdf')\n",
    "essay_1_doc"
   ]
  },
  {
   "cell_type": "code",
   "execution_count": null,
   "metadata": {},
   "outputs": [],
   "source": []
  },
  {
   "cell_type": "code",
   "execution_count": 12,
   "metadata": {
    "scrolled": true
   },
   "outputs": [
    {
     "data": {
      "text/plain": [
       "['Oleh: Reiner Nathaniel J',\n",
       " 'Musim kemarau di Indonesia menyebabkan angka produksi padi menurun, penurunar sebesar 4,6 juta ton terjadi di tahun 2019 (1). Gambar 1 menunjukan luas fase persiapar lahan terjadi penurunan pada bulan April — Agustus yang sesuai dengan musim kemarau d Indonesia. Provinsi yang memiliki luas fase persiapan terbesar diantaranya Jawa Barat  Jawa Tengah, Jawa Timur, Sulawesi Selatan, dan Sumatera Selatan.',\n",
       " 'Gambar 1. Luas fase persiapan lahan 2018 — 2019 (Dimodifikasi dari BPS, 2019)',\n",
       " 'Selain itu, provinsi tersebut memiliki tingkat petani skala kecil yang hanya memiliki luas sawah 0,16 hektar dengan persentase tertinggi di Indonesia. Salah satu indikator tujuan pembangunan berkelanjutan pada sektor pertanian yaitu nilai produksi per hektar, 90” lahan pertanian di Jawa Barat, Jawa Timur, dan Nusa Tenggara Barat (NTB) dikategorikan lahan pertanian tidak berkelanjutan (2). Hal ini disebabkan karena tidak ada sumber air saat musim kemarau, bantuan dari pemerintah berupa pompa air tetapi sumber listrik di lokasi belum memadai. Mahalnya harga dan jauhnya akses untuk membeli bahan bakar minyak (BBM) membuat petani yang memiliki sawah di desa tidak sanggup untuk menggunakan  BBM. Energi terbarukan bisa menjadi salah satu pembangkit listrik untuk menyuplai pompa air. Dengan potensi radiasi matahari di Indonesia, panel surya menjadi opsi yang tepat sebagai pembangkit listrik dan memiliki harga yang sudah ekonomis. Namun, penggunaan panel surya bisa mengurangi luas lahan pertanian dan mengakibatkan penurunan jumlah produksi. Salah satu solusi meningkatkan persentase keberlanjutan yaitu menggunakan system of rice intensification (SRI) dengan sumber listrik pompa yang berasal dari panel surya tanpa mengurangi banyak lahan sawah melalui sistem agrophotovoltaic (APV) yang  sudah diterapkan di luar negeri dengan melakukan penyesuaian sesuai kondisi Indonesia.',\n",
       " '2.1 Metode pengolahan System of Rice Intensification (SRI)',\n",
       " 'Metode pengairan sesuai jumlah dan waktu yang dibutuhkan oleh tanaman secara terputus- putus (intermittent). Dengan SRI dan pengelolaan tanaman yang baik dapat meningkatkan produktivitas tanaman sebesar 30-100 Y4 (31. Air selama satu masa tanam (100 hari) untuk sawah dengan sistem pemberian air secara SRI yaitu 467 mm atau 4,67 mm/hari. Sementara, untuk produktivitas air (water productivity) atau rasio antara gabah kering giling  yang dihasilkan (kg) dengan konsumsi air (m?) memiliki nilai 1,12 kg/m3 (41. dimana V adalah volume yang dibutuhkan dalam sehari (mS/hari), n, adalah efisiensi sisten',\n",
       " '2.4 Aspek Keekonomian',\n",
       " 'Untuk menghitung biaya penjualan listrik (LCOE) dapat menggunakan persamaan (5) sebagai berikut berikut (6. “PX LPM X365 XPWF',\n",
       " 'dimana LPM adalah durasi penyinaran matahari (jam).',\n",
       " 'Profit - Pemasukan — Pengeluaran',\n",
       " 'Akan ada sistem kontrol yang bisa mengatur arah arus listrik untuk pompa dan juga baterai. Jika terjadi kelebihan listrik maka akan disimpan pada baterai yang dapat digunakan untuk kepentingan lainnya. Pompa akan bekerja untuk menghisap air dari tanah untuk disimpan pada reservoir yang didesain untuk bisa mengaliri sawah 3 hari. Akan ada sensor yang mengatur pompa untuk mengalirkan air dan mengisi air pada reservoir. Sistem ini diharapkan bisa mengatasi permasalahan kekeringan pada sawah tanpa menghabiskan  banyak lahan sawah. 4. Hasil dan Diskusi',\n",
       " 'Dirancang sebuah panel surya dengan Kapasitas sebesar 4 KVV untuk mengairi sawar sebesar 1 hektar. Sistem APV ini akan menggunakan modul surya sebesar 450 Wp akar ada 10 modul yang digunakan. Kelebihan listrik akan disimpan pada batterai dengan size 2 kW. Diperlukan reservoir besar dengan volume air 14.000 m? untuk menyuplai air pad: sawah tersebut yang didapat dari reservoir yang terisi air dengan elevasi lokasi reservoii lebih tinggi dari sawah. Dua buah pompa berukuran 4” digunakan untuk menghisap air dar tanah dan mengalirkannya ke sawah. Sensor akan bekerja sesuai dengan instruksi yanc didesain. Biaya investasi yang dibutuhkan untuk membangun sistem ini direntang harga 10C juta. Dengan penghematan jika dibandingkan penggunakan diesel yang memerlukan 21-42 liter/jam, energi matahari mampu mendapatkan energi sepanjang hari. Satu sistem APV in  akan menolong 6 petani kecil agar mampu berproduksi sepanjang tahun dengan menambat masa panen di musim kemarau dan mampu balik modal kurang dari 2 tahun.']"
      ]
     },
     "execution_count": 12,
     "metadata": {},
     "output_type": "execute_result"
    }
   ],
   "source": [
    "essay_1_similar_doc = pdf_to_text('data/essay_1_similar.pdf')\n",
    "essay_1_similar_doc"
   ]
  },
  {
   "cell_type": "code",
   "execution_count": 21,
   "metadata": {
    "scrolled": true
   },
   "outputs": [],
   "source": []
  },
  {
   "cell_type": "code",
   "execution_count": 14,
   "metadata": {
    "scrolled": true
   },
   "outputs": [
    {
     "data": {
      "text/plain": [
       "['Pemerintah Indonesia ingin menurunkan emisi sebesar 29x pada tahun 2030 sehubungan dengan partisipasi Indonesia dalam Perjanjian Paris 2015 (1). Tindakan iklim menjadi fokus global, urgensi untuk mengatasi semua emisi karbon dioksida dari banyak negara di seluruh dunia. Perhatian pemerintah pertama-tama difokuskan pada sektor ketenagalistrikan untuk memanfaatkan energi terbarukan untuk mengurangi emisi global. Dengan meningkatkan energi terbarukan, negara dapat secara tajam mengurangi satu sumber utama terkait emisi karbon dioksida. Indonesia menetapkan target energi terbarukan dalam bauran energi sebesar 23X pada tahun 2025, pada O3 tahun 2020 persentasenya hanya 10,94 (2,31. Kesenjangan untuk mencapai tujuan sekitar 14,196, itu harus melipatgandakan usaha empat kali dari bisnis seperti biasa (31.',\n",
       " 'Menurut konteks global energi trilema, biasanya digunakan untuk menyeimbangkan keamanan energi, ekuitas energi, dan keberlanjutan energi. Indonesia membutuhkan energi terbarukan untuk mengurangi emisi karbon, tetapi juga membutuhkan energi dengan harga yang terjangkau. Tidak akan tercapainya target energi terbarukan, di sisi lain masyarakat dapat mengakses energi dengan mudah. Pembangunan beberapa pembangkit listrik tenaga batu bara dengan kapasitas lebih dari 1.000 MW setiap pembangkit akan menuai kritik dari berbagai elemen. Pemerintah harus mengurangi pengembangan batubara dan mulai mengembangkan lebih banyak energi bersih. Peta jalan energi harus memperhitungkan semua aspek seperti teknologi, sosial, lingkungan, dan ekonomi.',\n",
       " 'Transisi energi akan menghadapi banyak tantangan, kebijakan menjadi aspek kunci untuk mempercepat transisi energi. Strategi pemerintah saat ini adalah dengan menerapkan cot-firing, substitusi batubara menjadi biomassa pada tahap awal dengan sensitivitas pallet / woodchip menjadi batubara sekitar 1-54. Strategi ini akan merugikan sumber daya lain, kapasitas yang besar dapat memenuhi permintaan dan sumber daya energi terbarukan lainnya akan terus berkembang atau beralih ke prioritas yang berbeda. Strategi lain untuk mencapai target tersebut adalah dengan menambah pembangkit listrik tenaga surya dari mount ground, floating in lake, dan rooftop rumah tangga. Solar PV adalah cara termudah untuk menghasilkan listrik dan harganya bisa di bawah listrik dari pembangkit listrik tenaga batu bara. Solar PV dapat menjadi sukses kritis untuk mencapai rasio elektrifikasi 10096 di Indonesia, dapat menghasilkan listrik dengan sistem off-grid dan cocok untuk pedesaan (3T). Untuk menggenjot strategi tersebut, Indonesia harus membangun undang-undang energi terbarukan, mendorong pemerintah daerah untuk meningkatkan pembangunan, kolaborasi Penta-helix, dan mendukung kegiatan anak muda.',\n",
       " 'Gerakan global yang digerakkan oleh generasi muda di banyak negara berdampak positif bagi pemuda lain untuk segera memulai gerakan. Di Indonesia, gerakan tersebut masih tercermin dengan situasi anarkis dan jarang memberikan dampak yang baik. Gaya baru berbagi suara, kaum muda harus mengikuti tren global. Tidak akan ada lagi anarkis, suara-suara itu bisa disampaikan melalui beberapa media, baik offline maupun online. Kolaborasi dengan pemerintah, akademisi, LSM, dan swasta melalui kegiatan kepemudaan akan menciptakan suasana yang harmonis.',\n",
       " 'Banyak platform yang bisa memberikan kolaborasi, sehingga anak muda bisa terlibat dengan multi sektor. Budaya meningkatkan kesadaran tentang pentingnya membangun bangsa dan bagaimana pemuda dapat membantu. Membangun organisasi menjadi sesuatu yang bergengsi bagi anak muda, semua sektor harus',\n",
       " 'Menurut Survei Ekonomi Nasional (Susenas) tahun 2019, jumlah pemuda usia 16-30 tahun sekitar 64 juta. Dalam kebanyakan kasus, aturan praktis dari 3,54 populasi membutuhkan atau 9 juta orang untuk membuat perubahan di Indonesia (4). Jalur jalur ini dirancang untuk menghimpun nomor-nomor pemuda tersebut, akan ada pionir untuk memimpin pemuda dalam agenda mulai tahun 2020.',\n",
       " 'Era yang terputus dan kecanggihan teknologi mendukung agenda rahasia bangsa Indonesia, di media sosial terjadi pemberdayaan pemuda secara masif. Mencoba mencapai populasi di Indonesia tanpa membangun konstituensi publik yang lebih luas tidak menjamin kesuksesan di masa depan. Keberhasilan kritis adalah mengembangkan pemuda dengan kegigihan dan karakter yang konsisten.',\n",
       " 'Society of Renewable Energy (SRE), sebuah organisasi kemahasiswaan di Indonesia yang berkembang menjadi 34 universitas di Indonesia dalam waktu satu tahun untuk memberikan peningkatan kapasitas pemuda, kegiatan mereka untuk menyebarkan kesadaran dan berkontribusi di sektor energi yang dapat mencerminkan antusiasme anak muda untuk aksi iklim. SRE memiliki lebih dari 40 ribu pengikut di media sosial, 5 juta tayangan di media sosial, 300 ribu peserta acara, menyelenggarakan lebih dari 100 acara dan mendapatkan penghargaan dari MURI pada tahun 2020. Semua prestasi digerakkan oleh kaum muda.',\n",
       " 'SRE membangun anggotanya untuk belajar tentang energi terbarukan melalui program internal mereka. Mahasiswa dari semua jurusan dapat mengikuti SRE dan berkolaborasi dengan latar belakang multidisiplin. Kehadiran SRE dapat memberikan manfaat bagi beberapa perguruan tinggi yang belum menyediakan mata kuliah energi terbarukan. Tim akan menyelenggarakan pelatihan untuk seorang pelatih yang dapat membangun agen. Agen tersebut akan memberikan ilmunya kepada seluruh mahasiswa di perguruan tinggi yang berminat pada energi terbarukan. Komunikasi dua arah menuntun mereka menuju kebahagiaan dalam mempelajari energi terbarukan. Selain ilmu dasar energi terbarukan, mereka juga mengundang pembicara ahli untuk berbagi ilmu dalam sebuah seminar.',\n",
       " 'Dampak paling signifikan terhadap peningkatan antusiasme tersebut adalah kerjasama dengan pihak swasta dan pemerintah. SRE telah menjadi platform yang memungkinkan kaum muda untuk berkolaborasi dan menciptakan produk atau layanan melalui crowdfunding. Produk aktual pertama yang dibangun berdasarkan keahlian mereka adalah turbin angin kecil yang berlokasi di Garut dengan kapasitas 350 W. Mereka bisa mentransformasikan ide menjadi sebuah produk, bisa menjadi pembelajaran bagi pemerintah dan swasta untuk mendorong inovasi anak muda.',\n",
       " 'Berdasarkan data SRE, garis jalan yang harus dilaksanakan untuk membangun generasi muda melalui energi terbarukan seperti di bawah ini.',\n",
       " \"A lack of awareness for potential and benefit from renewable energy in Indonesia becomes one of the energy transition factors far from the track. The current situation and actor to spread the awareness are only from the government and the passive audience can not amplify the awareness. This pandemic creates a new normal of activities. Youth as an actor using digital transformation to spread awareness has impacted a million people and increases the public's renewable energy awareness level.\",\n",
       " \"The capacity building for youth consist of government, private sector, and academia has to collaborate in one program that supports the energy transition agenda. There is a gap between 3  university and the field work led to talent readiness issue. Guest lecturer from the government anc industry has to conduct in university to transfer knowledge for the student. Besides technical skill, i' must increase their softs kill for recruitment process.  3. Experience\",\n",
       " 'To actualization their knowledge, it needs hands on experience program for student to implement and get experience. There must platform collaboration to gather all information of the internship program or collaborative program. University can initiate the program that collaborate between multi stakeholders, for example, community development in rural area and build some small power plant around 500 W — 2 kW.  4. Actualization',\n",
       " 'SRE has started their path and for the first batch was success, the program need to be duplicate and poost from multistakeholder to accelerate the energy transition. COP 26 can be a suitable platform 0 share the Indonesian youth movement to global and can collect their attention so Indonesian youth can get a bunch of support in terms of knowledge, opportunity, and fund.']"
      ]
     },
     "execution_count": 14,
     "metadata": {},
     "output_type": "execute_result"
    }
   ],
   "source": [
    "essay_2_doc = pdf_to_text('data/essay_2.pdf')\n",
    "essay_2_doc"
   ]
  },
  {
   "cell_type": "code",
   "execution_count": null,
   "metadata": {},
   "outputs": [],
   "source": []
  },
  {
   "cell_type": "code",
   "execution_count": 15,
   "metadata": {
    "scrolled": true
   },
   "outputs": [
    {
     "data": {
      "text/plain": [
       "['Transisi energi akan menghadapi banyak tantangan, kebijakan menjadi aspek kunci untuk mempercepat transisi energi. Strategi pemerintah saat ini adalah dengan menerapkan cot-firing, substitusi batubara menjadi biomassa pada tahap awal dengan sensitivitas pallet / woodchip menjadi batubara sekitar 1-54. Strategi ini akan merugikan sumber daya lain, kapasitas yang besar dapat memenuhi permintaan dan sumber daya energi terbarukan lainnya akan terus berkembang atau beralih ke prioritas yang berbeda. . Pemerintah Indonesia ingin menurunkan emisi sebesar 2996 pada tahun 2030 sehubungan dengan partisipasi Indonesia dalam Perjanjian Paris 2015 (1). Tindakan iklim menjadi fokus global, urgensi untuk mengatasi semua emisi karbon dioksida dari banyak negara di seluruh dunia. Perhatian pemerintah pertama-tama difokuskan pada sektor ketenagalistrikan untuk memanfaatkan energi terbarukan untuk mengurangi emisi global. Dengan meningkatkan energi terbarukan, negara dapat secara tajam mengurangi satu sumber utama terkait emisi karbon dioksida. Indonesia menetapkan target energi terbarukan dalam bauran energi sebesar 23X pada tahun 2025, pada A3 tahun 2020 persentasenya hanya 10,976 (2,3). Kesenjangan untuk mencapai tujuan sekitar 14,146, itu harus melipatgandakan usaha empat kali dari bisnis seperti biasa (31.',\n",
       " 'Transisi energi akan menghadapi banyak tantangan, kebijakan menjadi aspek kunci untuk mempercepat transisi energi. Strategi pemerintah saat ini adalah dengan menerapkan cot-firing, substitusi batubara menjadi biomassa pada tahap awal dengan sensitivitas pallet / woodchip menjadi batubara sekitar 1-54. Strategi ini akan merugikan sumber daya lain, kapasitas yang besar dapat memenuhi permintaan dan sumber daya energi terbarukan lainnya akan terus berkembang atau beralih ke prioritas yang berbeda. Strategi lain untuk mencapai target tersebut adalah dengan menambah pembangkit listrik tenaga surya dari mount ground, floating in lake, dan rooftop rumah tangga.',\n",
       " 'Dengan meningkatkan energi terbarukan, negara dapat secara tajam mengurangi satu sumber utama terkait emisi karbon dioksida. Indonesia menetapkan target energi terbarukan dalam bauran energi sebesar 2346 pada tahun 2025, pada 03 tahun 2020 persentasenya hanya 10,946 (2,3). Kesenjangan untuk mencapai tujuan sekitar 14,146, itu harus melipatgandakan usaha empat kali dari bisnis seperti biasa (3J. Solar PV adalah cara termudah untuk menghasilkan listrik dan harganya bisa di bawah listrik dari pembangkit listrik tenaga batu bara. Solar PV dapat menjadi sukses kritis untuk mencapai rasio elektrifikasi 10096 di Indonesia, dapat menghasilkan listrik dengan sistem off-grid dan cocok untuk pedesaan (3T). Untuk menggenjot strategi tersebut, Indonesia harus membangun undang-undang energi terbarukan, mendorong pemerintah daerah untuk meningkatkan pembangunan, kolaborasi Penta-helix, dan mendukung keciatan anak muda.',\n",
       " 'Banyak platform yang bisa memberikan kolaborasi, sehingga anak muda bisa terlibat dengan multi sektor. Budaya meningkatkan kesadaran tentang pentingnya membangun bangsa dan bagaimana pemuda dapat membantu. Membangun organisasi menjadi sesuatu yang bergengsi bagi anak muda, semua sektor harus menyadari dan menangkap fenomena ini. Pemuda harus didampingi oleh seseorang atau lembaga yang berpengalaman untuk bekerja dengan cara yang benar. Gerakan global yang digerakkan oleh generasi muda di banyak negara berdampak positif bagi pemuda lain untuk segera memulai gerakan. Di Indonesia, gerakan tersebut masih tercermin dengan situasi anarkis dan jarang memberikan dampak yang baik. Gaya baru berbagi suara, kaum muda harus mengikuti tren global. Tidak akan ada lagi anarkis, suara-suara itu bisa disampaikan melalui beberapa media, baik offline maupun online. Kolaborasi dengan pemerintah, akademisi, LSM, dan swasta melalui kegiatan kepemudaan akan menciptakan suasana yang harmonis.',\n",
       " 'Menurut Survei Ekonomi Nasional (Susenas) tahun 2019, jumlah pemuda usia 16-30 tahun sekitar 64 juta. Dalam kebanyakan kasus, aturan praktis dari 3,54 populasi membutuhkan atau 9 juta orang untuk membuat perubahan di Indonesia (4). Jalur jalur ini dirancang untuk menghimpun nomor-nomor pemuda tersebut, akan ada pionir untuk memimpin pemuda dalam agenda mulai tahun 2020.',\n",
       " 'Dampak paling signifikan terhadap peningkatan antusiasme tersebut adalah kerjasama dengan pihak swasta dan pemerintah. SRE telah menjadi platform yang memungkinkan kaum muda untuk berkolaborasi dan menciptakan produk atau layanan melalui crowdfunding. Produk aktual pertama yang dibangun berdasarkan keahlian mereka adalah turbin angin kecil yang berlokasi di Garut dengan kapasitas 350 W. Mereka bisa mentransformasikan ide menjadi sebuah produk, bisa menjadi pembelajaran bagi pemerintah dan swasta untuk mendorong inovasi anak muda. SRE membangun anggotanya untuk belajar tentang energi terbarukan melalui program internal mereka. Mahasiswa dari semua jurusan dapat mengikuti SRE dan berkolaborasi dengan latar belakang multidisiplin. Kehadiran SRE dapat memberikan manfaat bagi beberapa perguruan tinggi yang belum menyediakan mata kuliah energi terbarukan. Tim akan menyelenggarakan pelatihan untuk seorang pelatih yang dapat membangun agen. Agen tersebut akan memberikan ilmunya kepada seluruh mahasiswa di perguruan tinggi yang berminat pada energi terbarukan. Komunikasi dua arah menuntun mereka menuju kebahagiaan dalam mempelajari energi terbarukan. Selain ilmu dasar energi terbarukan, mereka juga mengundang pembicara ahli untuk berbagi ilmu dalam sebuah seminar.']"
      ]
     },
     "execution_count": 15,
     "metadata": {},
     "output_type": "execute_result"
    }
   ],
   "source": [
    "essay_2_similar_doc = pdf_to_text('data/essay_2_similar.pdf')\n",
    "essay_2_similar_doc"
   ]
  },
  {
   "cell_type": "code",
   "execution_count": null,
   "metadata": {},
   "outputs": [],
   "source": []
  },
  {
   "cell_type": "code",
   "execution_count": 16,
   "metadata": {
    "scrolled": true
   },
   "outputs": [
    {
     "data": {
      "text/plain": [
       "['Pengukuran dilapangan dilakukan untuk evapotranspirasi tanaman, perkolasi, air irigasi dan curah hujan. Jumlah air yang diberikan di lahan yaitu hingga air tergenang di petak sawah setinggi 2 cm untuk perlakuan sawah konvensional dan macak-macak untuk sawah SRI dan air akan dialirkan kembali ke lahan SRI ketika tanah sawah sudah menunjukkan retak rambut. Pengukuran curah hujan dilakukan setiap hari dengan menggunakan alat penakar hujan observatorium sederhana. Pengukuran evapotranspirasi dan perkolasi menggunakan susunan tiga buah Iysimeter (Gambar 5). Tangki A berdasar terbuka dan ditanami padi digunakan untuk mengukur jumlah kehilangan air tanaman oleh evapotranspirasi dan perkolasi (Et # P). Tangki B berdasar terbuka dan tanpa ditanami padi, digunakan untuk mengukur evaporasi dan perkolasi (E P). Tangki C dengan dasar tertutup dan tanpa ditanami padi digunakan untuk mengukur evaporasi (E). Pengukuran kehilangan air di dalam Iysimeter menggunakan mistar. Kehilangan air setiap harinya diukur pada pukul 06.00 WIB. Air irigasi yang diberikan ke petak sawah yaitu air yang bersumber dari reservoir dan dialirkan melalui pipa.',\n",
       " 'Perhitungan produktivitas air dapat dilakukan setelah diketahui produksi padi dan kebutuhan air yang digunakan. Pada penelitian ini produktivitas padi yang dihitung yaitu secara aktual dan potensial per hektar. Produktivitas secara aktual yaitu produktivitas bersih padi yang didapatkan dari petak sawah penelitian, sedangkan produktivitas potensial merupakan hasil maksimum yang mampu didapatkan yang dihitung dari berat 1000 butir padi dan kemudian disetarakan dalam satuan hektar.  Produktivitas air merupakan rasio antara hasil panen yang diperoleh dengan jumlah air yang diberikan padz tanaman (evaportanspirasi, perkolasi, irigasi, curah hujan dan drainase) dengan satuan kg/m3 air atau kg/liter air. Semakin tinggi produktivitas air, maka semakin optimal penggunaan air tersebut. Dalam percobaan ini produktivitas air akan dibandingkan antara petak sawah dengan sistem pemberian secara konvensional dengan petak sawah dengan sistem pemberian air SRI.',\n",
       " 'Sistem pemberian air irigasi yang digunakan dalam penelitian ini adalah irigasi pipa. Air yang diberikan pada petak sawah konvensional digenangi terus menerus setinggi 2 cm dari awal penanaman sampai 85 HST dan pengeringan sawah dilakukan saat pemupukan dan pada masa persiapan panen (86 - 100 HST). Petak SRI air diberikan secara terputus-putus (intermittent) dari awal penanaman sampai 85 HST. Penggenangan sawah setinggi 2 cm dilakukan hanya saat dilakukan penyiangan dan pengeringan sawah dilakukan pada masa persiapan panen (86 - 100 HST).',\n",
       " 'Sistem irigasi pipa yang digunakan merupakan irigasi pipa yang dilengkapi dengan bola yang dapat menutup saluran pipa jika ketinggian air sudah mencapai genangan yang telah diatur di petak sawah. Bola pelampung diletakkan didalam pipa saluran 2,5 inci, dan saat air dikeluarkan melalui saluran, bola akan ikut naik sejalan dengan naiknya air dipetakan sawah. Saat petakan sawah sudah tergenangi setinggi 2 cm pada saat itu pula posisi bola sudah menutup saluran pipa dan sumber air yang dialirkan ke lahan akan terhenti. Begitu selanjutnya, ketika air dipetak sawah menurun baik karena adanya evaporasi, transpirasi, perkolasi dan lain lain, saluran akan kembali terbuka sejalan dengan menurunnya air di petak sawah. Petak sawah konvensional digenangi secara kontinyu, sedangkan petak sawah SRI diberikan air secara terputus-putus dengan pemberian air di awal setinggi 2 cm kemudian air akan dibiarkan macak-macak hingga retak rambut baru kemudian air diberikan kembali ke petak sawah.',\n",
       " 'Kebutuhan air untuk evapotranspirasi tanaman padi pada masing-masing perlakuan yaitu konvensional maupun SRI dapat dilihat bahwa pada sawah konvensional air yang dibutuhkan untuk evapotranspirasi lebih tinggi dibandingkan dengan sawah SRI. Data pengukuran menunjukkan bahwa konsumsi air tanaman pada fase vegetatif lebih banyak dibandingkan dengan fase generatif dan kemudian meningkat kembali pada fase pemasakan. Fase generatif harusnya kebutuhan air lebih tinggi dibandingkan dengan fase generatif, akan tetapi pada penelitian ini didapatkan sebaliknya. Hal ini terjadi karena pada fase vegetatif curah hujan yang terjadi lebih banyak pada fase ini. Fase vegetatif merupakan fase tanaman untuk menghasilkan anakan padi yang produktif dan air yang cukup dibutuhkan tanaman padi pada fase ini.',\n",
       " 'Hasil penelitian sejalan dengan penelitian Sofiyuddin et al. (2012) yang mendapatkan nilai perkolasi antara 1,91 - 5,49 mm/hari. Linsey dan Franzini (1979) menyatakan bahwa laju perkolasi yang terjadi dipengaruhi oleh tekstur tanah, lapisan top soil, tinggi muka air tanah, lapisan kedap dan topografi. Subagyono et al.',\n",
       " 'Hasil uji laboratorium didapatkan bahwa tanah sawah pada tempat dilakukannya penelitian bertekstur liat. Djaenuddin et al. (2003) menyatakan tanah dengan tekstur halus-sedang (liat berpasir, liat, liat berdebu, lempung berliat, lempung liat berpasir, lempung berpasir, lempung liat berdebu, lempung, lempung berdebu dan debu) sesuai untuk dijadikan lahan sawah']"
      ]
     },
     "execution_count": 16,
     "metadata": {},
     "output_type": "execute_result"
    }
   ],
   "source": [
    "essay_3_doc = pdf_to_text('data/essay_3.pdf')\n",
    "essay_3_doc"
   ]
  },
  {
   "cell_type": "code",
   "execution_count": null,
   "metadata": {},
   "outputs": [],
   "source": []
  }
 ],
 "metadata": {
  "kernelspec": {
   "display_name": "Python [conda env:test_env]",
   "language": "python",
   "name": "conda-env-test_env-py"
  },
  "language_info": {
   "codemirror_mode": {
    "name": "ipython",
    "version": 3
   },
   "file_extension": ".py",
   "mimetype": "text/x-python",
   "name": "python",
   "nbconvert_exporter": "python",
   "pygments_lexer": "ipython3",
   "version": "3.6.12"
  }
 },
 "nbformat": 4,
 "nbformat_minor": 4
}
