{
 "cells": [
  {
   "cell_type": "markdown",
   "metadata": {},
   "source": [
    "Author: Louis Owen (https://louisowen6.github.io/)"
   ]
  },
  {
   "cell_type": "code",
   "execution_count": 1,
   "metadata": {},
   "outputs": [],
   "source": [
    "import pandas as pd\n",
    "import numpy as np\n",
    "import random\n",
    "import re\n",
    "\n",
    "import copy\n",
    "\n",
    "import matplotlib.pyplot as plt\n",
    "\n",
    "from sklearn.preprocessing import StandardScaler\n",
    "from sklearn.model_selection import KFold\n",
    "from sklearn.metrics import classification_report\n",
    "\n",
    "from nltk import ngrams\n",
    "import pylcs\n",
    "from sklearn.feature_extraction.text import CountVectorizer,TfidfVectorizer\n",
    "from sklearn.decomposition import TruncatedSVD\n",
    "from sklearn.metrics.pairwise import cosine_similarity"
   ]
  },
  {
   "cell_type": "markdown",
   "metadata": {},
   "source": [
    "# Load Data"
   ]
  },
  {
   "cell_type": "code",
   "execution_count": 2,
   "metadata": {},
   "outputs": [],
   "source": [
    "df_paragraph = pd.DataFrame(columns=['category','paragraph_1','paragraph_2','len_paragraph_1','is_plagiarism','plagiarism_type','cleaned_paragraph_1','cleaned_paragraph_2'])\n",
    "\n",
    "with open('../data/en_ver/plagiarism_data_train.tsv','r') as f_in:\n",
    "    for i,line in enumerate(f_in):\n",
    "        if i>0:\n",
    "            columns = line.split('\\t')\n",
    "            columns[-1] = re.sub('\\n','',columns[-1])\n",
    "            df_paragraph.loc[i] = columns"
   ]
  },
  {
   "cell_type": "code",
   "execution_count": 3,
   "metadata": {},
   "outputs": [],
   "source": [
    "df_paragraph_test = pd.DataFrame(columns=['category','paragraph_1','paragraph_2','len_paragraph_1','is_plagiarism','plagiarism_type','cleaned_paragraph_1','cleaned_paragraph_2'])\n",
    "\n",
    "with open('../data/en_ver/plagiarism_data_test.tsv','r') as f_in:\n",
    "    for i,line in enumerate(f_in):\n",
    "        if i>0:\n",
    "            columns = line.split('\\t')\n",
    "            columns[-1] = re.sub('\\n','',columns[-1])\n",
    "            df_paragraph_test.loc[i] = columns"
   ]
  },
  {
   "cell_type": "code",
   "execution_count": 4,
   "metadata": {
    "scrolled": true
   },
   "outputs": [],
   "source": [
    "df_paragraph = df_paragraph[['category','plagiarism_type','is_plagiarism','cleaned_paragraph_1','cleaned_paragraph_2']].reset_index(drop=True)\n",
    "df_paragraph_test = df_paragraph_test[['category','plagiarism_type','is_plagiarism','cleaned_paragraph_1','cleaned_paragraph_2']].reset_index(drop=True)"
   ]
  },
  {
   "cell_type": "code",
   "execution_count": 5,
   "metadata": {
    "scrolled": true
   },
   "outputs": [
    {
     "data": {
      "text/html": [
       "<div>\n",
       "<style scoped>\n",
       "    .dataframe tbody tr th:only-of-type {\n",
       "        vertical-align: middle;\n",
       "    }\n",
       "\n",
       "    .dataframe tbody tr th {\n",
       "        vertical-align: top;\n",
       "    }\n",
       "\n",
       "    .dataframe thead th {\n",
       "        text-align: right;\n",
       "    }\n",
       "</style>\n",
       "<table border=\"1\" class=\"dataframe\">\n",
       "  <thead>\n",
       "    <tr style=\"text-align: right;\">\n",
       "      <th></th>\n",
       "      <th>category</th>\n",
       "      <th>plagiarism_type</th>\n",
       "      <th>is_plagiarism</th>\n",
       "      <th>cleaned_paragraph_1</th>\n",
       "      <th>cleaned_paragraph_2</th>\n",
       "    </tr>\n",
       "  </thead>\n",
       "  <tbody>\n",
       "    <tr>\n",
       "      <th>0</th>\n",
       "      <td>technology</td>\n",
       "      <td>non-plagiarism</td>\n",
       "      <td>False</td>\n",
       "      <td>enhanc harvest abil technolog research look in...</td>\n",
       "      <td>foer saw hugh savior could provid addit cash i...</td>\n",
       "    </tr>\n",
       "    <tr>\n",
       "      <th>1</th>\n",
       "      <td>economy</td>\n",
       "      <td>non-plagiarism</td>\n",
       "      <td>False</td>\n",
       "      <td>second mnc expect weak bargain power negoti sk...</td>\n",
       "      <td>recent studi shown japanes popul propens spend...</td>\n",
       "    </tr>\n",
       "    <tr>\n",
       "      <th>2</th>\n",
       "      <td>geography</td>\n",
       "      <td>structural change</td>\n",
       "      <td>True</td>\n",
       "      <td>yet sediment core provid inform one place eart...</td>\n",
       "      <td>yet apiec deposit marrow exclus provid inform ...</td>\n",
       "    </tr>\n",
       "    <tr>\n",
       "      <th>3</th>\n",
       "      <td>environment</td>\n",
       "      <td>structural change</td>\n",
       "      <td>True</td>\n",
       "      <td>develop countri domest dispos fund nation loca...</td>\n",
       "      <td>almost improv countri domest administr fund gr...</td>\n",
       "    </tr>\n",
       "    <tr>\n",
       "      <th>4</th>\n",
       "      <td>environment</td>\n",
       "      <td>paraphrase</td>\n",
       "      <td>True</td>\n",
       "      <td>outsid europ divers group 20 countri target re...</td>\n",
       "      <td>outsid europ divers group 20 countri target re...</td>\n",
       "    </tr>\n",
       "    <tr>\n",
       "      <th>...</th>\n",
       "      <td>...</td>\n",
       "      <td>...</td>\n",
       "      <td>...</td>\n",
       "      <td>...</td>\n",
       "      <td>...</td>\n",
       "    </tr>\n",
       "    <tr>\n",
       "      <th>2714</th>\n",
       "      <td>environment</td>\n",
       "      <td>non-plagiarism</td>\n",
       "      <td>False</td>\n",
       "      <td>biofuel includ wide rang fuel deriv biomass te...</td>\n",
       "      <td>first two decad 21st centuri saw increas adapt...</td>\n",
       "    </tr>\n",
       "    <tr>\n",
       "      <th>2715</th>\n",
       "      <td>environment</td>\n",
       "      <td>non-plagiarism</td>\n",
       "      <td>False</td>\n",
       "      <td>practic trace back 7000 year ship persian gulf...</td>\n",
       "      <td>industri biomass grown numer type plant includ...</td>\n",
       "    </tr>\n",
       "    <tr>\n",
       "      <th>2716</th>\n",
       "      <td>covid19</td>\n",
       "      <td>non-plagiarism</td>\n",
       "      <td>False</td>\n",
       "      <td>conclus covid-19 signific clinic problem nephr...</td>\n",
       "      <td>suggest algorithm identif vaccine-induc thromb...</td>\n",
       "    </tr>\n",
       "    <tr>\n",
       "      <th>2717</th>\n",
       "      <td>economy</td>\n",
       "      <td>structural change</td>\n",
       "      <td>True</td>\n",
       "      <td>container allow palestinian ship larger number...</td>\n",
       "      <td>container allow palestinian ship vitamin large...</td>\n",
       "    </tr>\n",
       "    <tr>\n",
       "      <th>2718</th>\n",
       "      <td>biology</td>\n",
       "      <td>non-plagiarism</td>\n",
       "      <td>False</td>\n",
       "      <td>ultim theoret framework design applic futur pl...</td>\n",
       "      <td>intern research team led univers zurich uzh de...</td>\n",
       "    </tr>\n",
       "  </tbody>\n",
       "</table>\n",
       "<p>2719 rows × 5 columns</p>\n",
       "</div>"
      ],
      "text/plain": [
       "         category    plagiarism_type is_plagiarism  \\\n",
       "0      technology     non-plagiarism         False   \n",
       "1         economy     non-plagiarism         False   \n",
       "2       geography  structural change          True   \n",
       "3     environment  structural change          True   \n",
       "4     environment         paraphrase          True   \n",
       "...           ...                ...           ...   \n",
       "2714  environment     non-plagiarism         False   \n",
       "2715  environment     non-plagiarism         False   \n",
       "2716      covid19     non-plagiarism         False   \n",
       "2717      economy  structural change          True   \n",
       "2718      biology     non-plagiarism         False   \n",
       "\n",
       "                                    cleaned_paragraph_1  \\\n",
       "0     enhanc harvest abil technolog research look in...   \n",
       "1     second mnc expect weak bargain power negoti sk...   \n",
       "2     yet sediment core provid inform one place eart...   \n",
       "3     develop countri domest dispos fund nation loca...   \n",
       "4     outsid europ divers group 20 countri target re...   \n",
       "...                                                 ...   \n",
       "2714  biofuel includ wide rang fuel deriv biomass te...   \n",
       "2715  practic trace back 7000 year ship persian gulf...   \n",
       "2716  conclus covid-19 signific clinic problem nephr...   \n",
       "2717  container allow palestinian ship larger number...   \n",
       "2718  ultim theoret framework design applic futur pl...   \n",
       "\n",
       "                                    cleaned_paragraph_2  \n",
       "0     foer saw hugh savior could provid addit cash i...  \n",
       "1     recent studi shown japanes popul propens spend...  \n",
       "2     yet apiec deposit marrow exclus provid inform ...  \n",
       "3     almost improv countri domest administr fund gr...  \n",
       "4     outsid europ divers group 20 countri target re...  \n",
       "...                                                 ...  \n",
       "2714  first two decad 21st centuri saw increas adapt...  \n",
       "2715  industri biomass grown numer type plant includ...  \n",
       "2716  suggest algorithm identif vaccine-induc thromb...  \n",
       "2717  container allow palestinian ship vitamin large...  \n",
       "2718  intern research team led univers zurich uzh de...  \n",
       "\n",
       "[2719 rows x 5 columns]"
      ]
     },
     "execution_count": 5,
     "metadata": {},
     "output_type": "execute_result"
    }
   ],
   "source": [
    "df_paragraph"
   ]
  },
  {
   "cell_type": "code",
   "execution_count": 6,
   "metadata": {
    "scrolled": true
   },
   "outputs": [
    {
     "data": {
      "text/html": [
       "<div>\n",
       "<style scoped>\n",
       "    .dataframe tbody tr th:only-of-type {\n",
       "        vertical-align: middle;\n",
       "    }\n",
       "\n",
       "    .dataframe tbody tr th {\n",
       "        vertical-align: top;\n",
       "    }\n",
       "\n",
       "    .dataframe thead th {\n",
       "        text-align: right;\n",
       "    }\n",
       "</style>\n",
       "<table border=\"1\" class=\"dataframe\">\n",
       "  <thead>\n",
       "    <tr style=\"text-align: right;\">\n",
       "      <th></th>\n",
       "      <th>category</th>\n",
       "      <th>plagiarism_type</th>\n",
       "      <th>is_plagiarism</th>\n",
       "      <th>cleaned_paragraph_1</th>\n",
       "      <th>cleaned_paragraph_2</th>\n",
       "    </tr>\n",
       "  </thead>\n",
       "  <tbody>\n",
       "    <tr>\n",
       "      <th>0</th>\n",
       "      <td>environment</td>\n",
       "      <td>non-plagiarism</td>\n",
       "      <td>False</td>\n",
       "      <td>sinc renew sourc power densiti per land area b...</td>\n",
       "      <td>develop countri manag activ usual carri poor s...</td>\n",
       "    </tr>\n",
       "    <tr>\n",
       "      <th>1</th>\n",
       "      <td>technology</td>\n",
       "      <td>structural change</td>\n",
       "      <td>True</td>\n",
       "      <td>attribut tabl old build floor level</td>\n",
       "      <td>ascrib tabl simpli old construct floor non level</td>\n",
       "    </tr>\n",
       "    <tr>\n",
       "      <th>2</th>\n",
       "      <td>economy</td>\n",
       "      <td>non-plagiarism</td>\n",
       "      <td>False</td>\n",
       "      <td>addit promot domest entrepreneurship abe find ...</td>\n",
       "      <td>brazilian real sever depreci exchang rate us d...</td>\n",
       "    </tr>\n",
       "    <tr>\n",
       "      <th>3</th>\n",
       "      <td>environment</td>\n",
       "      <td>paraphrase</td>\n",
       "      <td>True</td>\n",
       "      <td>rate pyrolysi increas temperatur industri appl...</td>\n",
       "      <td>pyrolysi level increas temperatur industri app...</td>\n",
       "    </tr>\n",
       "    <tr>\n",
       "      <th>4</th>\n",
       "      <td>covid19</td>\n",
       "      <td>paraphrase</td>\n",
       "      <td>True</td>\n",
       "      <td>also differ diagnost approach 3 group among he...</td>\n",
       "      <td>also differ diagnost approach infect 3 group a...</td>\n",
       "    </tr>\n",
       "    <tr>\n",
       "      <th>...</th>\n",
       "      <td>...</td>\n",
       "      <td>...</td>\n",
       "      <td>...</td>\n",
       "      <td>...</td>\n",
       "      <td>...</td>\n",
       "    </tr>\n",
       "    <tr>\n",
       "      <th>675</th>\n",
       "      <td>technology</td>\n",
       "      <td>paraphrase</td>\n",
       "      <td>True</td>\n",
       "      <td>imposs say certain internet began mainli nobod...</td>\n",
       "      <td>imposs say certain internet start especi one a...</td>\n",
       "    </tr>\n",
       "    <tr>\n",
       "      <th>676</th>\n",
       "      <td>environment</td>\n",
       "      <td>structural change</td>\n",
       "      <td>True</td>\n",
       "      <td>ozon layer contain within stratospher mainli l...</td>\n",
       "      <td>ozon bed contain within stratospher primarili ...</td>\n",
       "    </tr>\n",
       "    <tr>\n",
       "      <th>677</th>\n",
       "      <td>economy</td>\n",
       "      <td>structural change</td>\n",
       "      <td>True</td>\n",
       "      <td>figur 5 indonesia export 1970 b indonesia expo...</td>\n",
       "      <td>figur 5 indonesia export 1970 b indonesia expo...</td>\n",
       "    </tr>\n",
       "    <tr>\n",
       "      <th>678</th>\n",
       "      <td>chemistry</td>\n",
       "      <td>non-plagiarism</td>\n",
       "      <td>False</td>\n",
       "      <td>chemistri student world familiar coval bond bo...</td>\n",
       "      <td>concept tackl challeng origin rather tri put b...</td>\n",
       "    </tr>\n",
       "    <tr>\n",
       "      <th>679</th>\n",
       "      <td>economy</td>\n",
       "      <td>structural change</td>\n",
       "      <td>True</td>\n",
       "      <td>rhodesia abil resist demand abandon apartheid ...</td>\n",
       "      <td>rhodesia power resist demand abandon apartheid...</td>\n",
       "    </tr>\n",
       "  </tbody>\n",
       "</table>\n",
       "<p>680 rows × 5 columns</p>\n",
       "</div>"
      ],
      "text/plain": [
       "        category    plagiarism_type is_plagiarism  \\\n",
       "0    environment     non-plagiarism         False   \n",
       "1     technology  structural change          True   \n",
       "2        economy     non-plagiarism         False   \n",
       "3    environment         paraphrase          True   \n",
       "4        covid19         paraphrase          True   \n",
       "..           ...                ...           ...   \n",
       "675   technology         paraphrase          True   \n",
       "676  environment  structural change          True   \n",
       "677      economy  structural change          True   \n",
       "678    chemistry     non-plagiarism         False   \n",
       "679      economy  structural change          True   \n",
       "\n",
       "                                   cleaned_paragraph_1  \\\n",
       "0    sinc renew sourc power densiti per land area b...   \n",
       "1                  attribut tabl old build floor level   \n",
       "2    addit promot domest entrepreneurship abe find ...   \n",
       "3    rate pyrolysi increas temperatur industri appl...   \n",
       "4    also differ diagnost approach 3 group among he...   \n",
       "..                                                 ...   \n",
       "675  imposs say certain internet began mainli nobod...   \n",
       "676  ozon layer contain within stratospher mainli l...   \n",
       "677  figur 5 indonesia export 1970 b indonesia expo...   \n",
       "678  chemistri student world familiar coval bond bo...   \n",
       "679  rhodesia abil resist demand abandon apartheid ...   \n",
       "\n",
       "                                   cleaned_paragraph_2  \n",
       "0    develop countri manag activ usual carri poor s...  \n",
       "1     ascrib tabl simpli old construct floor non level  \n",
       "2    brazilian real sever depreci exchang rate us d...  \n",
       "3    pyrolysi level increas temperatur industri app...  \n",
       "4    also differ diagnost approach infect 3 group a...  \n",
       "..                                                 ...  \n",
       "675  imposs say certain internet start especi one a...  \n",
       "676  ozon bed contain within stratospher primarili ...  \n",
       "677  figur 5 indonesia export 1970 b indonesia expo...  \n",
       "678  concept tackl challeng origin rather tri put b...  \n",
       "679  rhodesia power resist demand abandon apartheid...  \n",
       "\n",
       "[680 rows x 5 columns]"
      ]
     },
     "execution_count": 6,
     "metadata": {},
     "output_type": "execute_result"
    }
   ],
   "source": [
    "df_paragraph_test"
   ]
  },
  {
   "cell_type": "markdown",
   "metadata": {},
   "source": [
    "# Feature Engineering"
   ]
  },
  {
   "cell_type": "code",
   "execution_count": 7,
   "metadata": {},
   "outputs": [],
   "source": [
    "def extract_ngram_similarity(sentence_1,sentence_2,n=4):\n",
    "    ngrams_set_1 = set()\n",
    "    ngrams_set_2 = set()\n",
    "    \n",
    "    ngram1 = ngrams(sentence_1.split(), n)\n",
    "    for grams in ngram1:\n",
    "        ngrams_set_1.add(grams)\n",
    "        \n",
    "    ngram2 = ngrams(sentence_2.split(), n)\n",
    "    for grams in ngram2:\n",
    "        ngrams_set_2.add(grams)\n",
    "    \n",
    "    try:\n",
    "        jaccard_sim = len(ngrams_set_1.intersection(ngrams_set_2)) / len(ngrams_set_1.union(ngrams_set_2))\n",
    "\n",
    "        return jaccard_sim\n",
    "    except:\n",
    "        return 0"
   ]
  },
  {
   "cell_type": "code",
   "execution_count": 8,
   "metadata": {},
   "outputs": [],
   "source": [
    "def feature_engineering(df_train,df_test):\n",
    "    corpus = df_train['cleaned_paragraph_1'].to_list() + df_train['cleaned_paragraph_2'].to_list()\n",
    "    \n",
    "    # Word Pairs\n",
    "    bigram_vectorizer = CountVectorizer(analyzer='word', ngram_range=(2, 2), min_df=0.002)\n",
    "    bigram_vectorizer.fit(corpus)\n",
    "    \n",
    "    transformed_array_train = bigram_vectorizer.transform(df_train['cleaned_paragraph_1'] + ' '+ df_train['cleaned_paragraph_2']).toarray()\n",
    "    transformed_array_test = bigram_vectorizer.transform(df_test['cleaned_paragraph_1'] + ' '+ df_test['cleaned_paragraph_2']).toarray()\n",
    "    num_feats = transformed_array_train.shape[1]\n",
    "\n",
    "    df_preprocessed = pd.DataFrame(transformed_array_train,columns=[f'word_pairs_{i}' for i in range(num_feats)])\n",
    "    df_preprocessed_test = pd.DataFrame(transformed_array_test,columns=[f'word_pairs_{i}' for i in range(num_feats)])\n",
    "    \n",
    "    # Words Similarity\n",
    "    df_preprocessed['words_similarity'] = df_train.apply(lambda x: extract_ngram_similarity(x['cleaned_paragraph_1'],x['cleaned_paragraph_2'],n=1), axis=1)\n",
    "    df_preprocessed_test['words_similarity'] = df_test.apply(lambda x: extract_ngram_similarity(x['cleaned_paragraph_1'],x['cleaned_paragraph_2'],n=1), axis=1)\n",
    "    \n",
    "    # Fingerprints Similarity\n",
    "    df_preprocessed['fingerprint_similarity'] = df_train.apply(lambda x: extract_ngram_similarity(x['cleaned_paragraph_1'],x['cleaned_paragraph_2'],n=4), axis=1)\n",
    "    df_preprocessed_test['fingerprint_similarity'] = df_test.apply(lambda x: extract_ngram_similarity(x['cleaned_paragraph_1'],x['cleaned_paragraph_2'],n=4), axis=1)\n",
    "    \n",
    "    # Longest Common Subsequence\n",
    "    df_preprocessed['lcs'] = df_train.apply(lambda x: pylcs.lcs2(x['cleaned_paragraph_1'],x['cleaned_paragraph_2'])/max(len(x['cleaned_paragraph_1']),len(x['cleaned_paragraph_2'])), axis=1)\n",
    "    df_preprocessed_test['lcs'] = df_test.apply(lambda x: pylcs.lcs2(x['cleaned_paragraph_1'],x['cleaned_paragraph_2'])/max(len(x['cleaned_paragraph_1']),len(x['cleaned_paragraph_2'])), axis=1)\n",
    "    \n",
    "    # LSA Similarity\n",
    "    num_component = 200\n",
    "    tfidf_vectorizer = TfidfVectorizer(use_idf=True,smooth_idf=True)\n",
    "    lsa = TruncatedSVD(num_component, algorithm = 'randomized',random_state=0)\n",
    "\n",
    "    tfidf_vectorizer.fit(corpus)\n",
    "    dtm = tfidf_vectorizer.transform(corpus)\n",
    "    lsa.fit(dtm)\n",
    "    \n",
    "    dtm_lsa_train_1 = lsa.transform(tfidf_vectorizer.transform(df_train['cleaned_paragraph_1'].to_list()))\n",
    "    dtm_lsa_train_2 = lsa.transform(tfidf_vectorizer.transform(df_train['cleaned_paragraph_2'].to_list()))\n",
    "    \n",
    "    cosine_sim_train = []\n",
    "    for i in range(dtm_lsa_train_1.shape[0]):\n",
    "        cosine_sim_train.append(cosine_similarity([dtm_lsa_train_1[i]],[dtm_lsa_train_2[i]])[0][0])\n",
    "    \n",
    "    dtm_lsa_test_1 = lsa.transform(tfidf_vectorizer.transform(df_test['cleaned_paragraph_1'].to_list()))\n",
    "    dtm_lsa_test_2 = lsa.transform(tfidf_vectorizer.transform(df_test['cleaned_paragraph_2'].to_list()))\n",
    "    \n",
    "    cosine_sim_test = []\n",
    "    for i in range(dtm_lsa_test_1.shape[0]):\n",
    "        cosine_sim_test.append(cosine_similarity([dtm_lsa_test_1[i]],[dtm_lsa_test_2[i]])[0][0])\n",
    "    \n",
    "    df_preprocessed['lsa_similarity'] = cosine_sim_train\n",
    "    df_preprocessed_test['lsa_similarity'] = cosine_sim_test\n",
    "    \n",
    "    # Add Target Variables\n",
    "    df_preprocessed[['category','plagiarism_type','is_plagiarism']] = df_train[['category','plagiarism_type','is_plagiarism']]\n",
    "    df_preprocessed_test[['category','plagiarism_type','is_plagiarism']] = df_test[['category','plagiarism_type','is_plagiarism']]\n",
    "    \n",
    "    return df_preprocessed,df_preprocessed_test"
   ]
  },
  {
   "cell_type": "code",
   "execution_count": 9,
   "metadata": {},
   "outputs": [],
   "source": [
    "df_preprocessed,df_preprocessed_test = feature_engineering(df_paragraph,df_paragraph_test)"
   ]
  },
  {
   "cell_type": "code",
   "execution_count": 10,
   "metadata": {},
   "outputs": [
    {
     "data": {
      "image/png": "[encoded data removed]",
      "text/plain": [
       "<Figure size 1152x1152 with 6 Axes>"
      ]
     },
     "metadata": {
      "needs_background": "light"
     },
     "output_type": "display_data"
    }
   ],
   "source": [
    "df_preprocessed[[x for x in df_preprocessed.columns if 'word_pairs' not in x]].groupby('plagiarism_type').boxplot(rot=10, fontsize=12, figsize=(16,16))\n",
    "plt.show()"
   ]
  },
  {
   "cell_type": "markdown",
   "metadata": {},
   "source": [
    "# Cross-Validation"
   ]
  },
  {
   "cell_type": "code",
   "execution_count": 11,
   "metadata": {},
   "outputs": [],
   "source": [
    "def run_pipeline(df_paragraph_train,df_paragraph_val,model,use_scaler,return_model=False,inference_mode=False):\n",
    "    model_temp = copy.deepcopy(model)\n",
    "    \n",
    "    df_preprocessed_train,df_preprocessed_val = feature_engineering(df_paragraph_train,df_paragraph_val)\n",
    "    X_train = df_preprocessed_train.drop(columns=['category','plagiarism_type','is_plagiarism'])\n",
    "    y_train = df_preprocessed_train['is_plagiarism'].apply(lambda x: 1 if x=='True' else 0)\n",
    "\n",
    "    if use_scaler:\n",
    "        scaler = StandardScaler()\n",
    "        X_train = scaler.fit_transform(X_train)\n",
    "\n",
    "    X_val = df_preprocessed_val.drop(columns=['category','plagiarism_type','is_plagiarism'])\n",
    "    y_val = df_preprocessed_val['is_plagiarism'].apply(lambda x: 1 if x=='True' else 0)\n",
    "\n",
    "    if use_scaler:\n",
    "        X_val = scaler.transform(X_val)\n",
    "    \n",
    "    if not inference_mode:\n",
    "        model_temp.fit(X_train, y_train)\n",
    "\n",
    "    y_pred = model_temp.predict(X_val)\n",
    "    \n",
    "    if return_model:\n",
    "        return y_val,y_pred,model_temp\n",
    "    else:\n",
    "        return y_val,y_pred"
   ]
  },
  {
   "cell_type": "code",
   "execution_count": 12,
   "metadata": {},
   "outputs": [],
   "source": [
    "def cross_val_pipeline(df_paragraph,model,metric='accuracy',use_scaler=False):\n",
    "    metrics_list = []\n",
    "\n",
    "    kf = KFold(n_splits=7,shuffle=True,random_state=0)\n",
    "    for train_index, val_index in kf.split(df_paragraph):\n",
    "        df_paragraph_train = df_paragraph.loc[train_index].reset_index(drop=True)\n",
    "        df_paragraph_val = df_paragraph.loc[val_index].reset_index(drop=True)\n",
    "        \n",
    "        y_val,y_pred = run_pipeline(df_paragraph_train,df_paragraph_val,model,use_scaler)\n",
    "\n",
    "        print(classification_report(y_val, y_pred))\n",
    "\n",
    "        metrics_list.append(classification_report(y_val, y_pred,output_dict=True)[metric])\n",
    "        \n",
    "    return metrics_list"
   ]
  },
  {
   "cell_type": "markdown",
   "metadata": {},
   "source": [
    "## Naive Bayes"
   ]
  },
  {
   "cell_type": "code",
   "execution_count": 13,
   "metadata": {},
   "outputs": [],
   "source": [
    "from sklearn.naive_bayes import GaussianNB"
   ]
  },
  {
   "cell_type": "code",
   "execution_count": 14,
   "metadata": {
    "scrolled": true
   },
   "outputs": [
    {
     "name": "stdout",
     "output_type": "stream",
     "text": [
      "              precision    recall  f1-score   support\n",
      "\n",
      "           0       0.98      0.90      0.94       176\n",
      "           1       0.93      0.99      0.95       213\n",
      "\n",
      "    accuracy                           0.95       389\n",
      "   macro avg       0.95      0.94      0.95       389\n",
      "weighted avg       0.95      0.95      0.95       389\n",
      "\n",
      "              precision    recall  f1-score   support\n",
      "\n",
      "           0       0.98      0.86      0.92       198\n",
      "           1       0.87      0.98      0.92       191\n",
      "\n",
      "    accuracy                           0.92       389\n",
      "   macro avg       0.93      0.92      0.92       389\n",
      "weighted avg       0.93      0.92      0.92       389\n",
      "\n",
      "              precision    recall  f1-score   support\n",
      "\n",
      "           0       0.96      0.87      0.91       189\n",
      "           1       0.89      0.96      0.93       200\n",
      "\n",
      "    accuracy                           0.92       389\n",
      "   macro avg       0.92      0.92      0.92       389\n",
      "weighted avg       0.92      0.92      0.92       389\n",
      "\n",
      "              precision    recall  f1-score   support\n",
      "\n",
      "           0       0.98      0.85      0.91       196\n",
      "           1       0.86      0.98      0.92       192\n",
      "\n",
      "    accuracy                           0.91       388\n",
      "   macro avg       0.92      0.92      0.91       388\n",
      "weighted avg       0.92      0.91      0.91       388\n",
      "\n",
      "              precision    recall  f1-score   support\n",
      "\n",
      "           0       0.98      0.90      0.94       188\n",
      "           1       0.91      0.98      0.95       200\n",
      "\n",
      "    accuracy                           0.94       388\n",
      "   macro avg       0.95      0.94      0.94       388\n",
      "weighted avg       0.95      0.94      0.94       388\n",
      "\n",
      "              precision    recall  f1-score   support\n",
      "\n",
      "           0       0.99      0.87      0.93       193\n",
      "           1       0.89      0.99      0.93       195\n",
      "\n",
      "    accuracy                           0.93       388\n",
      "   macro avg       0.94      0.93      0.93       388\n",
      "weighted avg       0.94      0.93      0.93       388\n",
      "\n",
      "              precision    recall  f1-score   support\n",
      "\n",
      "           0       0.97      0.88      0.92       207\n",
      "           1       0.88      0.97      0.92       181\n",
      "\n",
      "    accuracy                           0.92       388\n",
      "   macro avg       0.92      0.93      0.92       388\n",
      "weighted avg       0.93      0.92      0.92       388\n",
      "\n"
     ]
    }
   ],
   "source": [
    "acc_list = cross_val_pipeline(df_paragraph,GaussianNB(),metric='accuracy',use_scaler=False)"
   ]
  },
  {
   "cell_type": "code",
   "execution_count": 15,
   "metadata": {},
   "outputs": [
    {
     "name": "stdout",
     "output_type": "stream",
     "text": [
      "Accuracy | Avg: 0.92865, Std. 0.01182\n"
     ]
    }
   ],
   "source": [
    "print(f'Accuracy | Avg: {round(np.mean(acc_list),5)}, Std. {round(np.std(acc_list),5)}')"
   ]
  },
  {
   "cell_type": "markdown",
   "metadata": {},
   "source": [
    "## SVM"
   ]
  },
  {
   "cell_type": "code",
   "execution_count": 16,
   "metadata": {},
   "outputs": [],
   "source": [
    "from sklearn.svm import SVC"
   ]
  },
  {
   "cell_type": "code",
   "execution_count": 17,
   "metadata": {
    "scrolled": true
   },
   "outputs": [
    {
     "name": "stdout",
     "output_type": "stream",
     "text": [
      "              precision    recall  f1-score   support\n",
      "\n",
      "           0       0.98      0.99      0.99       176\n",
      "           1       1.00      0.98      0.99       213\n",
      "\n",
      "    accuracy                           0.99       389\n",
      "   macro avg       0.99      0.99      0.99       389\n",
      "weighted avg       0.99      0.99      0.99       389\n",
      "\n",
      "              precision    recall  f1-score   support\n",
      "\n",
      "           0       0.99      1.00      0.99       198\n",
      "           1       1.00      0.99      0.99       191\n",
      "\n",
      "    accuracy                           0.99       389\n",
      "   macro avg       0.99      0.99      0.99       389\n",
      "weighted avg       0.99      0.99      0.99       389\n",
      "\n",
      "              precision    recall  f1-score   support\n",
      "\n",
      "           0       0.98      1.00      0.99       189\n",
      "           1       1.00      0.98      0.99       200\n",
      "\n",
      "    accuracy                           0.99       389\n",
      "   macro avg       0.99      0.99      0.99       389\n",
      "weighted avg       0.99      0.99      0.99       389\n",
      "\n",
      "              precision    recall  f1-score   support\n",
      "\n",
      "           0       1.00      0.99      1.00       196\n",
      "           1       0.99      1.00      1.00       192\n",
      "\n",
      "    accuracy                           1.00       388\n",
      "   macro avg       1.00      1.00      1.00       388\n",
      "weighted avg       1.00      1.00      1.00       388\n",
      "\n",
      "              precision    recall  f1-score   support\n",
      "\n",
      "           0       0.99      0.99      0.99       188\n",
      "           1       0.99      0.99      0.99       200\n",
      "\n",
      "    accuracy                           0.99       388\n",
      "   macro avg       0.99      0.99      0.99       388\n",
      "weighted avg       0.99      0.99      0.99       388\n",
      "\n",
      "              precision    recall  f1-score   support\n",
      "\n",
      "           0       0.98      0.99      0.99       193\n",
      "           1       0.99      0.98      0.99       195\n",
      "\n",
      "    accuracy                           0.99       388\n",
      "   macro avg       0.99      0.99      0.99       388\n",
      "weighted avg       0.99      0.99      0.99       388\n",
      "\n",
      "              precision    recall  f1-score   support\n",
      "\n",
      "           0       0.99      1.00      1.00       207\n",
      "           1       1.00      0.99      0.99       181\n",
      "\n",
      "    accuracy                           0.99       388\n",
      "   macro avg       1.00      0.99      0.99       388\n",
      "weighted avg       0.99      0.99      0.99       388\n",
      "\n"
     ]
    }
   ],
   "source": [
    "acc_list = cross_val_pipeline(df_paragraph,SVC(gamma='auto',kernel='linear'),metric='accuracy',use_scaler=False)"
   ]
  },
  {
   "cell_type": "code",
   "execution_count": 18,
   "metadata": {},
   "outputs": [
    {
     "name": "stdout",
     "output_type": "stream",
     "text": [
      "Accuracy | Avg: 0.99191, Std. 0.00375\n"
     ]
    }
   ],
   "source": [
    "print(f'Accuracy | Avg: {round(np.mean(acc_list),5)}, Std. {round(np.std(acc_list),5)}')"
   ]
  },
  {
   "cell_type": "markdown",
   "metadata": {},
   "source": [
    "## Random Forest"
   ]
  },
  {
   "cell_type": "code",
   "execution_count": 19,
   "metadata": {},
   "outputs": [],
   "source": [
    "from sklearn.ensemble import RandomForestClassifier"
   ]
  },
  {
   "cell_type": "code",
   "execution_count": 20,
   "metadata": {
    "scrolled": true
   },
   "outputs": [
    {
     "name": "stdout",
     "output_type": "stream",
     "text": [
      "              precision    recall  f1-score   support\n",
      "\n",
      "           0       0.99      1.00      1.00       176\n",
      "           1       1.00      1.00      1.00       213\n",
      "\n",
      "    accuracy                           1.00       389\n",
      "   macro avg       1.00      1.00      1.00       389\n",
      "weighted avg       1.00      1.00      1.00       389\n",
      "\n",
      "              precision    recall  f1-score   support\n",
      "\n",
      "           0       0.99      0.99      0.99       198\n",
      "           1       0.99      0.99      0.99       191\n",
      "\n",
      "    accuracy                           0.99       389\n",
      "   macro avg       0.99      0.99      0.99       389\n",
      "weighted avg       0.99      0.99      0.99       389\n",
      "\n",
      "              precision    recall  f1-score   support\n",
      "\n",
      "           0       0.99      1.00      0.99       189\n",
      "           1       1.00      0.99      0.99       200\n",
      "\n",
      "    accuracy                           0.99       389\n",
      "   macro avg       0.99      0.99      0.99       389\n",
      "weighted avg       0.99      0.99      0.99       389\n",
      "\n",
      "              precision    recall  f1-score   support\n",
      "\n",
      "           0       1.00      1.00      1.00       196\n",
      "           1       1.00      1.00      1.00       192\n",
      "\n",
      "    accuracy                           1.00       388\n",
      "   macro avg       1.00      1.00      1.00       388\n",
      "weighted avg       1.00      1.00      1.00       388\n",
      "\n",
      "              precision    recall  f1-score   support\n",
      "\n",
      "           0       0.99      0.99      0.99       188\n",
      "           1       0.99      0.99      0.99       200\n",
      "\n",
      "    accuracy                           0.99       388\n",
      "   macro avg       0.99      0.99      0.99       388\n",
      "weighted avg       0.99      0.99      0.99       388\n",
      "\n",
      "              precision    recall  f1-score   support\n",
      "\n",
      "           0       0.99      0.99      0.99       193\n",
      "           1       0.99      0.99      0.99       195\n",
      "\n",
      "    accuracy                           0.99       388\n",
      "   macro avg       0.99      0.99      0.99       388\n",
      "weighted avg       0.99      0.99      0.99       388\n",
      "\n",
      "              precision    recall  f1-score   support\n",
      "\n",
      "           0       1.00      1.00      1.00       207\n",
      "           1       1.00      0.99      1.00       181\n",
      "\n",
      "    accuracy                           1.00       388\n",
      "   macro avg       1.00      1.00      1.00       388\n",
      "weighted avg       1.00      1.00      1.00       388\n",
      "\n"
     ]
    }
   ],
   "source": [
    "acc_list = cross_val_pipeline(df_paragraph,RandomForestClassifier(random_state=0,n_estimators=100),metric='accuracy',use_scaler=False)"
   ]
  },
  {
   "cell_type": "code",
   "execution_count": 21,
   "metadata": {},
   "outputs": [
    {
     "name": "stdout",
     "output_type": "stream",
     "text": [
      "Accuracy | Avg: 0.99559, Std. 0.00265\n"
     ]
    }
   ],
   "source": [
    "print(f'Accuracy | Avg: {round(np.mean(acc_list),5)}, Std. {round(np.std(acc_list),5)}')"
   ]
  },
  {
   "cell_type": "markdown",
   "metadata": {},
   "source": [
    "## XGBoost"
   ]
  },
  {
   "cell_type": "code",
   "execution_count": 22,
   "metadata": {},
   "outputs": [],
   "source": [
    "from sklearn.ensemble import GradientBoostingClassifier"
   ]
  },
  {
   "cell_type": "code",
   "execution_count": 23,
   "metadata": {
    "scrolled": true
   },
   "outputs": [
    {
     "name": "stdout",
     "output_type": "stream",
     "text": [
      "              precision    recall  f1-score   support\n",
      "\n",
      "           0       0.99      1.00      1.00       176\n",
      "           1       1.00      1.00      1.00       213\n",
      "\n",
      "    accuracy                           1.00       389\n",
      "   macro avg       1.00      1.00      1.00       389\n",
      "weighted avg       1.00      1.00      1.00       389\n",
      "\n",
      "              precision    recall  f1-score   support\n",
      "\n",
      "           0       0.99      0.99      0.99       198\n",
      "           1       0.99      0.99      0.99       191\n",
      "\n",
      "    accuracy                           0.99       389\n",
      "   macro avg       0.99      0.99      0.99       389\n",
      "weighted avg       0.99      0.99      0.99       389\n",
      "\n",
      "              precision    recall  f1-score   support\n",
      "\n",
      "           0       0.99      1.00      0.99       189\n",
      "           1       1.00      0.99      0.99       200\n",
      "\n",
      "    accuracy                           0.99       389\n",
      "   macro avg       0.99      0.99      0.99       389\n",
      "weighted avg       0.99      0.99      0.99       389\n",
      "\n",
      "              precision    recall  f1-score   support\n",
      "\n",
      "           0       1.00      0.99      1.00       196\n",
      "           1       0.99      1.00      1.00       192\n",
      "\n",
      "    accuracy                           1.00       388\n",
      "   macro avg       1.00      1.00      1.00       388\n",
      "weighted avg       1.00      1.00      1.00       388\n",
      "\n",
      "              precision    recall  f1-score   support\n",
      "\n",
      "           0       0.99      0.99      0.99       188\n",
      "           1       0.99      0.99      0.99       200\n",
      "\n",
      "    accuracy                           0.99       388\n",
      "   macro avg       0.99      0.99      0.99       388\n",
      "weighted avg       0.99      0.99      0.99       388\n",
      "\n",
      "              precision    recall  f1-score   support\n",
      "\n",
      "           0       0.99      0.98      0.99       193\n",
      "           1       0.98      0.99      0.99       195\n",
      "\n",
      "    accuracy                           0.99       388\n",
      "   macro avg       0.99      0.99      0.99       388\n",
      "weighted avg       0.99      0.99      0.99       388\n",
      "\n",
      "              precision    recall  f1-score   support\n",
      "\n",
      "           0       1.00      1.00      1.00       207\n",
      "           1       1.00      0.99      1.00       181\n",
      "\n",
      "    accuracy                           1.00       388\n",
      "   macro avg       1.00      1.00      1.00       388\n",
      "weighted avg       1.00      1.00      1.00       388\n",
      "\n"
     ]
    }
   ],
   "source": [
    "acc_list = cross_val_pipeline(df_paragraph,GradientBoostingClassifier(random_state=0,n_estimators=100,learning_rate=0.15),metric='accuracy',use_scaler=False)"
   ]
  },
  {
   "cell_type": "code",
   "execution_count": 24,
   "metadata": {},
   "outputs": [
    {
     "name": "stdout",
     "output_type": "stream",
     "text": [
      "Accuracy | Avg: 0.99411, Std. 0.00329\n"
     ]
    }
   ],
   "source": [
    "print(f'Accuracy | Avg: {round(np.mean(acc_list),5)}, Std. {round(np.std(acc_list),5)}')"
   ]
  },
  {
   "cell_type": "markdown",
   "metadata": {},
   "source": [
    "# Hold-Out Prediction"
   ]
  },
  {
   "cell_type": "code",
   "execution_count": 25,
   "metadata": {},
   "outputs": [],
   "source": [
    "from sklearn.ensemble import RandomForestClassifier"
   ]
  },
  {
   "cell_type": "code",
   "execution_count": 26,
   "metadata": {},
   "outputs": [
    {
     "name": "stdout",
     "output_type": "stream",
     "text": [
      "              precision    recall  f1-score   support\n",
      "\n",
      "           0       1.00      1.00      1.00       337\n",
      "           1       1.00      1.00      1.00       343\n",
      "\n",
      "    accuracy                           1.00       680\n",
      "   macro avg       1.00      1.00      1.00       680\n",
      "weighted avg       1.00      1.00      1.00       680\n",
      "\n"
     ]
    }
   ],
   "source": [
    "y_test,y_pred,fitted_model = run_pipeline(df_paragraph,df_paragraph_test,\n",
    "                                         RandomForestClassifier(random_state=0,n_estimators=100),\n",
    "                                         use_scaler=False,return_model=True)\n",
    "print(classification_report(y_test, y_pred))"
   ]
  },
  {
   "cell_type": "code",
   "execution_count": 27,
   "metadata": {},
   "outputs": [
    {
     "data": {
      "text/plain": [
       "0.9970588235294118"
      ]
     },
     "execution_count": 27,
     "metadata": {},
     "output_type": "execute_result"
    }
   ],
   "source": [
    "classification_report(y_test, y_pred,output_dict=True)['accuracy']"
   ]
  },
  {
   "cell_type": "code",
   "execution_count": 28,
   "metadata": {},
   "outputs": [
    {
     "data": {
      "text/plain": [
       "0.9970585945272556"
      ]
     },
     "execution_count": 28,
     "metadata": {},
     "output_type": "execute_result"
    }
   ],
   "source": [
    "classification_report(y_test, y_pred,output_dict=True)['macro avg']['f1-score']"
   ]
  },
  {
   "cell_type": "code",
   "execution_count": null,
   "metadata": {},
   "outputs": [],
   "source": []
  },
  {
   "cell_type": "code",
   "execution_count": 29,
   "metadata": {},
   "outputs": [],
   "source": [
    "import pickle"
   ]
  },
  {
   "cell_type": "code",
   "execution_count": 30,
   "metadata": {},
   "outputs": [
    {
     "data": {
      "text/plain": [
       "RandomForestClassifier(bootstrap=True, ccp_alpha=0.0, class_weight=None,\n",
       "                       criterion='gini', max_depth=None, max_features='auto',\n",
       "                       max_leaf_nodes=None, max_samples=None,\n",
       "                       min_impurity_decrease=0.0, min_impurity_split=None,\n",
       "                       min_samples_leaf=1, min_samples_split=2,\n",
       "                       min_weight_fraction_leaf=0.0, n_estimators=100,\n",
       "                       n_jobs=None, oob_score=False, random_state=0, verbose=0,\n",
       "                       warm_start=False)"
      ]
     },
     "execution_count": 30,
     "metadata": {},
     "output_type": "execute_result"
    }
   ],
   "source": [
    "fitted_model"
   ]
  },
  {
   "cell_type": "code",
   "execution_count": 31,
   "metadata": {},
   "outputs": [],
   "source": [
    "pickle.dump(fitted_model, open('../model/en_ver/classic_ml_model.pkl', 'wb'))"
   ]
  },
  {
   "cell_type": "code",
   "execution_count": 32,
   "metadata": {},
   "outputs": [],
   "source": [
    "loaded_model = pickle.load(open('../model/en_ver/classic_ml_model.pkl', 'rb'))"
   ]
  },
  {
   "cell_type": "code",
   "execution_count": 33,
   "metadata": {},
   "outputs": [
    {
     "name": "stdout",
     "output_type": "stream",
     "text": [
      "              precision    recall  f1-score   support\n",
      "\n",
      "           0       1.00      1.00      1.00       337\n",
      "           1       1.00      1.00      1.00       343\n",
      "\n",
      "    accuracy                           1.00       680\n",
      "   macro avg       1.00      1.00      1.00       680\n",
      "weighted avg       1.00      1.00      1.00       680\n",
      "\n"
     ]
    }
   ],
   "source": [
    "y_test,y_pred = run_pipeline(df_paragraph,df_paragraph_test,\n",
    "                             loaded_model,\n",
    "                             use_scaler=False,return_model=False,inference_mode=True)\n",
    "print(classification_report(y_test, y_pred))"
   ]
  }
 ],
 "metadata": {
  "kernelspec": {
   "display_name": "Python [conda env:test_env]",
   "language": "python",
   "name": "conda-env-test_env-py"
  },
  "language_info": {
   "codemirror_mode": {
    "name": "ipython",
    "version": 3
   },
   "file_extension": ".py",
   "mimetype": "text/x-python",
   "name": "python",
   "nbconvert_exporter": "python",
   "pygments_lexer": "ipython3",
   "version": "3.6.12"
  }
 },
 "nbformat": 4,
 "nbformat_minor": 4
}
