{
 "cells": [
  {
   "cell_type": "markdown",
   "id": "317f7412",
   "metadata": {},
   "source": [
    "Rather than developing new pipeline for docx-to-text parser, it's more efficient if we just convert the .docx file into .pdf, then use the same pdf-to-text pipeline has been built\n",
    "\n",
    "References: https://michalzalecki.com/converting-docx-to-pdf-using-python/"
   ]
  },
  {
   "cell_type": "code",
   "execution_count": null,
   "id": "1b684b5f",
   "metadata": {},
   "outputs": [],
   "source": [
    "# sudo apt-get install -y libreoffice"
   ]
  },
  {
   "cell_type": "code",
   "execution_count": 1,
   "id": "59f29b80",
   "metadata": {},
   "outputs": [],
   "source": [
    "import sys\n",
    "import subprocess\n",
    "import re\n",
    "\n",
    "\n",
    "def docx_to_pdf(folder, source, timeout=None):\n",
    "    args = [libreoffice_exec(), '--headless', '--convert-to', 'pdf', '--outdir', folder, source]\n",
    "\n",
    "    process = subprocess.run(args, stdout=subprocess.PIPE, stderr=subprocess.PIPE, timeout=timeout)\n",
    "    filename = re.search('-> (.*?) using filter', process.stdout.decode())\n",
    "\n",
    "    if filename is None:\n",
    "        raise LibreOfficeError(process.stdout.decode())\n",
    "    else:\n",
    "        return filename.group(1)\n",
    "\n",
    "\n",
    "def libreoffice_exec():\n",
    "    # TODO: Provide support for more platforms\n",
    "    if sys.platform == 'darwin':\n",
    "        return '/Applications/LibreOffice.app/Contents/MacOS/soffice'\n",
    "    return 'libreoffice'\n",
    "\n",
    "\n",
    "class LibreOfficeError(Exception):\n",
    "    def __init__(self, output):\n",
    "        self.output = output"
   ]
  },
  {
   "cell_type": "code",
   "execution_count": 8,
   "id": "d0be41a0",
   "metadata": {},
   "outputs": [
    {
     "data": {
      "text/plain": [
       "'/mnt/c/users/User/Desktop/practisee_plagiarism/data/docx_to_pdf/essay_3.pdf'"
      ]
     },
     "execution_count": 8,
     "metadata": {},
     "output_type": "execute_result"
    }
   ],
   "source": [
    "docx_to_pdf('data/docx_to_pdf','data/docx_files/essay_1.docx')\n",
    "docx_to_pdf('data/docx_to_pdf','data/docx_files/essay_1_similar.docx')\n",
    "docx_to_pdf('data/docx_to_pdf','data/docx_files/essay_2.docx')\n",
    "docx_to_pdf('data/docx_to_pdf','data/docx_files/essay_2_similar.docx')\n",
    "docx_to_pdf('data/docx_to_pdf','data/docx_files/essay_3.docx')"
   ]
  },
  {
   "cell_type": "code",
   "execution_count": 9,
   "id": "c770695e",
   "metadata": {},
   "outputs": [
    {
     "data": {
      "text/plain": [
       "'/mnt/c/users/User/Desktop/practisee_plagiarism/data/doc_to_pdf/essay_3.pdf'"
      ]
     },
     "execution_count": 9,
     "metadata": {},
     "output_type": "execute_result"
    }
   ],
   "source": [
    "docx_to_pdf('data/doc_to_pdf','data/doc_files/essay_1.doc')\n",
    "docx_to_pdf('data/doc_to_pdf','data/doc_files/essay_1_similar.doc')\n",
    "docx_to_pdf('data/doc_to_pdf','data/doc_files/essay_2.doc')\n",
    "docx_to_pdf('data/doc_to_pdf','data/doc_files/essay_2_similar.doc')\n",
    "docx_to_pdf('data/doc_to_pdf','data/doc_files/essay_3.doc')"
   ]
  }
 ],
 "metadata": {
  "kernelspec": {
   "display_name": "Python [conda env:practisee_plagiarism] *",
   "language": "python",
   "name": "conda-env-practisee_plagiarism-py"
  },
  "language_info": {
   "codemirror_mode": {
    "name": "ipython",
    "version": 3
   },
   "file_extension": ".py",
   "mimetype": "text/x-python",
   "name": "python",
   "nbconvert_exporter": "python",
   "pygments_lexer": "ipython3",
   "version": "3.6.12"
  }
 },
 "nbformat": 4,
 "nbformat_minor": 5
}
