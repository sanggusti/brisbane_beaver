{
 "cells": [
  {
   "cell_type": "markdown",
   "id": "7a8f60c1",
   "metadata": {},
   "source": [
    "Author: Louis Owen (https://louisowen6.github.io/)"
   ]
  },
  {
   "cell_type": "markdown",
   "id": "8a29fcc1",
   "metadata": {},
   "source": [
    "# PDF"
   ]
  },
  {
   "cell_type": "code",
   "execution_count": 32,
   "id": "b22e8ab9",
   "metadata": {},
   "outputs": [
    {
     "name": "stdout",
     "output_type": "stream",
     "text": [
      "Collecting pdfminer3k\n",
      "  Downloading pdfminer3k-1.3.4-py3-none-any.whl (100 kB)\n",
      "\u001b[K     |████████████████████████████████| 100 kB 2.2 MB/s ta 0:00:01\n",
      "\u001b[?25hCollecting ply\n",
      "  Downloading ply-3.11-py2.py3-none-any.whl (49 kB)\n",
      "\u001b[K     |████████████████████████████████| 49 kB 3.2 MB/s eta 0:00:011\n",
      "\u001b[?25hInstalling collected packages: ply, pdfminer3k\n",
      "Successfully installed pdfminer3k-1.3.4 ply-3.11\n"
     ]
    }
   ],
   "source": [
    "!pip install pdfminer3k==1.3.4"
   ]
  },
  {
   "cell_type": "code",
   "execution_count": null,
   "id": "46edbd1e",
   "metadata": {},
   "outputs": [],
   "source": [
    "from pdfminer.pdfparser import PDFParser\n",
    "from pdfminer.pdfparser import PDFDocument\n",
    "from datetime import datetime"
   ]
  },
  {
   "cell_type": "code",
   "execution_count": 53,
   "id": "6b4f3770",
   "metadata": {},
   "outputs": [],
   "source": [
    "def getPDFMeta(path):\n",
    "    parser = PDFParser(open(path, 'rb'))\n",
    "    doc = PDFDocument(parser)\n",
    "    parser.set_document(doc)\n",
    "    doc.set_parser(parser)\n",
    "    \n",
    "    metadata_dict = {}\n",
    "    if len(doc.info) > 0:\n",
    "        metadata_dict_temp = doc.info[0]\n",
    "\n",
    "        metadata_dict['author'] = metadata_dict_temp['Author']\n",
    "        metadata_dict['created'] = datetime.strptime(metadata_dict_temp['CreationDate'].split(':')[1].replace(\"'\", \"\"), \"%Y%m%d%H%M%S%z\").replace(tzinfo=None)\n",
    "        metadata_dict['modified'] = metadata_dict['created'] if metadata_dict_temp['ModDate']=='' else datetime.strptime(metadata_dict_temp['ModDate'].split(':')[1].replace(\"'\", \"\"), \"%Y%m%d%H%M%S%z\").replace(tzinfo=None)\n",
    "        metadata_dict['subject'] = metadata_dict_temp['Subject']\n",
    "        metadata_dict['title'] = metadata_dict_temp['Title']\n",
    "        \n",
    "    return metadata_dict"
   ]
  },
  {
   "cell_type": "code",
   "execution_count": 54,
   "id": "fcefb01e",
   "metadata": {},
   "outputs": [
    {
     "name": "stderr",
     "output_type": "stream",
     "text": [
      "WARNING:root:Cannot locate objid=135\n"
     ]
    },
    {
     "data": {
      "text/plain": [
       "{'author': 'Zagy Berian',\n",
       " 'created': datetime.datetime(2021, 4, 26, 14, 58, 55),\n",
       " 'modified': datetime.datetime(2021, 4, 26, 14, 58, 58),\n",
       " 'subject': '',\n",
       " 'title': ''}"
      ]
     },
     "execution_count": 54,
     "metadata": {},
     "output_type": "execute_result"
    }
   ],
   "source": [
    "getPDFMeta(\"data/essay_1.pdf\")"
   ]
  },
  {
   "cell_type": "code",
   "execution_count": 55,
   "id": "33e77ca8",
   "metadata": {},
   "outputs": [
    {
     "name": "stderr",
     "output_type": "stream",
     "text": [
      "WARNING:root:Cannot locate objid=58\n"
     ]
    },
    {
     "data": {
      "text/plain": [
       "{'author': 'Zagy Berian',\n",
       " 'created': datetime.datetime(2021, 4, 26, 15, 2, 55),\n",
       " 'modified': datetime.datetime(2021, 4, 26, 15, 2, 56),\n",
       " 'subject': '',\n",
       " 'title': ''}"
      ]
     },
     "execution_count": 55,
     "metadata": {},
     "output_type": "execute_result"
    }
   ],
   "source": [
    "getPDFMeta(\"data/essay_2.pdf\")"
   ]
  },
  {
   "cell_type": "markdown",
   "id": "a5f53c1b",
   "metadata": {},
   "source": [
    "# DOCX"
   ]
  },
  {
   "cell_type": "code",
   "execution_count": 7,
   "id": "f3eb93d6",
   "metadata": {},
   "outputs": [
    {
     "name": "stdout",
     "output_type": "stream",
     "text": [
      "Collecting python-docx\n",
      "  Downloading python-docx-0.8.10.tar.gz (5.5 MB)\n",
      "\u001b[K     |████████████████████████████████| 5.5 MB 472 kB/s eta 0:00:01\n",
      "\u001b[?25hCollecting lxml>=2.3.2\n",
      "  Downloading lxml-4.6.3-cp36-cp36m-manylinux2014_x86_64.whl (6.3 MB)\n",
      "\u001b[K     |████████████████████████████████| 6.3 MB 2.6 MB/s eta 0:00:01\n",
      "\u001b[?25hBuilding wheels for collected packages: python-docx\n",
      "  Building wheel for python-docx (setup.py) ... \u001b[?25ldone\n",
      "\u001b[?25h  Created wheel for python-docx: filename=python_docx-0.8.10-py3-none-any.whl size=184489 sha256=caae071045ecd1fc929516bbd79a9de3141665af21e0aaf2170ce8c75f0233d1\n",
      "  Stored in directory: /home/louisowen6/.cache/pip/wheels/83/84/21/ca046018e83edef96581a58f9dde2ac3b0d2919d624f0663d9\n",
      "Successfully built python-docx\n",
      "Installing collected packages: lxml, python-docx\n",
      "Successfully installed lxml-4.6.3 python-docx-0.8.10\n"
     ]
    }
   ],
   "source": [
    "!pip install python-docx==0.8.10"
   ]
  },
  {
   "cell_type": "code",
   "execution_count": 38,
   "id": "84ef67c0",
   "metadata": {},
   "outputs": [],
   "source": [
    "import docx\n",
    "\n",
    "def getMetaData(doc):\n",
    "    metadata = {}\n",
    "    prop = doc.core_properties\n",
    "    \n",
    "    metadata[\"author\"] = prop.author\n",
    "    metadata[\"created\"] = prop.created\n",
    "    metadata[\"modified\"] = prop.modified\n",
    "    metadata[\"subject\"] = prop.subject\n",
    "    metadata[\"title\"] = prop.title\n",
    "    return metadata"
   ]
  },
  {
   "cell_type": "code",
   "execution_count": 39,
   "id": "7553cf76",
   "metadata": {},
   "outputs": [
    {
     "data": {
      "text/plain": [
       "{'author': 'Zagy Berian',\n",
       " 'created': datetime.datetime(2021, 5, 8, 7, 39, 6),\n",
       " 'modified': datetime.datetime(2021, 5, 8, 7, 39, 6),\n",
       " 'subject': '',\n",
       " 'title': ''}"
      ]
     },
     "execution_count": 39,
     "metadata": {},
     "output_type": "execute_result"
    }
   ],
   "source": [
    "doc = docx.Document('data/docx_files/essay_1.docx')\n",
    "metadata_dict = getMetaData(doc)\n",
    "metadata_dict"
   ]
  },
  {
   "cell_type": "code",
   "execution_count": 22,
   "id": "422eebd7",
   "metadata": {},
   "outputs": [
    {
     "data": {
      "text/plain": [
       "{'author': 'Zagy Berian',\n",
       " 'created': datetime.datetime(2021, 5, 8, 7, 41, 14),\n",
       " 'modified': datetime.datetime(2021, 5, 8, 7, 41, 14),\n",
       " 'subject': '',\n",
       " 'title': ''}"
      ]
     },
     "execution_count": 22,
     "metadata": {},
     "output_type": "execute_result"
    }
   ],
   "source": [
    "doc = docx.Document('data/docx_files/essay_2.docx')\n",
    "metadata_dict = getMetaData(doc)\n",
    "metadata_dict"
   ]
  },
  {
   "cell_type": "code",
   "execution_count": null,
   "id": "ce23261d",
   "metadata": {},
   "outputs": [],
   "source": []
  }
 ],
 "metadata": {
  "kernelspec": {
   "display_name": "Python [conda env:practisee_plagiarism] *",
   "language": "python",
   "name": "conda-env-practisee_plagiarism-py"
  },
  "language_info": {
   "codemirror_mode": {
    "name": "ipython",
    "version": 3
   },
   "file_extension": ".py",
   "mimetype": "text/x-python",
   "name": "python",
   "nbconvert_exporter": "python",
   "pygments_lexer": "ipython3",
   "version": "3.6.12"
  }
 },
 "nbformat": 4,
 "nbformat_minor": 5
}
